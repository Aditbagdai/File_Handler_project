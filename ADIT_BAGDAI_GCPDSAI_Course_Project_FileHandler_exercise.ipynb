{
  "cells": [
    {
      "cell_type": "markdown",
      "metadata": {
        "id": "KEk36hiNTbfE"
      },
      "source": [
        "# Introduction\n",
        "\n",
        "Accurate and efficient management of product information is essential for the success of e-commerce businesses. This information enables informed decision-making and facilitates effective marketing strategies. However, traditional methods of handling product data may be cumbersome and prone to errors. They often involve manual entry and maintenance processes, leading to inconsistencies and inefficiencies. By harnessing the capabilities of Python programming, we can develop a solution that automates tasks such as adding, reading, updating, and deleting product information. This streamlined approach not only enhances data accuracy and reliability but also improves operational efficiency.\n",
        "\n",
        "The kind of operations that we are going to focus on have an acronym: CRUD (Create, Retrieve, Update, and Delete)."
      ]
    },
    {
      "cell_type": "markdown",
      "source": [
        "**CRUD** operations represent the four basic functions that are essential to interact with a database or a data storage system. The acronym CRUD stands for Create, Read, Update, and Delete. These operations form the foundation of most applications that store and manipulate data. Understanding CRUD is crucial for developers working on web, software, and database applications. Here's a brief overview of each operation:\n",
        "\n",
        "- **Create**: This operation is used to add new records to a database. It involves inserting data into a database table or a data structure. For example, adding a new user to a user database is a Create operation.\n",
        "\n",
        "- **Read**: The Read operation is used to retrieve or read data from a database. It involves querying the database to fetch information based on certain criteria. For example, fetching all the information about a product.\n",
        "\n",
        "- **Update**: This operation is used to modify existing data in a database. It involves updating one or more fields of a database record. For example, changing a user's email address in a user database is an Update operation.\n",
        "\n",
        "- **Delete**: The Delete operation is used to remove records from a database. It involves deleting one or more records from a database table. For example, removing a user from a user database is a Delete operation.\n",
        "\n",
        "These operations are vital for managing data effectively in any application. They allow applications to perform basic data management tasks, ensuring that the data is accurate, consistent, and accessible.\n",
        "\n"
      ],
      "metadata": {
        "id": "yAXrIqlKjthg"
      }
    },
    {
      "cell_type": "markdown",
      "metadata": {
        "id": "_bIkNbC2z8oL"
      },
      "source": [
        "# Problem Statement\n",
        "Your task is to develop a product information management system for an e-commerce platform that facilitates the creation, retrieval, updation, and deletion of product details, sales data, and descriptions.\n",
        "\n",
        "To solve this, you will first load the whole dataset into the computer's memory and provide the user's choice to choose between the CRUD operations. When the user has made a choice, you will perform the chosen operation by allowing the user to input the required information. When the user is done with his task and chooses to exit the program, you will save the new files in the same folder by overwriting the files.\n",
        "\n",
        "# Data Description\n",
        "The dataset for this project has been provided in the *filehandler_data.zip* file. It containes data about products for which the unique ID provided is the stock keeping unit or SKU for short. The ZIP file contains a structured collection of sales data and product information organized into a main folder with three key components:\n",
        "\n",
        "- **Sales Data** (*sales_data.csv*): A *CSV* file that includes sales data for various products over a 14-day period. Each row corresponds to a different product, identified by a *Product_SKU*. The columns *Day1* through *Day14* represent the sales figures for each consecutive day.\n",
        "\n",
        "- **Product Descriptions** (*product_descriptions* folder): This folder contains text files, each corresponding to a specific product identified by SKU in the filename (e.g., *description_AISJDKFJW93NJ.txt*). These files provide descriptive information about the products.\n",
        "\n",
        "- **Product Details** (*product_details* folder): This folder includes *JSON* files, again with filenames corresponding to product SKUs (e.g., *details_AISJDKFJW93NJ.json*). These files contain detailed attributes of the products, such as specifications, category, pricing, etc.\n",
        "\n",
        "This dataset is designed for analyzing daily sales performance of products, supplemented with detailed product information and descriptions to allow for a comprehensive analysis of sales trends in relation to product attributes and descriptions.\n"
      ]
    },
    {
      "cell_type": "markdown",
      "metadata": {
        "id": "TCi_8EQ_SKh2"
      },
      "source": [
        "# Outline\n",
        "The overall objective of this project is to create a system for managing product information in an e-commerce platform. The different stages involved in the process are outlined below:\n",
        "\n",
        "- Stage 1 - Setup\n",
        "    - Task 1 - Import required modules\n",
        "    - Task 2 - Load the data\n",
        "    - Task 3 - Explore the data\n",
        "- Stage 2 - Create\n",
        "    - Task 4 - Add sales data\n",
        "    - Task 5 - Add product details\n",
        "    - Task 6 - Add product description\n",
        "    - Task 7 - Create function\n",
        "- Stage 3 - Read\n",
        "    - Task 8  - Display sales data\n",
        "    - Task 9  - Display product details\n",
        "    - Task 10 - Display product descriptions\n",
        "    - Task 11 - Read function\n",
        "- Stage 4 - Update\n",
        "    - Task 12 - Update sales data\n",
        "    - Task 13 - Update product details\n",
        "    - Task 14 - Update product description\n",
        "    - Task 15 - Update function\n",
        "- Stage 5 - Delete\n",
        "    - Task 16 - Delete function\n",
        "- Stage 6 - Bringing it all together\n",
        "    - Task 17 - Save data to disk\n",
        "    - Task 18 - Create a user menu"
      ]
    },
    {
      "cell_type": "markdown",
      "metadata": {
        "id": "nSDjItPDapX4"
      },
      "source": [
        "# Stage 1 - Setup\n",
        "In this stage, you will set up the environment for this assignment by loading the required modules and files. You will explore the files by displaying their content. You will achieve all of this by completing the following three tasks:\n",
        "- Task 1 - Import required modules\n",
        "- Task 2 - Load the data\n",
        "- Task 3 - Explore the data"
      ]
    },
    {
      "cell_type": "markdown",
      "metadata": {
        "id": "7fwAly7Kc9ei"
      },
      "source": [
        "## Task 1 - Import required modules"
      ]
    },
    {
      "cell_type": "markdown",
      "metadata": {
        "id": "mWz3KDiuotgp"
      },
      "source": [
        "### Description\n",
        "In this task, you will import all the necessary modules and packages required for performing various operations in the project."
      ]
    },
    {
      "cell_type": "markdown",
      "metadata": {
        "id": "1IfJUOrG0JBZ"
      },
      "source": [
        "### Requirements\n",
        "Write code to import the following packages:\n",
        "\n",
        "- For handling raw data files\n",
        "- For working with JSON files\n",
        "- For working with CSV files\n",
        "- For printing Python data structures in an organized manner"
      ]
    },
    {
      "cell_type": "markdown",
      "metadata": {
        "id": "tDTVcD_V0WVh"
      },
      "source": [
        "### Recommendations\n",
        "- You can ask ChatGPT about the libraries that will be required to perform the given tasks.\n",
        "\n",
        "\n"
      ]
    },
    {
      "cell_type": "markdown",
      "metadata": {
        "id": "3hjXLR-lwERP"
      },
      "source": [
        "First, import the required packages."
      ]
    },
    {
      "cell_type": "code",
      "execution_count": 1,
      "metadata": {
        "id": "uKKJxfEj6o1C"
      },
      "outputs": [],
      "source": [
        "# Use this cell to import all the required packages and methods\n",
        "\n",
        "#### YOUR CODE HERE ####\n",
        "# For handling raw data files\n",
        "import os\n",
        "import zipfile\n",
        "\n",
        "# For working with JSON files\n",
        "import json\n",
        "\n",
        "# For working with CSV files\n",
        "import csv\n",
        "\n",
        "# For printing Python data structures in an organized manner\n",
        "import pprint\n"
      ]
    },
    {
      "cell_type": "markdown",
      "metadata": {
        "id": "CK1NbJlcow44"
      },
      "source": [
        "### Checklist\n",
        "\n",
        "- Imported the required packages\n"
      ]
    },
    {
      "cell_type": "markdown",
      "metadata": {
        "id": "BOLRp-Ydph2X"
      },
      "source": [
        "## Task 2 - Load the data"
      ]
    },
    {
      "cell_type": "markdown",
      "metadata": {
        "id": "n3LqSPrspl8b"
      },
      "source": [
        "### Description\n",
        "In this task, you will write a function that ensures that the necessary files are loaded into the environment. To index the data, you will use a unique identifier called SKU.\n",
        "\n",
        "This includes loading sales data from a CSV file, product details from JSON files, and product descriptions from text files. We recommend that you either use Jupyter Notebook or Google Colab to build and execute your code."
      ]
    },
    {
      "cell_type": "markdown",
      "metadata": {
        "id": "x1pJXGbJqeIy"
      },
      "source": [
        "### Requirements\n",
        "- In case you are using Google Colab,\n",
        "    - import `drive` from `google.colab` and mount your Google Drive or\n",
        "    - import `files` from `google.colab`.\n",
        "- In case you are using Jupyter Notebook, please make sure that your files and folders are all in the right place.\n",
        "- Unzip the data and save the location of the main folder in a variable called *main_folder_address*.\n",
        "- Define a function `load_data()`:\n",
        "    - The function must read\n",
        "      - Sales data from *sales_data.csv* file,\n",
        "      - Product details from JSON files in the *product_details* folder, and\n",
        "      - Product descriptions from the TXT files in *product_description* folder\n",
        "      \n",
        "    - Once the data has been loaded, it must be stored in three dictionaries, one for sales data, another for product details, and another for product descriptions.\n",
        "    - The three dictionaries should have the product SKU as keys and:\n",
        "        - In the `product_details` dictionary, the values should also be dictionaries containing detailed attributes of the products, such as specifications, category, pricing, etc.\n",
        "        - In the `sales_data` dictionary, the values should be lists consisting of the sales data from the last 14 days.\n",
        "        - In the `product_descriptions` dictionary, the values should be strings in which the product description is saved.\n",
        "    - It should have the following keyword argument:\n",
        "        - *mainfolder*: A string that describes the address of the parent data folder in the memory.\n",
        "    - The functions should return a tuple containing three dictionaries:\n",
        "        - `product_details`: A dictionary of dictionaries where keys are product SKUs (extracted from the filenames of the JSON files) and values are product details loaded from the JSON files.\n",
        "        - `sales_data`: A dictionary where keys are product SKUs (from the CSV file) and values are lists of quantities corresponding to sales data.\n",
        "        - `product_descriptions`: A dictionary where keys are product SKUs (extracted from the filenames of the TXT files)\n",
        "        and values are product descriptions loaded from TXT files."
      ]
    },
    {
      "cell_type": "markdown",
      "metadata": {
        "id": "5lfU3Pq-67sn"
      },
      "source": [
        "### Recommendations\n",
        "- If you are using Google Colab:\n",
        "  - Upload the zip file containing the files in Google Drive or upload the zip file directly to the Google Colab runtime.\n",
        "    - Then unzip it using `unzip` shell command which you can access using the `!` (exclamation mark) character.\n",
        "  - Once you have mounted Google Drive into your Google Colab VM or uploaded the zip file directly to the Google Colab runtime.\n",
        "    - You can use the *Files* section on the left to access the filesystem. You can right click on a file or folder to copy its path. This will be useful while specifying the source file in the `unzip` shell command.\n",
        "  - You will need to pass the location of the main folder into the `load_data()` function to load *sales_data.csv* file and the files in *product_details* and *product_description* folders.\n",
        "- Inside the `load_data()` function, you can:\n",
        "    - use the `csv.DictReader()` method to read the *sales_data.csv* file.\n",
        "    - use the `os.listdir()` method to obtain the names of the files and folders within a particular folder.\n",
        "    - use `os.path.join()` to construct file paths.\n",
        "    - use the `json.load()` method to load JSON files.\n",
        "    - use the `open()` function to load the text files.\n",
        "-  As you need to use the SKUs as keys in all three dictionaries, you can ask ChatGPT on how to extract the SKU values in all three cases.\n",
        "    - In *sales_data.csv* they have been saved in a column titled *Product_SKU*\n",
        "    - For the other two, you need to extract the SKU from the file name. Try using the in-built string function `split()`.\n",
        "    - Provide the data description and requirements to ChatGPT along with the libraries that you are using and ask it to generate code for the function.\n",
        "    - If you get stuck somewhere, you can ask ChatGPT to explain the code to you and you can make edits as required.\n"
      ]
    },
    {
      "cell_type": "markdown",
      "metadata": {
        "id": "VQRLEoiZ-QxY"
      },
      "source": [
        "First, if you are using Google Colab, mount Google Drive to your VM. If not, skip and comment out this cell."
      ]
    },
    {
      "cell_type": "code",
      "execution_count": null,
      "metadata": {
        "id": "SKYzyofLO8KU"
      },
      "outputs": [],
      "source": [
        "# Use this cell to write your code for mounting your Google Drive\n",
        "# Note: If you are not using Google Colab, please skip this cell\n",
        "\n",
        "# In case you are using Google Colab, mount your Google Drive before moving on\n",
        "# from google.colab import drive\n",
        "# drive.mount('/content/drive', force_remount = True)"
      ]
    },
    {
      "cell_type": "markdown",
      "metadata": {
        "id": "EChyWcmq-5Vi"
      },
      "source": [
        "If you are using Colab, after mounting the drive you need to unzip the files to extract all the images inside it. Note that you don't need to perform this step more than once, so we recommend that you comment out your code for this step once it has executed."
      ]
    },
    {
      "cell_type": "code",
      "execution_count": null,
      "metadata": {
        "id": "-6mxIHoPO7Um"
      },
      "outputs": [],
      "source": [
        "# Use this cell to write your code for unzipping the data and storing it in Google Drive\n",
        "# Note: If you are not using Google Colab, please skip this cell\n",
        "# Note: You can comment out this cell after running it once\n",
        "\n",
        "# Unzip your files and store them in your drive\n",
        "# !unzip /content/drive/MyDrive/File_Handler_Project/filehandler_data.zip"
      ]
    },
    {
      "cell_type": "markdown",
      "metadata": {
        "id": "LeX06K8AFxnC"
      },
      "source": [
        "You can also upload files to the Google Colab runtime environment without mounting Google Drive. In this case so you will always be in the same *path/directory* inside your Google Colab runtime. Files will be saved into your runtime and not into your Google Drive.\n",
        "The files you uploaded will be available until you delete the runtime."
      ]
    },
    {
      "cell_type": "code",
      "execution_count": 2,
      "metadata": {
        "id": "eupwHKLZEE3b",
        "colab": {
          "base_uri": "https://localhost:8080/",
          "height": 73
        },
        "outputId": "cc47d8fe-c7a1-44b9-d5a7-4617cf4cc3fd"
      },
      "outputs": [
        {
          "output_type": "display_data",
          "data": {
            "text/plain": [
              "<IPython.core.display.HTML object>"
            ],
            "text/html": [
              "\n",
              "     <input type=\"file\" id=\"files-b71662c2-b743-45db-9a97-52975f32dc02\" name=\"files[]\" multiple disabled\n",
              "        style=\"border:none\" />\n",
              "     <output id=\"result-b71662c2-b743-45db-9a97-52975f32dc02\">\n",
              "      Upload widget is only available when the cell has been executed in the\n",
              "      current browser session. Please rerun this cell to enable.\n",
              "      </output>\n",
              "      <script>// Copyright 2017 Google LLC\n",
              "//\n",
              "// Licensed under the Apache License, Version 2.0 (the \"License\");\n",
              "// you may not use this file except in compliance with the License.\n",
              "// You may obtain a copy of the License at\n",
              "//\n",
              "//      http://www.apache.org/licenses/LICENSE-2.0\n",
              "//\n",
              "// Unless required by applicable law or agreed to in writing, software\n",
              "// distributed under the License is distributed on an \"AS IS\" BASIS,\n",
              "// WITHOUT WARRANTIES OR CONDITIONS OF ANY KIND, either express or implied.\n",
              "// See the License for the specific language governing permissions and\n",
              "// limitations under the License.\n",
              "\n",
              "/**\n",
              " * @fileoverview Helpers for google.colab Python module.\n",
              " */\n",
              "(function(scope) {\n",
              "function span(text, styleAttributes = {}) {\n",
              "  const element = document.createElement('span');\n",
              "  element.textContent = text;\n",
              "  for (const key of Object.keys(styleAttributes)) {\n",
              "    element.style[key] = styleAttributes[key];\n",
              "  }\n",
              "  return element;\n",
              "}\n",
              "\n",
              "// Max number of bytes which will be uploaded at a time.\n",
              "const MAX_PAYLOAD_SIZE = 100 * 1024;\n",
              "\n",
              "function _uploadFiles(inputId, outputId) {\n",
              "  const steps = uploadFilesStep(inputId, outputId);\n",
              "  const outputElement = document.getElementById(outputId);\n",
              "  // Cache steps on the outputElement to make it available for the next call\n",
              "  // to uploadFilesContinue from Python.\n",
              "  outputElement.steps = steps;\n",
              "\n",
              "  return _uploadFilesContinue(outputId);\n",
              "}\n",
              "\n",
              "// This is roughly an async generator (not supported in the browser yet),\n",
              "// where there are multiple asynchronous steps and the Python side is going\n",
              "// to poll for completion of each step.\n",
              "// This uses a Promise to block the python side on completion of each step,\n",
              "// then passes the result of the previous step as the input to the next step.\n",
              "function _uploadFilesContinue(outputId) {\n",
              "  const outputElement = document.getElementById(outputId);\n",
              "  const steps = outputElement.steps;\n",
              "\n",
              "  const next = steps.next(outputElement.lastPromiseValue);\n",
              "  return Promise.resolve(next.value.promise).then((value) => {\n",
              "    // Cache the last promise value to make it available to the next\n",
              "    // step of the generator.\n",
              "    outputElement.lastPromiseValue = value;\n",
              "    return next.value.response;\n",
              "  });\n",
              "}\n",
              "\n",
              "/**\n",
              " * Generator function which is called between each async step of the upload\n",
              " * process.\n",
              " * @param {string} inputId Element ID of the input file picker element.\n",
              " * @param {string} outputId Element ID of the output display.\n",
              " * @return {!Iterable<!Object>} Iterable of next steps.\n",
              " */\n",
              "function* uploadFilesStep(inputId, outputId) {\n",
              "  const inputElement = document.getElementById(inputId);\n",
              "  inputElement.disabled = false;\n",
              "\n",
              "  const outputElement = document.getElementById(outputId);\n",
              "  outputElement.innerHTML = '';\n",
              "\n",
              "  const pickedPromise = new Promise((resolve) => {\n",
              "    inputElement.addEventListener('change', (e) => {\n",
              "      resolve(e.target.files);\n",
              "    });\n",
              "  });\n",
              "\n",
              "  const cancel = document.createElement('button');\n",
              "  inputElement.parentElement.appendChild(cancel);\n",
              "  cancel.textContent = 'Cancel upload';\n",
              "  const cancelPromise = new Promise((resolve) => {\n",
              "    cancel.onclick = () => {\n",
              "      resolve(null);\n",
              "    };\n",
              "  });\n",
              "\n",
              "  // Wait for the user to pick the files.\n",
              "  const files = yield {\n",
              "    promise: Promise.race([pickedPromise, cancelPromise]),\n",
              "    response: {\n",
              "      action: 'starting',\n",
              "    }\n",
              "  };\n",
              "\n",
              "  cancel.remove();\n",
              "\n",
              "  // Disable the input element since further picks are not allowed.\n",
              "  inputElement.disabled = true;\n",
              "\n",
              "  if (!files) {\n",
              "    return {\n",
              "      response: {\n",
              "        action: 'complete',\n",
              "      }\n",
              "    };\n",
              "  }\n",
              "\n",
              "  for (const file of files) {\n",
              "    const li = document.createElement('li');\n",
              "    li.append(span(file.name, {fontWeight: 'bold'}));\n",
              "    li.append(span(\n",
              "        `(${file.type || 'n/a'}) - ${file.size} bytes, ` +\n",
              "        `last modified: ${\n",
              "            file.lastModifiedDate ? file.lastModifiedDate.toLocaleDateString() :\n",
              "                                    'n/a'} - `));\n",
              "    const percent = span('0% done');\n",
              "    li.appendChild(percent);\n",
              "\n",
              "    outputElement.appendChild(li);\n",
              "\n",
              "    const fileDataPromise = new Promise((resolve) => {\n",
              "      const reader = new FileReader();\n",
              "      reader.onload = (e) => {\n",
              "        resolve(e.target.result);\n",
              "      };\n",
              "      reader.readAsArrayBuffer(file);\n",
              "    });\n",
              "    // Wait for the data to be ready.\n",
              "    let fileData = yield {\n",
              "      promise: fileDataPromise,\n",
              "      response: {\n",
              "        action: 'continue',\n",
              "      }\n",
              "    };\n",
              "\n",
              "    // Use a chunked sending to avoid message size limits. See b/62115660.\n",
              "    let position = 0;\n",
              "    do {\n",
              "      const length = Math.min(fileData.byteLength - position, MAX_PAYLOAD_SIZE);\n",
              "      const chunk = new Uint8Array(fileData, position, length);\n",
              "      position += length;\n",
              "\n",
              "      const base64 = btoa(String.fromCharCode.apply(null, chunk));\n",
              "      yield {\n",
              "        response: {\n",
              "          action: 'append',\n",
              "          file: file.name,\n",
              "          data: base64,\n",
              "        },\n",
              "      };\n",
              "\n",
              "      let percentDone = fileData.byteLength === 0 ?\n",
              "          100 :\n",
              "          Math.round((position / fileData.byteLength) * 100);\n",
              "      percent.textContent = `${percentDone}% done`;\n",
              "\n",
              "    } while (position < fileData.byteLength);\n",
              "  }\n",
              "\n",
              "  // All done.\n",
              "  yield {\n",
              "    response: {\n",
              "      action: 'complete',\n",
              "    }\n",
              "  };\n",
              "}\n",
              "\n",
              "scope.google = scope.google || {};\n",
              "scope.google.colab = scope.google.colab || {};\n",
              "scope.google.colab._files = {\n",
              "  _uploadFiles,\n",
              "  _uploadFilesContinue,\n",
              "};\n",
              "})(self);\n",
              "</script> "
            ]
          },
          "metadata": {}
        },
        {
          "output_type": "stream",
          "name": "stdout",
          "text": [
            "Saving mainfolder.zip to mainfolder.zip\n"
          ]
        }
      ],
      "source": [
        "# Use this cell to write your code for uploading the zip file\n",
        "# Note: If you are not using Google Colab, please skip this cell\n",
        "\n",
        "# Upload the zip file to Google Colab runtime\n",
        "from google.colab import files\n",
        "uploaded = files.upload()"
      ]
    },
    {
      "cell_type": "markdown",
      "metadata": {
        "id": "ze-qtCwAGlhp"
      },
      "source": [
        "After uploading your zip file to Google Colab runtime you need to unzip the files to extract all the files inside it."
      ]
    },
    {
      "cell_type": "code",
      "execution_count": 3,
      "metadata": {
        "id": "JpKP8qUVuC2n",
        "colab": {
          "base_uri": "https://localhost:8080/"
        },
        "outputId": "7dba057e-fc63-4010-d205-4dfed2bf051e"
      },
      "outputs": [
        {
          "output_type": "stream",
          "name": "stdout",
          "text": [
            "Archive:  mainfolder.zip\n",
            "   creating: mainfolder/product_description/\n",
            "  inflating: mainfolder/product_description/description_AISJDKFJW93NJ.txt  \n",
            "  inflating: mainfolder/product_description/description_DJKFIEI432FIE.txt  \n",
            "  inflating: mainfolder/product_description/description_GGOENEBJ079499.txt  \n",
            "  inflating: mainfolder/product_description/description_HJSKNWK429DJE.txt  \n",
            "  inflating: mainfolder/product_description/description_JFKL3940NFKLJ.txt  \n",
            "  inflating: mainfolder/product_description/description_LKDFJ49LSDJKL.txt  \n",
            "  inflating: mainfolder/product_description/description_MWKDI3JFK39SL.txt  \n",
            "  inflating: mainfolder/product_description/description_NEKFJOWE9FDIW.txt  \n",
            "  inflating: mainfolder/product_description/description_OWEJL398FWJLK.txt  \n",
            "  inflating: mainfolder/product_description/description_XPLFJW2490XJN.txt  \n",
            "   creating: mainfolder/product_details/\n",
            "  inflating: mainfolder/product_details/details_AISJDKFJW93NJ.json  \n",
            "  inflating: mainfolder/product_details/details_DJKFIEI432FIE.json  \n",
            "  inflating: mainfolder/product_details/details_GGOENEBJ079499.json  \n",
            "  inflating: mainfolder/product_details/details_HJSKNWK429DJE.json  \n",
            "  inflating: mainfolder/product_details/details_JFKL3940NFKLJ.json  \n",
            "  inflating: mainfolder/product_details/details_LKDFJ49LSDJKL.json  \n",
            "  inflating: mainfolder/product_details/details_MWKDI3JFK39SL.json  \n",
            "  inflating: mainfolder/product_details/details_NEKFJOWE9FDIW.json  \n",
            "  inflating: mainfolder/product_details/details_OWEJL398FWJLK.json  \n",
            "  inflating: mainfolder/product_details/details_XPLFJW2490XJN.json  \n",
            "  inflating: mainfolder/sales_data.csv  \n"
          ]
        }
      ],
      "source": [
        "# Use this cell to write your code for unzipping the data and storing it in Google Colab runtime\n",
        "# Note: If you are not using Google Colab, please skip this cell\n",
        "# Note: You can comment out this cell after running it once\n",
        "\n",
        "# Unzip your files and store them in Google Colab runtime\n",
        "!unzip mainfolder.zip"
      ]
    },
    {
      "cell_type": "code",
      "source": [
        "main_folder_address = \"/content/mainfolder\""
      ],
      "metadata": {
        "id": "1tmfJX-IKoUv"
      },
      "execution_count": 4,
      "outputs": []
    },
    {
      "cell_type": "markdown",
      "metadata": {
        "id": "DiYKN_QJlRBE"
      },
      "source": [
        "Now define the `load_data()` function."
      ]
    },
    {
      "cell_type": "code",
      "execution_count": 5,
      "metadata": {
        "id": "lh8skyqy7Qb6"
      },
      "outputs": [],
      "source": [
        "def load_data(main_folder):\n",
        "  \"\"\"\n",
        "  Load product details, sales data, and product descriptions from files within the specified zip file.\n",
        "\n",
        "  Args:\n",
        "      zip_file (str): The path to the zip file containing the dataset.\n",
        "\n",
        "  Returns:\n",
        "      tuple: A tuple containing three dictionaries:\n",
        "          - product_details (dict): A dictionary of dictionaries where keys are product( SKUs\n",
        "            and values are product details loaded from the JSON files.extracted from the filenames of the JSON files)\n",
        "          - sales_data (dict): A dictionary where keys are product SKUs (from the CSV file) and values are product details loaded from the JSON files.\n",
        "          - product_descriptions (dict): A dictionary where keys are product SKUs (extracted from the filenames of the TXT files)\n",
        "            and values are product descriptions loaded from TXT files.\n",
        "  \"\"\"\n",
        "  #### YOUR CODE HERE ####\n",
        "\n",
        "  #1) Defining the path for product_details file:-\n",
        "\n",
        "  product_details_path = os.path.join(main_folder,\"product_details\")\n",
        "  list_prod_details = os.listdir(product_details_path) # Creating a list to extract the SKU from the file names of product_details file\n",
        "\n",
        "  #2) Creating dictionary for product_details(key : SKU , Value: product details which are in JSON format):-\n",
        "\n",
        "  product_details = {\n",
        "      prod.replace(\"details_\",\"\").replace(\".json\",\"\"): json.load(open(os.path.join( product_details_path , prod ), mode = 'r'))\n",
        "      for prod in list_prod_details if prod != \".ipynb_checkpoints\"\n",
        "  }\n",
        "\n",
        "  #3) Creating sales_data dictioanry where keys: SKU , Value: Sales data in a list of 14 days:-\n",
        "\n",
        "  sales_data = {}\n",
        "  sales_data_path = os.path.join(main_folder,\"sales_data.csv\")\n",
        "  with open (sales_data_path, mode = 'r') as csvfile:\n",
        "    csv_reader = csv.reader(csvfile)\n",
        "    for row in csv_reader:\n",
        "      if row[0]==\"Product_SKU\": # row[0] will be product_SKU for first header row\n",
        "        continue\n",
        "      key = row[0]\n",
        "      values = row[1:]\n",
        "      sales_data[key]=values\n",
        "\n",
        "  #4) Defining the path for product_descriptions file:-\n",
        "\n",
        "  product_descriptions_path = os.path.join(main_folder,\"product_description\")\n",
        "  list_prod_description = os.listdir(product_descriptions_path) # Creating a list to extract the SKU from the file names of product_details file\n",
        "\n",
        "  #5) Creating dictionary for product_descriptions(key : SKU , Value: product details which are in text format):-\n",
        "  product_descriptions = {}\n",
        "  for i in list_prod_description:\n",
        "    if i==\".ipynb_checkpoints\": # colab creating this file when the code runs, this has to be skipped\n",
        "      continue\n",
        "    with open(os.path.join(product_descriptions_path, i), \"r\") as file :\n",
        "      product_descriptions[i.replace(\"description_\",\"\").replace(\".txt\",\"\")] = file.read()\n",
        "\n",
        "  return product_details,sales_data,product_descriptions\n",
        "\n",
        "product_details,sales_data,product_descriptions = load_data(main_folder_address)"
      ]
    },
    {
      "cell_type": "markdown",
      "metadata": {
        "id": "bRjwNJj67LP_"
      },
      "source": [
        "Check your code here"
      ]
    },
    {
      "cell_type": "code",
      "source": [
        "print(\"Following is a Tuple which is containing all the three dictionaries:- \")\n",
        "print()\n",
        "#product_details,sales_data,product_descriptions = load_data(main_folder_address)\n",
        "load_data(main_folder_address)\n",
        "# print(\"Product Details of the SKUs are = \")\n",
        "# print()\n",
        "# pprint.pprint(product_details)\n",
        "# print()\n",
        "# print(\"Sales data of the SKUs are = \")\n",
        "# print()\n",
        "# pprint.pprint(sales_data)\n",
        "# print()\n",
        "# print(\"Product Description of the SKUs are = \")\n",
        "# print()\n",
        "# pprint.pprint(product_descriptions)\n",
        "# print()"
      ],
      "metadata": {
        "colab": {
          "base_uri": "https://localhost:8080/"
        },
        "id": "kFh7OYlM60qf",
        "outputId": "95f29b6c-7fd2-4c75-b57b-9d6109d4c72f"
      },
      "execution_count": null,
      "outputs": [
        {
          "output_type": "stream",
          "name": "stdout",
          "text": [
            "Following is a Tuple which is containing all the three dictionaries:- \n",
            "\n"
          ]
        },
        {
          "output_type": "execute_result",
          "data": {
            "text/plain": [
              "({'NEKFJOWE9FDIW': {'product_name': 'Board Game',\n",
              "   'brand': 'FamilyFun',\n",
              "   'model': 'GameNight-2022',\n",
              "   'specifications': '2-6 players, Ages 8 and up',\n",
              "   'price': '$29.99',\n",
              "   'availability': 'In stock'},\n",
              "  'LKDFJ49LSDJKL': {'product_name': 'Anti-Aging Face Cream',\n",
              "   'brand': 'GlowBeauty',\n",
              "   'model': 'AgeDefy-300',\n",
              "   'specifications': 'Natural ingredients, Hydrating formula',\n",
              "   'price': '$39.99',\n",
              "   'availability': 'In stock'},\n",
              "  'HJSKNWK429DJE': {'product_name': 'Wireless Earbuds',\n",
              "   'brand': 'SoundSync',\n",
              "   'model': 'TunePro-2022',\n",
              "   'specifications': 'Bluetooth 5.0, 20 hours battery life, Touch controls',\n",
              "   'price': '$89.99',\n",
              "   'availability': 'In stock'},\n",
              "  'DJKFIEI432FIE': {'product_name': \"Men's Running Shoes\",\n",
              "   'brand': 'RunFit',\n",
              "   'model': 'SpeedX-500',\n",
              "   'specifications': 'Size 10, Lightweight design, Breathable material',\n",
              "   'price': '$79.99',\n",
              "   'availability': 'In stock'},\n",
              "  'JFKL3940NFKLJ': {'product_name': 'Resistance Bands Set',\n",
              "   'brand': 'FitFlex',\n",
              "   'model': 'StrengthPro-300',\n",
              "   'specifications': '5 bands, Varying resistance levels, Portable',\n",
              "   'price': '$34.99',\n",
              "   'availability': 'In stock'},\n",
              "  'MWKDI3JFK39SL': {'product_name': 'Fictional Novel',\n",
              "   'brand': 'BestBooks',\n",
              "   'model': None,\n",
              "   'specifications': 'Paperback, 300 pages',\n",
              "   'price': '$14.99',\n",
              "   'availability': 'In stock'},\n",
              "  'GGOENEBJ079499': {'product_name': 'Smartphone',\n",
              "   'brand': 'XYZ Electronics',\n",
              "   'model': 'ABC-2000',\n",
              "   'specifications': '6.5-inch display, 128GB storage, 16MP camera',\n",
              "   'price': '$499.99',\n",
              "   'availability': 'In stock'},\n",
              "  'AISJDKFJW93NJ': {'product_name': 'Wall Art Print',\n",
              "   'brand': 'ArtCraft',\n",
              "   'model': 'NatureCanvas-1001',\n",
              "   'specifications': 'Canvas print, Ready to hang',\n",
              "   'price': '$49.99',\n",
              "   'availability': 'In stock'},\n",
              "  'OWEJL398FWJLK': {'product_name': 'Yoga Mat',\n",
              "   'brand': 'ZenFitness',\n",
              "   'model': 'EcoMat-500',\n",
              "   'specifications': 'Non-slip, 6mm thickness, Eco-friendly material',\n",
              "   'price': '$19.99',\n",
              "   'availability': 'In stock'},\n",
              "  'XPLFJW2490XJN': {'product_name': 'Robot Vacuum Cleaner',\n",
              "   'brand': 'CleanTech',\n",
              "   'model': 'AutoSweep-9000',\n",
              "   'specifications': 'Smart navigation, HEPA filter, 90 minutes runtime',\n",
              "   'price': '$249.99',\n",
              "   'availability': 'In stock'}},\n",
              " {'AISJDKFJW93NJ': ['10',\n",
              "   '12',\n",
              "   '15',\n",
              "   '18',\n",
              "   '20',\n",
              "   '22',\n",
              "   '25',\n",
              "   '28',\n",
              "   '26',\n",
              "   '30',\n",
              "   '32',\n",
              "   '29',\n",
              "   '27',\n",
              "   '24'],\n",
              "  'DJKFIEI432FIE': ['8',\n",
              "   '10',\n",
              "   '12',\n",
              "   '15',\n",
              "   '20',\n",
              "   '18',\n",
              "   '14',\n",
              "   '13',\n",
              "   '17',\n",
              "   '10',\n",
              "   '8',\n",
              "   '11',\n",
              "   '14',\n",
              "   '16'],\n",
              "  'GGOENEBJ079499': ['15',\n",
              "   '18',\n",
              "   '22',\n",
              "   '25',\n",
              "   '28',\n",
              "   '20',\n",
              "   '17',\n",
              "   '23',\n",
              "   '19',\n",
              "   '21',\n",
              "   '24',\n",
              "   '27',\n",
              "   '18',\n",
              "   '20'],\n",
              "  'HJSKNWK429DJE': ['30',\n",
              "   '32',\n",
              "   '35',\n",
              "   '38',\n",
              "   '40',\n",
              "   '42',\n",
              "   '45',\n",
              "   '48',\n",
              "   '50',\n",
              "   '52',\n",
              "   '55',\n",
              "   '53',\n",
              "   '49',\n",
              "   '47'],\n",
              "  'JFKL3940NFKLJ': ['18',\n",
              "   '20',\n",
              "   '22',\n",
              "   '25',\n",
              "   '28',\n",
              "   '30',\n",
              "   '32',\n",
              "   '35',\n",
              "   '38',\n",
              "   '36',\n",
              "   '33',\n",
              "   '29',\n",
              "   '26',\n",
              "   '24'],\n",
              "  'LKDFJ49LSDJKL': ['25',\n",
              "   '28',\n",
              "   '30',\n",
              "   '32',\n",
              "   '35',\n",
              "   '38',\n",
              "   '42',\n",
              "   '40',\n",
              "   '37',\n",
              "   '34',\n",
              "   '36',\n",
              "   '31',\n",
              "   '29',\n",
              "   '27'],\n",
              "  'MWKDI3JFK39SL': ['30',\n",
              "   '35',\n",
              "   '40',\n",
              "   '45',\n",
              "   '50',\n",
              "   '42',\n",
              "   '37',\n",
              "   '38',\n",
              "   '41',\n",
              "   '36',\n",
              "   '33',\n",
              "   '39',\n",
              "   '40',\n",
              "   '44'],\n",
              "  'NEKFJOWE9FDIW': ['12',\n",
              "   '15',\n",
              "   '18',\n",
              "   '20',\n",
              "   '22',\n",
              "   '24',\n",
              "   '21',\n",
              "   '23',\n",
              "   '25',\n",
              "   '28',\n",
              "   '30',\n",
              "   '27',\n",
              "   '26',\n",
              "   '29'],\n",
              "  'OWEJL398FWJLK': ['20',\n",
              "   '22',\n",
              "   '25',\n",
              "   '28',\n",
              "   '30',\n",
              "   '32',\n",
              "   '35',\n",
              "   '38',\n",
              "   '36',\n",
              "   '33',\n",
              "   '29',\n",
              "   '26',\n",
              "   '24',\n",
              "   '27'],\n",
              "  'XPLFJW2490XJN': ['5',\n",
              "   '8',\n",
              "   '9',\n",
              "   '12',\n",
              "   '15',\n",
              "   '10',\n",
              "   '14',\n",
              "   '16',\n",
              "   '20',\n",
              "   '18',\n",
              "   '22',\n",
              "   '25',\n",
              "   '19',\n",
              "   '21']},\n",
              " {'AISJDKFJW93NJ': \"Transform your living space with ArtCraft's NatureCanvas-1001 Wall Art Print.\\nThis canvas print, ready to hang, brings the beauty of nature into your home.\\nWith dimensions of 16 x 20 inches and a 4.6/5 stars rating, it's a stunning addition to your decor, creating a focal point that captures attention and sparks conversation.\",\n",
              "  'LKDFJ49LSDJKL': \"Rediscover youthful radiance with GlowBeauty's AgeDefy-300 Anti-Aging Face Cream.\\nFormulated with natural ingredients and a hydrating formula, this skincare essential rejuvenates and nourishes your skin, leaving you with a vibrant and refreshed complexion.\\nWith a stellar 4.7/5 stars rating, it's a must-have for those embracing the journey to ageless beauty.\",\n",
              "  'HJSKNWK429DJE': \"Immerse yourself in superior audio quality with SoundSync's TunePro-2022 Wireless Earbuds.\\nFeaturing Bluetooth 5.0, 20 hours of battery life, and touch controls, these earbuds deliver a seamless and immersive listening experience.\\nAvailable in Black and White, they combine style with functionality for music lovers on the go. \\nWith a 4.7/5 stars rating, they stand out as a top choice in the realm of wireless audio.\",\n",
              "  'XPLFJW2490XJN': 'Introducing the CleanTech AutoSweep-9000 Robot Vacuum Cleaner – your smart companion for automated cleaning.\\nWith smart navigation, a HEPA filter, and a runtime of 90 minutes, this efficient device takes care of your cleaning needs.\\nAvailable in White and Silver, it blends seamlessly into your home, making cleanliness a hassle-free experience.',\n",
              "  'NEKFJOWE9FDIW': \"Unleash the fun with FamilyFun's GameNight-2022 Board Game.\\nDesigned for 2-6 players and suitable for ages 8 and up, this exciting game promises laughter and bonding moments for the entire family.\\nWith a 4.4/5 stars rating, it's a testament to its ability to turn any ordinary night into an extraordinary game night filled with friendly competition and shared joy.\",\n",
              "  'GGOENEBJ079499': 'Dive into the future with the XYZ Electronics Smartphone, model ABC-2000.\\nBoasting a 6.5-inch display, 128GB storage, and a 16MP camera, this powerful device redefines the smartphone experience.\\nWith a sleek design and available in Black, Silver, and Blue, it combines cutting-edge technology with style, ensuring you stay connected in the most sophisticated way possible.',\n",
              "  'DJKFIEI432FIE': \"Elevate your running experience with the RunFit SpeedX-500 Men's Running Shoes.\\nDesigned for performance, these shoes feature a lightweight design, breathable material, and are available in vibrant Red, Blue, and classic Black.\\nWhether you're a seasoned runner or just starting, these shoes provide comfort and support for every stride, ensuring you reach new milestones effortlessly.\",\n",
              "  'MWKDI3JFK39SL': \"Immerse yourself in the world of storytelling with BestBooks' Fictional Novel.\\nThis paperback, spanning 300 pages, promises a captivating journey through the pages of an engaging narrative.\\nIdeal for avid readers seeking an escape, this novel, with a 4.6/5 stars rating, is a testament to its ability to weave a compelling tale that keeps you hooked until the last page.\",\n",
              "  'JFKL3940NFKLJ': \"Embrace versatility in your workouts with FitFlex's StrengthPro-300 Resistance Bands Set.\\nWith 5 bands offering varying resistance levels and portability, this set is your go-to for effective strength training.\\nAvailable in Red, Yellow, and Blue, it caters to different fitness levels and adds a dynamic dimension to your exercise routine.\",\n",
              "  'OWEJL398FWJLK': \"Elevate your yoga practice with ZenFitness' EcoMat-500 Yoga Mat.\\nFeaturing a non-slip surface, 6mm thickness, and eco-friendly materials, this high-quality mat provides the perfect foundation for your workouts.\\nAvailable in Purple, Green, and Blue, it not only enhances your comfort but also adds a touch of serenity to your exercise routine.\"})"
            ]
          },
          "metadata": {},
          "execution_count": 6
        }
      ]
    },
    {
      "cell_type": "markdown",
      "metadata": {
        "id": "Rf3FIRGg_G2b"
      },
      "source": [
        "### Checklist\n",
        "- Defined the `load_data()` function which takes in the given keyword arguments and returns the given variables.\n",
        "- Used the `load_data()` function to load data in to `sales_data, product_details` and `product_descriptions`\n",
        "- `sales_data, product_details` and `product_descriptions` are of the type `dict`.\n",
        "- Items in `sales_data, product_details`, and `product_descriptions` are as follows:\n",
        "    - `sales_data` contains product SKUs mapped to lists of integers representing the amount of product sold per day.\n",
        "    - `product_details` contains product SKUs mapped to dictionaries containing various details such as product name, brand, model, specifications, price, and availability.\n",
        "    - `product_descriptions` contains product SKUs mapped to strings representing descriptions of the corresponding products."
      ]
    },
    {
      "cell_type": "markdown",
      "metadata": {
        "id": "Q-cAPaYTiz3_"
      },
      "source": [
        "## Task 3 - Explore the data"
      ]
    },
    {
      "cell_type": "markdown",
      "metadata": {
        "id": "Dmz5KGzJFJYC"
      },
      "source": [
        "### Description\n",
        "In this task, you will explore the loaded data by displaying its content. This includes displaying sales data, product details, and product description of a product using its product SKU."
      ]
    },
    {
      "cell_type": "markdown",
      "metadata": {
        "id": "kRKjcU-jHSlp"
      },
      "source": [
        "### Requirements\n",
        "- Dispaly sales data, product details, and product descriptions of all products.\n",
        "- Create a list named `product_skus` which contains product SKUs extracted from one of the dictionaries using `dict.keys()`.\n",
        "- Display sales data, product details, and product description of a product using its product SKU.\n",
        "- Print the length of `sales_data`, `product_details`, and `product_descriptions`."
      ]
    },
    {
      "cell_type": "markdown",
      "metadata": {
        "id": "5Y-xAzqjZLOJ"
      },
      "source": [
        "### Recommendations\n",
        "- Utilize the `pprint` module for pretty printing Python data structures.\n",
        "- Go to [this](https://docs.python.org/3/library/pprint.html) site to read more about `pprint`."
      ]
    },
    {
      "cell_type": "markdown",
      "source": [
        "First, display data form `sales_data`, `product_details`, and `product_descriptions`."
      ],
      "metadata": {
        "id": "kQULPLA2HePb"
      }
    },
    {
      "cell_type": "code",
      "execution_count": 6,
      "metadata": {
        "id": "2C9RhD9Ghtso",
        "colab": {
          "base_uri": "https://localhost:8080/"
        },
        "outputId": "d0c5c2a9-4c54-480b-86b5-04d1d15c267a"
      },
      "outputs": [
        {
          "output_type": "stream",
          "name": "stdout",
          "text": [
            "'Sales Data Dictionary of all the SKU are as follows :-'\n",
            "\n",
            "{'AISJDKFJW93NJ': ['10',\n",
            "                   '12',\n",
            "                   '15',\n",
            "                   '18',\n",
            "                   '20',\n",
            "                   '22',\n",
            "                   '25',\n",
            "                   '28',\n",
            "                   '26',\n",
            "                   '30',\n",
            "                   '32',\n",
            "                   '29',\n",
            "                   '27',\n",
            "                   '24'],\n",
            " 'DJKFIEI432FIE': ['8',\n",
            "                   '10',\n",
            "                   '12',\n",
            "                   '15',\n",
            "                   '20',\n",
            "                   '18',\n",
            "                   '14',\n",
            "                   '13',\n",
            "                   '17',\n",
            "                   '10',\n",
            "                   '8',\n",
            "                   '11',\n",
            "                   '14',\n",
            "                   '16'],\n",
            " 'GGOENEBJ079499': ['15',\n",
            "                    '18',\n",
            "                    '22',\n",
            "                    '25',\n",
            "                    '28',\n",
            "                    '20',\n",
            "                    '17',\n",
            "                    '23',\n",
            "                    '19',\n",
            "                    '21',\n",
            "                    '24',\n",
            "                    '27',\n",
            "                    '18',\n",
            "                    '20'],\n",
            " 'HJSKNWK429DJE': ['30',\n",
            "                   '32',\n",
            "                   '35',\n",
            "                   '38',\n",
            "                   '40',\n",
            "                   '42',\n",
            "                   '45',\n",
            "                   '48',\n",
            "                   '50',\n",
            "                   '52',\n",
            "                   '55',\n",
            "                   '53',\n",
            "                   '49',\n",
            "                   '47'],\n",
            " 'JFKL3940NFKLJ': ['18',\n",
            "                   '20',\n",
            "                   '22',\n",
            "                   '25',\n",
            "                   '28',\n",
            "                   '30',\n",
            "                   '32',\n",
            "                   '35',\n",
            "                   '38',\n",
            "                   '36',\n",
            "                   '33',\n",
            "                   '29',\n",
            "                   '26',\n",
            "                   '24'],\n",
            " 'LKDFJ49LSDJKL': ['25',\n",
            "                   '28',\n",
            "                   '30',\n",
            "                   '32',\n",
            "                   '35',\n",
            "                   '38',\n",
            "                   '42',\n",
            "                   '40',\n",
            "                   '37',\n",
            "                   '34',\n",
            "                   '36',\n",
            "                   '31',\n",
            "                   '29',\n",
            "                   '27'],\n",
            " 'MWKDI3JFK39SL': ['30',\n",
            "                   '35',\n",
            "                   '40',\n",
            "                   '45',\n",
            "                   '50',\n",
            "                   '42',\n",
            "                   '37',\n",
            "                   '38',\n",
            "                   '41',\n",
            "                   '36',\n",
            "                   '33',\n",
            "                   '39',\n",
            "                   '40',\n",
            "                   '44'],\n",
            " 'NEKFJOWE9FDIW': ['12',\n",
            "                   '15',\n",
            "                   '18',\n",
            "                   '20',\n",
            "                   '22',\n",
            "                   '24',\n",
            "                   '21',\n",
            "                   '23',\n",
            "                   '25',\n",
            "                   '28',\n",
            "                   '30',\n",
            "                   '27',\n",
            "                   '26',\n",
            "                   '29'],\n",
            " 'OWEJL398FWJLK': ['20',\n",
            "                   '22',\n",
            "                   '25',\n",
            "                   '28',\n",
            "                   '30',\n",
            "                   '32',\n",
            "                   '35',\n",
            "                   '38',\n",
            "                   '36',\n",
            "                   '33',\n",
            "                   '29',\n",
            "                   '26',\n",
            "                   '24',\n",
            "                   '27'],\n",
            " 'XPLFJW2490XJN': ['5',\n",
            "                   '8',\n",
            "                   '9',\n",
            "                   '12',\n",
            "                   '15',\n",
            "                   '10',\n",
            "                   '14',\n",
            "                   '16',\n",
            "                   '20',\n",
            "                   '18',\n",
            "                   '22',\n",
            "                   '25',\n",
            "                   '19',\n",
            "                   '21']}\n"
          ]
        }
      ],
      "source": [
        "#### YOUR CODE HERE ####\n",
        "pprint.pprint(\"Sales Data Dictionary of all the SKU are as follows :-\")\n",
        "print()\n",
        "pprint.pprint(sales_data)"
      ]
    },
    {
      "cell_type": "code",
      "execution_count": 7,
      "metadata": {
        "id": "lKJ0SoxG1MxQ",
        "colab": {
          "base_uri": "https://localhost:8080/"
        },
        "outputId": "f7376b41-15be-467c-c276-93f302125f44"
      },
      "outputs": [
        {
          "output_type": "stream",
          "name": "stdout",
          "text": [
            "'Product Details Dictionary of all the SKU are as follows :-'\n",
            "\n",
            "{'AISJDKFJW93NJ': {'availability': 'In stock',\n",
            "                   'brand': 'ArtCraft',\n",
            "                   'model': 'NatureCanvas-1001',\n",
            "                   'price': '$49.99',\n",
            "                   'product_name': 'Wall Art Print',\n",
            "                   'specifications': 'Canvas print, Ready to hang'},\n",
            " 'DJKFIEI432FIE': {'availability': 'In stock',\n",
            "                   'brand': 'RunFit',\n",
            "                   'model': 'SpeedX-500',\n",
            "                   'price': '$79.99',\n",
            "                   'product_name': \"Men's Running Shoes\",\n",
            "                   'specifications': 'Size 10, Lightweight design, Breathable '\n",
            "                                     'material'},\n",
            " 'GGOENEBJ079499': {'availability': 'In stock',\n",
            "                    'brand': 'XYZ Electronics',\n",
            "                    'model': 'ABC-2000',\n",
            "                    'price': '$499.99',\n",
            "                    'product_name': 'Smartphone',\n",
            "                    'specifications': '6.5-inch display, 128GB storage, 16MP '\n",
            "                                      'camera'},\n",
            " 'HJSKNWK429DJE': {'availability': 'In stock',\n",
            "                   'brand': 'SoundSync',\n",
            "                   'model': 'TunePro-2022',\n",
            "                   'price': '$89.99',\n",
            "                   'product_name': 'Wireless Earbuds',\n",
            "                   'specifications': 'Bluetooth 5.0, 20 hours battery life, '\n",
            "                                     'Touch controls'},\n",
            " 'JFKL3940NFKLJ': {'availability': 'In stock',\n",
            "                   'brand': 'FitFlex',\n",
            "                   'model': 'StrengthPro-300',\n",
            "                   'price': '$34.99',\n",
            "                   'product_name': 'Resistance Bands Set',\n",
            "                   'specifications': '5 bands, Varying resistance levels, '\n",
            "                                     'Portable'},\n",
            " 'LKDFJ49LSDJKL': {'availability': 'In stock',\n",
            "                   'brand': 'GlowBeauty',\n",
            "                   'model': 'AgeDefy-300',\n",
            "                   'price': '$39.99',\n",
            "                   'product_name': 'Anti-Aging Face Cream',\n",
            "                   'specifications': 'Natural ingredients, Hydrating formula'},\n",
            " 'MWKDI3JFK39SL': {'availability': 'In stock',\n",
            "                   'brand': 'BestBooks',\n",
            "                   'model': None,\n",
            "                   'price': '$14.99',\n",
            "                   'product_name': 'Fictional Novel',\n",
            "                   'specifications': 'Paperback, 300 pages'},\n",
            " 'NEKFJOWE9FDIW': {'availability': 'In stock',\n",
            "                   'brand': 'FamilyFun',\n",
            "                   'model': 'GameNight-2022',\n",
            "                   'price': '$29.99',\n",
            "                   'product_name': 'Board Game',\n",
            "                   'specifications': '2-6 players, Ages 8 and up'},\n",
            " 'OWEJL398FWJLK': {'availability': 'In stock',\n",
            "                   'brand': 'ZenFitness',\n",
            "                   'model': 'EcoMat-500',\n",
            "                   'price': '$19.99',\n",
            "                   'product_name': 'Yoga Mat',\n",
            "                   'specifications': 'Non-slip, 6mm thickness, Eco-friendly '\n",
            "                                     'material'},\n",
            " 'XPLFJW2490XJN': {'availability': 'In stock',\n",
            "                   'brand': 'CleanTech',\n",
            "                   'model': 'AutoSweep-9000',\n",
            "                   'price': '$249.99',\n",
            "                   'product_name': 'Robot Vacuum Cleaner',\n",
            "                   'specifications': 'Smart navigation, HEPA filter, 90 '\n",
            "                                     'minutes runtime'}}\n"
          ]
        }
      ],
      "source": [
        "#### YOUR CODE HERE ####\n",
        "pprint.pprint(\"Product Details Dictionary of all the SKU are as follows :-\")\n",
        "print()\n",
        "pprint.pprint(product_details)"
      ]
    },
    {
      "cell_type": "code",
      "execution_count": 8,
      "metadata": {
        "id": "0rqYUJOxiAD8",
        "colab": {
          "base_uri": "https://localhost:8080/"
        },
        "outputId": "1b3714e0-16ef-4e37-be1f-f51702dae0c2"
      },
      "outputs": [
        {
          "output_type": "stream",
          "name": "stdout",
          "text": [
            "'Product description Dictionary of all the SKU are as follows :-'\n",
            "\n",
            "{'AISJDKFJW93NJ': \"Transform your living space with ArtCraft's \"\n",
            "                  'NatureCanvas-1001 Wall Art Print.\\n'\n",
            "                  'This canvas print, ready to hang, brings the beauty of '\n",
            "                  'nature into your home.\\n'\n",
            "                  'With dimensions of 16 x 20 inches and a 4.6/5 stars rating, '\n",
            "                  \"it's a stunning addition to your decor, creating a focal \"\n",
            "                  'point that captures attention and sparks conversation.',\n",
            " 'DJKFIEI432FIE': 'Elevate your running experience with the RunFit SpeedX-500 '\n",
            "                  \"Men's Running Shoes.\\n\"\n",
            "                  'Designed for performance, these shoes feature a lightweight '\n",
            "                  'design, breathable material, and are available in vibrant '\n",
            "                  'Red, Blue, and classic Black.\\n'\n",
            "                  \"Whether you're a seasoned runner or just starting, these \"\n",
            "                  'shoes provide comfort and support for every stride, '\n",
            "                  'ensuring you reach new milestones effortlessly.',\n",
            " 'GGOENEBJ079499': 'Dive into the future with the XYZ Electronics Smartphone, '\n",
            "                   'model ABC-2000.\\n'\n",
            "                   'Boasting a 6.5-inch display, 128GB storage, and a 16MP '\n",
            "                   'camera, this powerful device redefines the smartphone '\n",
            "                   'experience.\\n'\n",
            "                   'With a sleek design and available in Black, Silver, and '\n",
            "                   'Blue, it combines cutting-edge technology with style, '\n",
            "                   'ensuring you stay connected in the most sophisticated way '\n",
            "                   'possible.',\n",
            " 'HJSKNWK429DJE': \"Immerse yourself in superior audio quality with SoundSync's \"\n",
            "                  'TunePro-2022 Wireless Earbuds.\\n'\n",
            "                  'Featuring Bluetooth 5.0, 20 hours of battery life, and '\n",
            "                  'touch controls, these earbuds deliver a seamless and '\n",
            "                  'immersive listening experience.\\n'\n",
            "                  'Available in Black and White, they combine style with '\n",
            "                  'functionality for music lovers on the go. \\n'\n",
            "                  'With a 4.7/5 stars rating, they stand out as a top choice '\n",
            "                  'in the realm of wireless audio.',\n",
            " 'JFKL3940NFKLJ': \"Embrace versatility in your workouts with FitFlex's \"\n",
            "                  'StrengthPro-300 Resistance Bands Set.\\n'\n",
            "                  'With 5 bands offering varying resistance levels and '\n",
            "                  'portability, this set is your go-to for effective strength '\n",
            "                  'training.\\n'\n",
            "                  'Available in Red, Yellow, and Blue, it caters to different '\n",
            "                  'fitness levels and adds a dynamic dimension to your '\n",
            "                  'exercise routine.',\n",
            " 'LKDFJ49LSDJKL': \"Rediscover youthful radiance with GlowBeauty's AgeDefy-300 \"\n",
            "                  'Anti-Aging Face Cream.\\n'\n",
            "                  'Formulated with natural ingredients and a hydrating '\n",
            "                  'formula, this skincare essential rejuvenates and nourishes '\n",
            "                  'your skin, leaving you with a vibrant and refreshed '\n",
            "                  'complexion.\\n'\n",
            "                  \"With a stellar 4.7/5 stars rating, it's a must-have for \"\n",
            "                  'those embracing the journey to ageless beauty.',\n",
            " 'MWKDI3JFK39SL': 'Immerse yourself in the world of storytelling with '\n",
            "                  \"BestBooks' Fictional Novel.\\n\"\n",
            "                  'This paperback, spanning 300 pages, promises a captivating '\n",
            "                  'journey through the pages of an engaging narrative.\\n'\n",
            "                  'Ideal for avid readers seeking an escape, this novel, with '\n",
            "                  'a 4.6/5 stars rating, is a testament to its ability to '\n",
            "                  'weave a compelling tale that keeps you hooked until the '\n",
            "                  'last page.',\n",
            " 'NEKFJOWE9FDIW': \"Unleash the fun with FamilyFun's GameNight-2022 Board \"\n",
            "                  'Game.\\n'\n",
            "                  'Designed for 2-6 players and suitable for ages 8 and up, '\n",
            "                  'this exciting game promises laughter and bonding moments '\n",
            "                  'for the entire family.\\n'\n",
            "                  \"With a 4.4/5 stars rating, it's a testament to its ability \"\n",
            "                  'to turn any ordinary night into an extraordinary game night '\n",
            "                  'filled with friendly competition and shared joy.',\n",
            " 'OWEJL398FWJLK': \"Elevate your yoga practice with ZenFitness' EcoMat-500 Yoga \"\n",
            "                  'Mat.\\n'\n",
            "                  'Featuring a non-slip surface, 6mm thickness, and '\n",
            "                  'eco-friendly materials, this high-quality mat provides the '\n",
            "                  'perfect foundation for your workouts.\\n'\n",
            "                  'Available in Purple, Green, and Blue, it not only enhances '\n",
            "                  'your comfort but also adds a touch of serenity to your '\n",
            "                  'exercise routine.',\n",
            " 'XPLFJW2490XJN': 'Introducing the CleanTech AutoSweep-9000 Robot Vacuum '\n",
            "                  'Cleaner – your smart companion for automated cleaning.\\n'\n",
            "                  'With smart navigation, a HEPA filter, and a runtime of 90 '\n",
            "                  'minutes, this efficient device takes care of your cleaning '\n",
            "                  'needs.\\n'\n",
            "                  'Available in White and Silver, it blends seamlessly into '\n",
            "                  'your home, making cleanliness a hassle-free experience.'}\n"
          ]
        }
      ],
      "source": [
        "#### YOUR CODE HERE ####\n",
        "pprint.pprint(\"Product description Dictionary of all the SKU are as follows :-\")\n",
        "print()\n",
        "pprint.pprint(product_descriptions)"
      ]
    },
    {
      "cell_type": "markdown",
      "metadata": {
        "id": "bgy4s7ZcuPBE"
      },
      "source": [
        "Create a list of product SKUs by extracting the product SKUs using `dict.keys()` from one of the three dicionaries, which can then be used to access details of a product."
      ]
    },
    {
      "cell_type": "code",
      "execution_count": 9,
      "metadata": {
        "id": "EGDH9_qQ0ZTq",
        "colab": {
          "base_uri": "https://localhost:8080/"
        },
        "outputId": "baf1b23f-851e-4298-8624-da53c96e37f5"
      },
      "outputs": [
        {
          "output_type": "stream",
          "name": "stdout",
          "text": [
            "The list containing all the SKU of the product are as follows:-\n",
            "\n",
            "['NEKFJOWE9FDIW',\n",
            " 'LKDFJ49LSDJKL',\n",
            " 'HJSKNWK429DJE',\n",
            " 'DJKFIEI432FIE',\n",
            " 'JFKL3940NFKLJ',\n",
            " 'MWKDI3JFK39SL',\n",
            " 'GGOENEBJ079499',\n",
            " 'AISJDKFJW93NJ',\n",
            " 'OWEJL398FWJLK',\n",
            " 'XPLFJW2490XJN']\n"
          ]
        }
      ],
      "source": [
        "#### YOUR CODE HERE ####\n",
        "product_skus = list(product_details.keys())\n",
        "print(\"The list containing all the SKU of the product are as follows:-\")\n",
        "print()\n",
        "pprint.pprint(product_skus)"
      ]
    },
    {
      "cell_type": "markdown",
      "source": [
        "Display sales data, product details, and product description of a product using its product SKU."
      ],
      "metadata": {
        "id": "8bQQTAa6HDys"
      }
    },
    {
      "cell_type": "code",
      "execution_count": 10,
      "metadata": {
        "id": "5WeEWj7N9F15",
        "colab": {
          "base_uri": "https://localhost:8080/"
        },
        "outputId": "22d95f77-4231-4d8d-d1cd-819d327f1f85"
      },
      "outputs": [
        {
          "output_type": "stream",
          "name": "stdout",
          "text": [
            "['NEKFJOWE9FDIW',\n",
            " 'LKDFJ49LSDJKL',\n",
            " 'HJSKNWK429DJE',\n",
            " 'DJKFIEI432FIE',\n",
            " 'JFKL3940NFKLJ',\n",
            " 'MWKDI3JFK39SL',\n",
            " 'GGOENEBJ079499',\n",
            " 'AISJDKFJW93NJ',\n",
            " 'OWEJL398FWJLK',\n",
            " 'XPLFJW2490XJN']\n",
            "\n",
            "Please provide us the SKU for which you need the Sales Data, Product Details & Product Description : XPLFJW2490XJN\n",
            "\n",
            "The SKU given by you is :  XPLFJW2490XJN\n",
            "Its Sales Data according to day wise are as :-\n",
            "['5',\n",
            " '8',\n",
            " '9',\n",
            " '12',\n",
            " '15',\n",
            " '10',\n",
            " '14',\n",
            " '16',\n",
            " '20',\n",
            " '18',\n",
            " '22',\n",
            " '25',\n",
            " '19',\n",
            " '21']\n",
            "\n",
            "Its product Details are as :-\n",
            "{'availability': 'In stock',\n",
            " 'brand': 'CleanTech',\n",
            " 'model': 'AutoSweep-9000',\n",
            " 'price': '$249.99',\n",
            " 'product_name': 'Robot Vacuum Cleaner',\n",
            " 'specifications': 'Smart navigation, HEPA filter, 90 minutes runtime'}\n",
            "\n",
            "'Its product Description are as :-'\n",
            "('Introducing the CleanTech AutoSweep-9000 Robot Vacuum Cleaner – your smart '\n",
            " 'companion for automated cleaning.\\n'\n",
            " 'With smart navigation, a HEPA filter, and a runtime of 90 minutes, this '\n",
            " 'efficient device takes care of your cleaning needs.\\n'\n",
            " 'Available in White and Silver, it blends seamlessly into your home, making '\n",
            " 'cleanliness a hassle-free experience.')\n",
            "\n"
          ]
        }
      ],
      "source": [
        "#### YOUR CODE HERE ####\n",
        "#Printing the List of the SKU for taking input from the user to display sales data , product details and product dictionaries\n",
        "pprint.pprint(product_skus)\n",
        "print()\n",
        "\n",
        "#Taking input from the list of sku to display its sales data , produt details and product descripstion\n",
        "\n",
        "while True:\n",
        "    sku_input_user = input(\"Please provide us the SKU for which you need the Sales Data, Product Details & Product Description : \")\n",
        "    if not sales_data.get(sku_input_user) or not product_descriptions.get(sku_input_user) or not product_details.get(sku_input_user):\n",
        "        print(\"Please give the correct SKU which is displayed in the list\") #Checking wether the input sku is given in all the dictionaries\n",
        "    else:\n",
        "        print()\n",
        "        break\n",
        "\n",
        "sales_data_for_sku = sales_data.get(sku_input_user)\n",
        "if sales_data_for_sku:\n",
        "    print(\"The SKU given by you is : \", sku_input_user )\n",
        "    print(\"Its Sales Data according to day wise are as :-\")\n",
        "    pprint.pprint(sales_data_for_sku)  #Priting sales data for given SKU\n",
        "    print()\n",
        "\n",
        "product_details_for_sku = product_details.get(sku_input_user)\n",
        "if product_details_for_sku:\n",
        "    print(\"Its product Details are as :-\")\n",
        "    pprint.pprint(product_details_for_sku) # Printing Product Details for given SKU\n",
        "    print()\n",
        "\n",
        "prod_descr_for_sku = product_descriptions.get(sku_input_user)\n",
        "if prod_descr_for_sku:\n",
        "    pprint.pprint(\"Its product Description are as :-\")\n",
        "    pprint.pprint(prod_descr_for_sku) # Printing product description for given SKU\n",
        "    print()\n"
      ]
    },
    {
      "cell_type": "markdown",
      "source": [
        "Display the length of `sales_data`, `product_details`, and `product_descriptions`."
      ],
      "metadata": {
        "id": "M29OiUpcIJyn"
      }
    },
    {
      "cell_type": "code",
      "source": [
        "#### YOUR CODE HERE ####\n",
        "print(\"Length of the sales_data dictionary is :- \",len(sales_data))"
      ],
      "metadata": {
        "id": "P_KCw2TtIPjl",
        "colab": {
          "base_uri": "https://localhost:8080/"
        },
        "outputId": "eab0eab1-1646-4397-8925-0010ddc5d04a"
      },
      "execution_count": 11,
      "outputs": [
        {
          "output_type": "stream",
          "name": "stdout",
          "text": [
            "Length of the sales_data dictionary is :-  10\n"
          ]
        }
      ]
    },
    {
      "cell_type": "code",
      "source": [
        "#### YOUR CODE HERE ####\n",
        "print(\"Length of the product_details dictionary is :- \",len(product_details))"
      ],
      "metadata": {
        "id": "WD6nkFf5IcP1",
        "colab": {
          "base_uri": "https://localhost:8080/"
        },
        "outputId": "e7ec1873-f920-4347-9110-a45572a88eae"
      },
      "execution_count": 12,
      "outputs": [
        {
          "output_type": "stream",
          "name": "stdout",
          "text": [
            "Length of the product_details dictionary is :-  10\n"
          ]
        }
      ]
    },
    {
      "cell_type": "code",
      "source": [
        "#### YOUR CODE HERE ####\n",
        "print(\"Length of the product_description dictionary is :- \",len(product_descriptions))"
      ],
      "metadata": {
        "id": "9a0YVr6gIZsk",
        "colab": {
          "base_uri": "https://localhost:8080/"
        },
        "outputId": "f1442ad5-39b0-48d5-9281-18cf85e02287"
      },
      "execution_count": 13,
      "outputs": [
        {
          "output_type": "stream",
          "name": "stdout",
          "text": [
            "Length of the product_description dictionary is :-  10\n"
          ]
        }
      ]
    },
    {
      "cell_type": "markdown",
      "metadata": {
        "id": "mU6IzrzYZ_b4"
      },
      "source": [
        "### Checklist\n",
        "- Displayed sales data, product details, and product descriptions of all the products\n",
        "- The extracted product SKUs are *AISJDKFJW93NJ, DJKFIEI432FIE, GGOENEBJ079499, HJSKNWK429DJE JFKL3940NFKLJ, LKDFJ49LSDJKL,MWKDI3JFK39SL, NEKFJOWE9FDIW,OWEJL398FWJLK, and XPLFJW2490XJN*.\n",
        "- Displayed sales data, product details, and product description of a product using its product SKU\n",
        "- Length of `sales_data`, `product_details`, and `product_descriptions` is 10."
      ]
    },
    {
      "cell_type": "markdown",
      "metadata": {
        "id": "-s3el3T2A41B"
      },
      "source": [
        "# Stage 2 - Create\n",
        "\n",
        "In the this stage, you will define a function `create()` to add sales data, product details, and product descriptions for a new product. You will also define some sub-functions to complete smaller tasks.\n",
        "\n",
        "You will achieve this by completing the following tasks:\n",
        "\n",
        "- Task 4 - Add sales data\n",
        "- Task 5 - Add product details\n",
        "- Task 6 - Add product description\n",
        "- Task 7 - Create function\n"
      ]
    },
    {
      "cell_type": "markdown",
      "metadata": {
        "id": "KR9w5MtF2iuy"
      },
      "source": [
        "## Task 4 - Add sales data"
      ]
    },
    {
      "cell_type": "markdown",
      "source": [
        "### Description\n",
        "In this task, you will write a function to add sales data for a new product give then SKU and the quantities that need to be added.\n"
      ],
      "metadata": {
        "id": "3sv3srpNP0by"
      }
    },
    {
      "cell_type": "markdown",
      "source": [
        "### Requirements\n",
        "- Define a function named `add_sales_data()` that:\n",
        "  - adds new sales data to the `sales_data` dicitionary using the sku as the key.\n",
        "  - The function should accept the following parameters:\n",
        "    - `sales_data` dictionary\n",
        "    - `sku` value\n",
        "    - list called `quantities` consisting of sales data for the new product\n",
        "- The function should return:\n",
        "    - The updated `sales_data` dictionary after creating the entry for the new SKU."
      ],
      "metadata": {
        "id": "yuS0kGCbP93D"
      }
    },
    {
      "cell_type": "markdown",
      "source": [
        "### Recommendations\n",
        "- Provide the data description and requirements to ChatGPT along with the libraries that you are using and ask it to generate code for the function.\n",
        "- If you get stuck somewhere, you can ask ChatGPT to explain the code to you and you can make edits as required."
      ],
      "metadata": {
        "id": "51b-kmL5P9ve"
      }
    },
    {
      "cell_type": "code",
      "execution_count": 14,
      "metadata": {
        "id": "RdPeCXd22MJ5"
      },
      "outputs": [],
      "source": [
        "def add_sales_data(sales_data, sku, quantities):\n",
        "  \"\"\"\n",
        "  Add sales data for a new product SKU.\n",
        "\n",
        "  Parameters:\n",
        "      sales_data (dict): The dictionary containing sales data.\n",
        "      sku (str): The product SKU.\n",
        "      quantities (list of int): List of quantities sold for each of the past 14 days.\n",
        "\n",
        "  Returns:\n",
        "      dict: The updated sales data after adding the entry for the new SKU.\n",
        "  \"\"\"\n",
        "  #### YOUR CODE HERE ####\n",
        "\n",
        "  sales_data[sku] = quantities\n",
        "  return sales_data"
      ]
    },
    {
      "cell_type": "markdown",
      "source": [
        "Check your code here."
      ],
      "metadata": {
        "id": "vOvcL_J5Cn51"
      }
    },
    {
      "cell_type": "code",
      "source": [
        "## To check add_sales_data def is working or not properly :-\n",
        "\n",
        "# Example usage\n",
        "\n",
        "##Taking the input from the user to add news SKU and its sales data\n",
        "\n",
        "while True :\n",
        "  new_s = input(\"Please enter the new SKU : \").upper()\n",
        "  new_q = input(\"Please enter the sales data for 14 days seperated by commas \").split(\",\")\n",
        "  if len(new_s)==13 and len(new_q)==14:\n",
        "    add_sales_data(sales_data, new_s, new_q)\n",
        "    break\n",
        "  else :\n",
        "    print(\"Please enter SKU as 13 chars long & sales for the 14 days\")\n",
        "print(\"New SKU added by you is :- \", new_s)\n",
        "print()\n",
        "print(\"Updated dictionary with new SKU and its sales data for 14 days are as follows :- \")\n",
        "pprint.pprint(sales_data)"
      ],
      "metadata": {
        "id": "7-KScrAiFgiT",
        "colab": {
          "base_uri": "https://localhost:8080/"
        },
        "outputId": "0aa2e8c1-f4b6-4df6-a92e-169ba27b7ec9"
      },
      "execution_count": 17,
      "outputs": [
        {
          "output_type": "stream",
          "name": "stdout",
          "text": [
            "Please enter the new SKU : qwertyuiopasd\n",
            "Please enter the sales data for 14 days seperated by commas 1,2,3,4,5,6,7,8,9,10,11,12,13,14\n",
            "New SKU added by you is :-  QWERTYUIOPASD\n",
            "\n",
            "Updated dictionary with new SKU and its sales data for 14 days are as follows :- \n",
            "{'AISJDKFJW93NJ': ['10',\n",
            "                   '12',\n",
            "                   '15',\n",
            "                   '18',\n",
            "                   '20',\n",
            "                   '22',\n",
            "                   '25',\n",
            "                   '28',\n",
            "                   '26',\n",
            "                   '30',\n",
            "                   '32',\n",
            "                   '29',\n",
            "                   '27',\n",
            "                   '24'],\n",
            " 'DJKFIEI432FIE': ['8',\n",
            "                   '10',\n",
            "                   '12',\n",
            "                   '15',\n",
            "                   '20',\n",
            "                   '18',\n",
            "                   '14',\n",
            "                   '13',\n",
            "                   '17',\n",
            "                   '10',\n",
            "                   '8',\n",
            "                   '11',\n",
            "                   '14',\n",
            "                   '16'],\n",
            " 'GGOENEBJ079499': ['15',\n",
            "                    '18',\n",
            "                    '22',\n",
            "                    '25',\n",
            "                    '28',\n",
            "                    '20',\n",
            "                    '17',\n",
            "                    '23',\n",
            "                    '19',\n",
            "                    '21',\n",
            "                    '24',\n",
            "                    '27',\n",
            "                    '18',\n",
            "                    '20'],\n",
            " 'HJSKNWK429DJE': ['30',\n",
            "                   '32',\n",
            "                   '35',\n",
            "                   '38',\n",
            "                   '40',\n",
            "                   '42',\n",
            "                   '45',\n",
            "                   '48',\n",
            "                   '50',\n",
            "                   '52',\n",
            "                   '55',\n",
            "                   '53',\n",
            "                   '49',\n",
            "                   '47'],\n",
            " 'JFKL3940NFKLJ': ['18',\n",
            "                   '20',\n",
            "                   '22',\n",
            "                   '25',\n",
            "                   '28',\n",
            "                   '30',\n",
            "                   '32',\n",
            "                   '35',\n",
            "                   '38',\n",
            "                   '36',\n",
            "                   '33',\n",
            "                   '29',\n",
            "                   '26',\n",
            "                   '24'],\n",
            " 'LKDFJ49LSDJKL': ['25',\n",
            "                   '28',\n",
            "                   '30',\n",
            "                   '32',\n",
            "                   '35',\n",
            "                   '38',\n",
            "                   '42',\n",
            "                   '40',\n",
            "                   '37',\n",
            "                   '34',\n",
            "                   '36',\n",
            "                   '31',\n",
            "                   '29',\n",
            "                   '27'],\n",
            " 'MWKDI3JFK39SL': ['30',\n",
            "                   '35',\n",
            "                   '40',\n",
            "                   '45',\n",
            "                   '50',\n",
            "                   '42',\n",
            "                   '37',\n",
            "                   '38',\n",
            "                   '41',\n",
            "                   '36',\n",
            "                   '33',\n",
            "                   '39',\n",
            "                   '40',\n",
            "                   '44'],\n",
            " 'NEKFJOWE9FDIW': ['12',\n",
            "                   '15',\n",
            "                   '18',\n",
            "                   '20',\n",
            "                   '22',\n",
            "                   '24',\n",
            "                   '21',\n",
            "                   '23',\n",
            "                   '25',\n",
            "                   '28',\n",
            "                   '30',\n",
            "                   '27',\n",
            "                   '26',\n",
            "                   '29'],\n",
            " 'OWEJL398FWJLK': ['20',\n",
            "                   '22',\n",
            "                   '25',\n",
            "                   '28',\n",
            "                   '30',\n",
            "                   '32',\n",
            "                   '35',\n",
            "                   '38',\n",
            "                   '36',\n",
            "                   '33',\n",
            "                   '29',\n",
            "                   '26',\n",
            "                   '24',\n",
            "                   '27'],\n",
            " 'QWERTYUIOPASD': ['1',\n",
            "                   '2',\n",
            "                   '3',\n",
            "                   '4',\n",
            "                   '5',\n",
            "                   '6',\n",
            "                   '7',\n",
            "                   '8',\n",
            "                   '9',\n",
            "                   '10',\n",
            "                   '11',\n",
            "                   '12',\n",
            "                   '13',\n",
            "                   '14'],\n",
            " 'XPLFJW2490XJN': ['5',\n",
            "                   '8',\n",
            "                   '9',\n",
            "                   '12',\n",
            "                   '15',\n",
            "                   '10',\n",
            "                   '14',\n",
            "                   '16',\n",
            "                   '20',\n",
            "                   '18',\n",
            "                   '22',\n",
            "                   '25',\n",
            "                   '19',\n",
            "                   '21']}\n"
          ]
        }
      ]
    },
    {
      "cell_type": "markdown",
      "source": [
        "### Checklist\n",
        "- Function `add_sales_data()` defined\n",
        "- Updated `sales_data` dictionary with new product SKU and data\n",
        "- Updated `sales_data` dictionary returned"
      ],
      "metadata": {
        "id": "iJ1PeYvAP9nI"
      }
    },
    {
      "cell_type": "markdown",
      "metadata": {
        "id": "276dzYC32PIS"
      },
      "source": [
        "## Task 5 - Add product details"
      ]
    },
    {
      "cell_type": "markdown",
      "source": [
        "### Description\n",
        "In this task, you will write a function to add product details for the new product using its product SKU."
      ],
      "metadata": {
        "id": "-I8sKosLT5sl"
      }
    },
    {
      "cell_type": "markdown",
      "source": [
        "### Requirements\n",
        "- Define a function named `add_product_details()` that adds new product details to the `product_details` dictionary using the SKU as the key.\n",
        "- The function should accept three parameters:\n",
        "  - `product_details`: A dictionary containing existing product details.\n",
        "  - `sku`: A string representing the product SKU.\n",
        "  - `product_info`: A dictionary containing the details of the product, such as product name, brand, model, specifications, price, and availability.\n",
        "- The function adds the `product_info` dictionary to the `product_details` dictionary with the provided sku as the key. This operation updates the `product_details` dictionary with the new products information.\n",
        "- Return the updated `product_details` dictionary containing the new product entry.\n"
      ],
      "metadata": {
        "id": "OkfZCY48T5ss"
      }
    },
    {
      "cell_type": "markdown",
      "source": [
        "### Recommendations\n",
        "- Provide the data description and requirements to ChatGPT along with the libraries that you are using and ask it to generate code for the function.\n",
        "- If you get stuck somewhere, you can ask ChatGPT to explain the code to you and you can make edits as required."
      ],
      "metadata": {
        "id": "7gCVU2F2T5ss"
      }
    },
    {
      "cell_type": "code",
      "execution_count": 18,
      "metadata": {
        "id": "uiOO_eNr2PkA"
      },
      "outputs": [],
      "source": [
        "def add_product_details(product_details, sku, product_info):\n",
        "    \"\"\"\n",
        "    Create a new product details entry in the product details dictionary using the provided product information.\n",
        "\n",
        "    Parameters:\n",
        "        product_details (dict): The dictionary containing product details.\n",
        "        sku (str): The product SKU.\n",
        "        product_info (dict): A dictionary containing the details of the product, such as product name, brand, model, specifications, price, and availability.\n",
        "\n",
        "    Returns:\n",
        "        dict: The updated product details with the new product entry.\n",
        "    \"\"\"\n",
        "    #### YOUR CODE HERE ####\n",
        "    product_details[sku] = product_info\n",
        "    return product_details"
      ]
    },
    {
      "cell_type": "code",
      "source": [
        "## To check add_product_details def is working or not properly :-\n",
        "\n",
        "# Example usage\n",
        "\n",
        "##Taking the input from the user to add news SKU and its Product Details\n",
        "\n",
        "new_s_1 = input(\"Please enter the new SKU for which you want to add the Product Details :- \").upper()\n",
        "details = {\n",
        "              \"product_name \": input(\"Please enter the product name \"),\n",
        "                \"brand\": input(\"Please enter the brand name \"),\n",
        "                \"model\": input(\"Please enter the model name \"),\n",
        "                \"specifications\": input(\"Please enter the specifications \"),\n",
        "                \"price\": input(\"Please enter the price \"),\n",
        "                \"availability\": input(\"Please enter the availability of the product \")\n",
        "                }\n",
        "\n",
        "add_product_details(product_details, new_s_1, details)\n",
        "print(\"New SKU given by you is :- \", new_s_1)\n",
        "print()\n",
        "print(\"Updated dictionary with the new SKU and its product Details are as follows :- \")\n",
        "pprint.pprint(product_details)"
      ],
      "metadata": {
        "colab": {
          "base_uri": "https://localhost:8080/"
        },
        "id": "wPLiC7l9D4SW",
        "outputId": "778c2e1e-a45f-4177-ecb1-0c803e668486"
      },
      "execution_count": 19,
      "outputs": [
        {
          "output_type": "stream",
          "name": "stdout",
          "text": [
            "Please enter the new SKU for which you want to add the Product Details :- qwertyuiopasd\n",
            "Please enter the product name Mobile\n",
            "Please enter the brand name apple\n",
            "Please enter the model name 16 plus\n",
            "Please enter the specifications 100 gb ram\n",
            "Please enter the price 190000\n",
            "Please enter the availability of the product not in stock\n",
            "New SKU given by you is :-  QWERTYUIOPASD\n",
            "\n",
            "Updated dictionary with the new SKU and its product Details are as follows :- \n",
            "{'AISJDKFJW93NJ': {'availability': 'In stock',\n",
            "                   'brand': 'ArtCraft',\n",
            "                   'model': 'NatureCanvas-1001',\n",
            "                   'price': '$49.99',\n",
            "                   'product_name': 'Wall Art Print',\n",
            "                   'specifications': 'Canvas print, Ready to hang'},\n",
            " 'DJKFIEI432FIE': {'availability': 'In stock',\n",
            "                   'brand': 'RunFit',\n",
            "                   'model': 'SpeedX-500',\n",
            "                   'price': '$79.99',\n",
            "                   'product_name': \"Men's Running Shoes\",\n",
            "                   'specifications': 'Size 10, Lightweight design, Breathable '\n",
            "                                     'material'},\n",
            " 'GGOENEBJ079499': {'availability': 'In stock',\n",
            "                    'brand': 'XYZ Electronics',\n",
            "                    'model': 'ABC-2000',\n",
            "                    'price': '$499.99',\n",
            "                    'product_name': 'Smartphone',\n",
            "                    'specifications': '6.5-inch display, 128GB storage, 16MP '\n",
            "                                      'camera'},\n",
            " 'HJSKNWK429DJE': {'availability': 'In stock',\n",
            "                   'brand': 'SoundSync',\n",
            "                   'model': 'TunePro-2022',\n",
            "                   'price': '$89.99',\n",
            "                   'product_name': 'Wireless Earbuds',\n",
            "                   'specifications': 'Bluetooth 5.0, 20 hours battery life, '\n",
            "                                     'Touch controls'},\n",
            " 'JFKL3940NFKLJ': {'availability': 'In stock',\n",
            "                   'brand': 'FitFlex',\n",
            "                   'model': 'StrengthPro-300',\n",
            "                   'price': '$34.99',\n",
            "                   'product_name': 'Resistance Bands Set',\n",
            "                   'specifications': '5 bands, Varying resistance levels, '\n",
            "                                     'Portable'},\n",
            " 'LKDFJ49LSDJKL': {'availability': 'In stock',\n",
            "                   'brand': 'GlowBeauty',\n",
            "                   'model': 'AgeDefy-300',\n",
            "                   'price': '$39.99',\n",
            "                   'product_name': 'Anti-Aging Face Cream',\n",
            "                   'specifications': 'Natural ingredients, Hydrating formula'},\n",
            " 'MWKDI3JFK39SL': {'availability': 'In stock',\n",
            "                   'brand': 'BestBooks',\n",
            "                   'model': None,\n",
            "                   'price': '$14.99',\n",
            "                   'product_name': 'Fictional Novel',\n",
            "                   'specifications': 'Paperback, 300 pages'},\n",
            " 'NEKFJOWE9FDIW': {'availability': 'In stock',\n",
            "                   'brand': 'FamilyFun',\n",
            "                   'model': 'GameNight-2022',\n",
            "                   'price': '$29.99',\n",
            "                   'product_name': 'Board Game',\n",
            "                   'specifications': '2-6 players, Ages 8 and up'},\n",
            " 'OWEJL398FWJLK': {'availability': 'In stock',\n",
            "                   'brand': 'ZenFitness',\n",
            "                   'model': 'EcoMat-500',\n",
            "                   'price': '$19.99',\n",
            "                   'product_name': 'Yoga Mat',\n",
            "                   'specifications': 'Non-slip, 6mm thickness, Eco-friendly '\n",
            "                                     'material'},\n",
            " 'QWERTYUIOPASD': {'availability': 'not in stock',\n",
            "                   'brand': 'apple',\n",
            "                   'model': '16 plus',\n",
            "                   'price': '190000',\n",
            "                   'product_name ': 'Mobile',\n",
            "                   'specifications': '100 gb ram'},\n",
            " 'XPLFJW2490XJN': {'availability': 'In stock',\n",
            "                   'brand': 'CleanTech',\n",
            "                   'model': 'AutoSweep-9000',\n",
            "                   'price': '$249.99',\n",
            "                   'product_name': 'Robot Vacuum Cleaner',\n",
            "                   'specifications': 'Smart navigation, HEPA filter, 90 '\n",
            "                                     'minutes runtime'}}\n"
          ]
        }
      ]
    },
    {
      "cell_type": "markdown",
      "source": [
        "Check your code here."
      ],
      "metadata": {
        "id": "cpYk9yK1Cq5H"
      }
    },
    {
      "cell_type": "markdown",
      "source": [
        "### Checklist\n",
        "- Function `add_product_details()` defined\n",
        "- Updated `product_details` dictionary with new product details\n",
        "- Updated `product_details` dictionary returned"
      ],
      "metadata": {
        "id": "UK1tyUi4UDwK"
      }
    },
    {
      "cell_type": "markdown",
      "metadata": {
        "id": "NbsIu0TT2R4H"
      },
      "source": [
        "## Task 6 - Add product description"
      ]
    },
    {
      "cell_type": "markdown",
      "source": [
        "### Description\n",
        "In this task, you will write a function to add a product description for the new product using its product SKU."
      ],
      "metadata": {
        "id": "eLsJVtWtT6Wn"
      }
    },
    {
      "cell_type": "markdown",
      "source": [
        "### Requirements\n",
        "- Define a function named `add_product_description()` that adds a new product description to the `product_descriptions` dictionary using the SKU as the key.\n",
        "- The function should accept three parameters:\n",
        "  - `product_descriptions`: A dictionary containing existing product descriptions.\n",
        "  - `sku`: A string representing the product SKU.\n",
        "  - `description`: A string containing the description of the product.\n",
        "- The function adds the new product description to the `product_descriptions` dictionary with the provided sku as the key. This operation updates the `product_descriptions` dictionary with the new product's description.\n",
        "- Return the updated `product_descriptions` dictionary containing the new product description.\n"
      ],
      "metadata": {
        "id": "ZYE0bb3bT6Wn"
      }
    },
    {
      "cell_type": "markdown",
      "source": [
        "### Recommendations\n",
        "- Provide the data description and requirements to ChatGPT along with the libraries that you are using and ask it to generate code for the function.\n",
        "- If you get stuck somewhere, you can ask ChatGPT to explain the code to you and you can make edits as required."
      ],
      "metadata": {
        "id": "92BcXxmhT6Wn"
      }
    },
    {
      "cell_type": "code",
      "execution_count": 20,
      "metadata": {
        "id": "gto9F0P82SIv"
      },
      "outputs": [],
      "source": [
        "def add_product_description(product_descriptions, sku, description):\n",
        "    \"\"\"\n",
        "    Adds a new product description to the product descriptions dictionary using the provided SKU as the key.\n",
        "\n",
        "    Parameters:\n",
        "        product_descriptions (dict): The dictionary containing existing product descriptions.\n",
        "        sku (str): The product SKU.\n",
        "        description (str): The description of the product.\n",
        "\n",
        "    Returns:\n",
        "        dict: The updated product descriptions dictionary with the new product description added.\n",
        "    \"\"\"\n",
        "    #### YOUR CODE HERE ####\n",
        "    product_descriptions[sku]=description\n",
        "    return product_descriptions"
      ]
    },
    {
      "cell_type": "markdown",
      "source": [
        "Check your code here."
      ],
      "metadata": {
        "id": "pDn1TCSLCr_R"
      }
    },
    {
      "cell_type": "code",
      "source": [
        "## To check add_product_details def is working or not properly :-\n",
        "\n",
        "# Example usage\n",
        "\n",
        "##Taking the input from the user to add news SKU and its Descriptions\n",
        "\n",
        "new_s_2 = input(\"Please enter the new SKU for which you want to add the Product Details :- \").upper()\n",
        "new_description_line = input(\"Please give the description \")\n",
        "add_product_description(product_descriptions, new_s_2, new_description_line )\n",
        "print(\"New SKU given by you is to add the Product Descriptions is :- \",new_s_2)\n",
        "print()\n",
        "print(\"Updated Dictionary of Product Description with new SKU and its description are as follows :- \")\n",
        "print()\n",
        "pprint.pprint(product_descriptions)"
      ],
      "metadata": {
        "id": "pwQ7lRRSGfRa",
        "colab": {
          "base_uri": "https://localhost:8080/"
        },
        "outputId": "96d3a5e5-ad1d-4fee-c92e-aa511579c24a"
      },
      "execution_count": 21,
      "outputs": [
        {
          "output_type": "stream",
          "name": "stdout",
          "text": [
            "Please enter the new SKU for which you want to add the Product Details :- qwertyuiopasd\n",
            "Please give the description HELLOW best product!!!!!\n",
            "New SKU given by you is to add the Product Descriptions is :-  QWERTYUIOPASD\n",
            "\n",
            "Updated Dictionary of Product Description with new SKU and its description are as follows :- \n",
            "\n",
            "{'AISJDKFJW93NJ': \"Transform your living space with ArtCraft's \"\n",
            "                  'NatureCanvas-1001 Wall Art Print.\\n'\n",
            "                  'This canvas print, ready to hang, brings the beauty of '\n",
            "                  'nature into your home.\\n'\n",
            "                  'With dimensions of 16 x 20 inches and a 4.6/5 stars rating, '\n",
            "                  \"it's a stunning addition to your decor, creating a focal \"\n",
            "                  'point that captures attention and sparks conversation.',\n",
            " 'DJKFIEI432FIE': 'Elevate your running experience with the RunFit SpeedX-500 '\n",
            "                  \"Men's Running Shoes.\\n\"\n",
            "                  'Designed for performance, these shoes feature a lightweight '\n",
            "                  'design, breathable material, and are available in vibrant '\n",
            "                  'Red, Blue, and classic Black.\\n'\n",
            "                  \"Whether you're a seasoned runner or just starting, these \"\n",
            "                  'shoes provide comfort and support for every stride, '\n",
            "                  'ensuring you reach new milestones effortlessly.',\n",
            " 'GGOENEBJ079499': 'Dive into the future with the XYZ Electronics Smartphone, '\n",
            "                   'model ABC-2000.\\n'\n",
            "                   'Boasting a 6.5-inch display, 128GB storage, and a 16MP '\n",
            "                   'camera, this powerful device redefines the smartphone '\n",
            "                   'experience.\\n'\n",
            "                   'With a sleek design and available in Black, Silver, and '\n",
            "                   'Blue, it combines cutting-edge technology with style, '\n",
            "                   'ensuring you stay connected in the most sophisticated way '\n",
            "                   'possible.',\n",
            " 'HJSKNWK429DJE': \"Immerse yourself in superior audio quality with SoundSync's \"\n",
            "                  'TunePro-2022 Wireless Earbuds.\\n'\n",
            "                  'Featuring Bluetooth 5.0, 20 hours of battery life, and '\n",
            "                  'touch controls, these earbuds deliver a seamless and '\n",
            "                  'immersive listening experience.\\n'\n",
            "                  'Available in Black and White, they combine style with '\n",
            "                  'functionality for music lovers on the go. \\n'\n",
            "                  'With a 4.7/5 stars rating, they stand out as a top choice '\n",
            "                  'in the realm of wireless audio.',\n",
            " 'JFKL3940NFKLJ': \"Embrace versatility in your workouts with FitFlex's \"\n",
            "                  'StrengthPro-300 Resistance Bands Set.\\n'\n",
            "                  'With 5 bands offering varying resistance levels and '\n",
            "                  'portability, this set is your go-to for effective strength '\n",
            "                  'training.\\n'\n",
            "                  'Available in Red, Yellow, and Blue, it caters to different '\n",
            "                  'fitness levels and adds a dynamic dimension to your '\n",
            "                  'exercise routine.',\n",
            " 'LKDFJ49LSDJKL': \"Rediscover youthful radiance with GlowBeauty's AgeDefy-300 \"\n",
            "                  'Anti-Aging Face Cream.\\n'\n",
            "                  'Formulated with natural ingredients and a hydrating '\n",
            "                  'formula, this skincare essential rejuvenates and nourishes '\n",
            "                  'your skin, leaving you with a vibrant and refreshed '\n",
            "                  'complexion.\\n'\n",
            "                  \"With a stellar 4.7/5 stars rating, it's a must-have for \"\n",
            "                  'those embracing the journey to ageless beauty.',\n",
            " 'MWKDI3JFK39SL': 'Immerse yourself in the world of storytelling with '\n",
            "                  \"BestBooks' Fictional Novel.\\n\"\n",
            "                  'This paperback, spanning 300 pages, promises a captivating '\n",
            "                  'journey through the pages of an engaging narrative.\\n'\n",
            "                  'Ideal for avid readers seeking an escape, this novel, with '\n",
            "                  'a 4.6/5 stars rating, is a testament to its ability to '\n",
            "                  'weave a compelling tale that keeps you hooked until the '\n",
            "                  'last page.',\n",
            " 'NEKFJOWE9FDIW': \"Unleash the fun with FamilyFun's GameNight-2022 Board \"\n",
            "                  'Game.\\n'\n",
            "                  'Designed for 2-6 players and suitable for ages 8 and up, '\n",
            "                  'this exciting game promises laughter and bonding moments '\n",
            "                  'for the entire family.\\n'\n",
            "                  \"With a 4.4/5 stars rating, it's a testament to its ability \"\n",
            "                  'to turn any ordinary night into an extraordinary game night '\n",
            "                  'filled with friendly competition and shared joy.',\n",
            " 'OWEJL398FWJLK': \"Elevate your yoga practice with ZenFitness' EcoMat-500 Yoga \"\n",
            "                  'Mat.\\n'\n",
            "                  'Featuring a non-slip surface, 6mm thickness, and '\n",
            "                  'eco-friendly materials, this high-quality mat provides the '\n",
            "                  'perfect foundation for your workouts.\\n'\n",
            "                  'Available in Purple, Green, and Blue, it not only enhances '\n",
            "                  'your comfort but also adds a touch of serenity to your '\n",
            "                  'exercise routine.',\n",
            " 'QWERTYUIOPASD': 'HELLOW best product!!!!!',\n",
            " 'XPLFJW2490XJN': 'Introducing the CleanTech AutoSweep-9000 Robot Vacuum '\n",
            "                  'Cleaner – your smart companion for automated cleaning.\\n'\n",
            "                  'With smart navigation, a HEPA filter, and a runtime of 90 '\n",
            "                  'minutes, this efficient device takes care of your cleaning '\n",
            "                  'needs.\\n'\n",
            "                  'Available in White and Silver, it blends seamlessly into '\n",
            "                  'your home, making cleanliness a hassle-free experience.'}\n"
          ]
        }
      ]
    },
    {
      "cell_type": "markdown",
      "source": [
        "### Checklist\n",
        "- Function `add_product_description()` defined\n",
        "- `product_descriptions` dictionary updated with new description\n",
        "- Updated `product_descriptions` dictionary returned"
      ],
      "metadata": {
        "id": "HxVoqK32UEpS"
      }
    },
    {
      "cell_type": "markdown",
      "metadata": {
        "id": "R5N6bVo82VF3"
      },
      "source": [
        "## Task 7 - Create function"
      ]
    },
    {
      "cell_type": "markdown",
      "source": [
        "### Description\n",
        "In this task, you will write a function that combines the functionalities of adding sales data, product details, and product description for a new product SKU."
      ],
      "metadata": {
        "id": "a8ACLR0kT65r"
      }
    },
    {
      "cell_type": "markdown",
      "source": [
        "### Requirements\n",
        "- Define a function named `create()` that collects comprehensive information about a new product from the user, validates the input, and updates the respective dictionaries with product details, sales data, and product descriptions.\n",
        "- The function should accept three parameters:\n",
        "  - `product_details`: A dictionary containing existing product details. Each entry maps an SKU to its corresponding product details.\n",
        "  - `sales_data`: A dictionary containing sales data. Each entry maps an SKU to a list of sales quantities for the last 14 days.\n",
        "  - `product_descriptions`: A dictionary containing product descriptions. Each entry maps an SKU to its corresponding textual description.\n",
        "- The function performs several operations:\n",
        "  - Prompts the user to input the SKU, which must be exactly 13 characters long. If the SKU does not meet this requirement, print an error message and terminate the function without updating any dictionaries.\n",
        "  - Prompts the user to enter sales data for the last 14 days, which must consist of exactly 14 integers. If the input does not meet this criterion, print an error message and terminate the function without updating any dictionaries.\n",
        "  - Collects product details from the user, including name, brand, model, specifications, price, and availability. These inputs are required but not subject to specific validation criteria for this function.\n",
        "  - Prompts the user for a product description, which is also required for successful product registration.\n",
        "- If all inputs are validated successfully, the function updates the `product_details`, `sales_data`, and `product_descriptions` dictionaries with the new product information and prints a success message.\n",
        "- Returns a tuple containing the updated `product_details`, `sales_data`, and `product_descriptions` dictionaries in that order.\n",
        "- The function is designed for use when a new product is to be added to the system and requires the caller to pass the current state of the `product_details`, `sales_data`, and `product_descriptions` dictionaries. It returns their updated states, reflecting the addition of the new product.\n"
      ],
      "metadata": {
        "id": "GLPOHSC5T65r"
      }
    },
    {
      "cell_type": "markdown",
      "source": [
        "### Recommendations\n",
        "- You can use if-else statements to check the validity of the data inputted by the user.\n",
        "- Use a list comprehension to prepare the sales data before saving it in the dictionary.\n",
        "- Use the previously defined functions to perform the actions after validating user's input.\n",
        "- Provide the data description and requirements to ChatGPT along with the libraries that you are using and ask it to generate code for the function.\n",
        "- If you get stuck somewhere, you can ask ChatGPT to explain the code to you and you can make edits as required."
      ],
      "metadata": {
        "id": "DdqcaLI1T65s"
      }
    },
    {
      "cell_type": "code",
      "execution_count": 22,
      "metadata": {
        "id": "-nqyMs8IPhnR"
      },
      "outputs": [],
      "source": [
        "def create(product_details, sales_data, product_descriptions):\n",
        "    \"\"\"\n",
        "    Collects comprehensive information about a new product from the user, validates the input, and updates the respective dictionaries with product details, sales data, and descriptions.\n",
        "\n",
        "    This function performs a series of prompts to the user to input the SKU, sales data for the last 14 days, product details (including name, brand, model, specifications, price, and availability), and a product description. Each input is validated for specific criteria:\n",
        "\n",
        "    - The SKU must be exactly 13 characters long.\n",
        "    - Sales data must consist of exactly 14 integers, representing sales for the last 14 days.\n",
        "    - Product details and description inputs are collected without specific validation but are required for successful product registration.\n",
        "\n",
        "    If any validation fails, the function prints an error message and terminates without updating any of the dictionaries, ensuring data integrity and consistency across product records.\n",
        "\n",
        "    Parameters:\n",
        "        product_details (dict): A dictionary containing existing product details. Each entry maps an SKU to its corresponding product details.\n",
        "        sales_data (dict): A dictionary containing sales data. Each entry maps an SKU to a list of sales quantities for the last 14 days.\n",
        "        product_descriptions (dict): A dictionary containing product descriptions. Each entry maps an SKU to its corresponding textual description.\n",
        "\n",
        "    Returns:\n",
        "        tuple: A tuple containing the updated dictionaries (product_details, sales_data, product_descriptions) in that order.\n",
        "\n",
        "    Usage:\n",
        "        The function is designed to be called when a new product is to be added to the system. It requires the caller to pass the current state of the product_details, sales_data, and product_descriptions dictionaries, and returns their updated states.\n",
        "    \"\"\"\n",
        "\n",
        "    #### YOUR CODE HERE ####\n",
        "    while True:\n",
        "      #Taking the input from the user to create the new SKU which is exacly 13\n",
        "      #characters long or else exit the code\n",
        "        new_sku = input(\n",
        "            \"Please give the new SKU which is exactly 13 characters long : \"\n",
        "        ).upper()\n",
        "        if len(new_sku) == 13:\n",
        "            print(\"Please give the data as asked for Product Details :- \")\n",
        "            dict2 = {\n",
        "                \"product_name \": input(\"Please enter the product name \"),\n",
        "                \"brand\": input(\"Please enter the brand name \"),\n",
        "                \"model\": input(\"Please enter the model name \"),\n",
        "                \"specifications\": input(\"Please enter the specifications \"),\n",
        "                \"price\": input(\"Please enter the price \"),\n",
        "                \"availability\": input(\"Please enter the availability of the product \"),\n",
        "            }\n",
        "\n",
        "            new_quantities = [\n",
        "                int(i)\n",
        "                for i in input(\n",
        "                    \"Please give the sales data for 14 days seperated by commas \"\n",
        "                ).split(\",\")\n",
        "                if i.isnumeric()\n",
        "            ]\n",
        "            if len(new_quantities) == 14:\n",
        "                line = input(\"Please give Product Description \")\n",
        "                product_details = add_product_details(product_details, new_sku, dict2)\n",
        "                sales_data = add_sales_data(sales_data, new_sku, new_quantities)\n",
        "                product_descriptions = add_product_description(product_descriptions, new_sku, line)\n",
        "                #Appending the new SKU in the list which we had created before\n",
        "                #so that new SKUS get added\n",
        "                product_skus.append(new_sku)\n",
        "                print(\"The list with all the NEW skus are :- \")\n",
        "                print()\n",
        "                pprint.pprint(product_skus)\n",
        "                break\n",
        "            #Taking the input from the user again if the sales data is not for 14 days\n",
        "            else:\n",
        "                print(\"Please enter the correct no of sales data for 14 days \")\n",
        "                break\n",
        "\n",
        "        else:\n",
        "            print(\n",
        "                \"The SKU entered is not 13 characters long and it doesnt meet the requirements. \"\n",
        "            )\n",
        "            break\n",
        "\n",
        "    return product_details, sales_data, product_descriptions\n"
      ]
    },
    {
      "cell_type": "markdown",
      "source": [
        "Check your code here."
      ],
      "metadata": {
        "id": "LEyahKVZCtpR"
      }
    },
    {
      "cell_type": "code",
      "source": [
        "##Checking if create(product_details, sales_data, product_descriptions)\n",
        "''' Requirements--\n",
        "      - Taking inout from the user\n",
        "      - CHecking wether SKU is 13 chars long\n",
        "      -Checking wether sales data is for 14 days\n",
        "      - If above conditions are meeting crerate all the new dictionaries with the\n",
        "      new SKUS and its values in its disctionaries as per the values needed by the\n",
        "      project\n",
        "\n",
        "    Print --\n",
        "      - If the conditions are meeeting then printing the new skus and its updated\n",
        "      dictionaris.\n",
        "      - If conditions not meeting then printing the original dictionaries without\n",
        "      updating it\n",
        "'''\n",
        "### Checking the Requirements asked :-\n",
        "original_len_of_prod_det = len(product_details)\n",
        "original_len_of_prod_desc = len(product_descriptions)\n",
        "original_len_of_sales_data = len(sales_data)\n",
        "\n",
        "#Calling the functions create():\n",
        "\n",
        "product_details, sales_data, product_descriptions = create(product_details, sales_data, product_descriptions)\n",
        "\n",
        "if (\n",
        "    len(product_details) == original_len_of_prod_det + 1 and\n",
        "    len(product_descriptions) == original_len_of_prod_desc + 1 and\n",
        "    len(sales_data) == original_len_of_sales_data + 1\n",
        "):\n",
        "\n",
        "#Printing the updated dictionaries :-\n",
        "\n",
        "    print(\"New product skus are\")\n",
        "    pprint.pprint(product_skus)\n",
        "    print()\n",
        "    print(\"new product_details are = \")\n",
        "    print()\n",
        "    pprint.pprint(product_details)\n",
        "    print()\n",
        "    print(\"new sales data is = \")\n",
        "    print()\n",
        "    pprint.pprint(sales_data)\n",
        "    print()\n",
        "    print(\"new product_description are = \")\n",
        "    print()\n",
        "    pprint.pprint(product_descriptions)\n",
        "    print()\n",
        "else:\n",
        "# If conditions are not meeting, pritnind the original dictionaries :-\n",
        "\n",
        "    print(\"original skus are\")\n",
        "    pprint.pprint(product_skus)\n",
        "    print()\n",
        "    print(\"original product_details are = \")\n",
        "    print()\n",
        "    pprint.pprint(product_details)\n",
        "    print()\n",
        "    print(\"original sales data is = \")\n",
        "    print()\n",
        "    pprint.pprint(sales_data)\n",
        "    print()\n",
        "    print(\"original product_description are = \")\n",
        "    print()\n",
        "    pprint.pprint(product_descriptions)\n",
        "    print()"
      ],
      "metadata": {
        "id": "aopumr_94Nz5",
        "colab": {
          "base_uri": "https://localhost:8080/"
        },
        "outputId": "f20d69ee-b15e-4083-aae9-9b2e972dc74d"
      },
      "execution_count": 23,
      "outputs": [
        {
          "output_type": "stream",
          "name": "stdout",
          "text": [
            "Please give the new SKU which is exactly 13 characters long : QWERTYUIOPASD\n",
            "Please give the data as asked for Product Details :- \n",
            "Please enter the product name MBO\n",
            "Please enter the brand name GH\n",
            "Please enter the model name GH\n",
            "Please enter the specifications GH\n",
            "Please enter the price GH\n",
            "Please enter the availability of the product GH\n",
            "Please give the sales data for 14 days seperated by commas GH\n",
            "Please enter the correct no of sales data for 14 days \n",
            "original skus are\n",
            "['NEKFJOWE9FDIW',\n",
            " 'LKDFJ49LSDJKL',\n",
            " 'HJSKNWK429DJE',\n",
            " 'DJKFIEI432FIE',\n",
            " 'JFKL3940NFKLJ',\n",
            " 'MWKDI3JFK39SL',\n",
            " 'GGOENEBJ079499',\n",
            " 'AISJDKFJW93NJ',\n",
            " 'OWEJL398FWJLK',\n",
            " 'XPLFJW2490XJN']\n",
            "\n",
            "original product_details are = \n",
            "\n",
            "{'AISJDKFJW93NJ': {'availability': 'In stock',\n",
            "                   'brand': 'ArtCraft',\n",
            "                   'model': 'NatureCanvas-1001',\n",
            "                   'price': '$49.99',\n",
            "                   'product_name': 'Wall Art Print',\n",
            "                   'specifications': 'Canvas print, Ready to hang'},\n",
            " 'DJKFIEI432FIE': {'availability': 'In stock',\n",
            "                   'brand': 'RunFit',\n",
            "                   'model': 'SpeedX-500',\n",
            "                   'price': '$79.99',\n",
            "                   'product_name': \"Men's Running Shoes\",\n",
            "                   'specifications': 'Size 10, Lightweight design, Breathable '\n",
            "                                     'material'},\n",
            " 'GGOENEBJ079499': {'availability': 'In stock',\n",
            "                    'brand': 'XYZ Electronics',\n",
            "                    'model': 'ABC-2000',\n",
            "                    'price': '$499.99',\n",
            "                    'product_name': 'Smartphone',\n",
            "                    'specifications': '6.5-inch display, 128GB storage, 16MP '\n",
            "                                      'camera'},\n",
            " 'HJSKNWK429DJE': {'availability': 'In stock',\n",
            "                   'brand': 'SoundSync',\n",
            "                   'model': 'TunePro-2022',\n",
            "                   'price': '$89.99',\n",
            "                   'product_name': 'Wireless Earbuds',\n",
            "                   'specifications': 'Bluetooth 5.0, 20 hours battery life, '\n",
            "                                     'Touch controls'},\n",
            " 'JFKL3940NFKLJ': {'availability': 'In stock',\n",
            "                   'brand': 'FitFlex',\n",
            "                   'model': 'StrengthPro-300',\n",
            "                   'price': '$34.99',\n",
            "                   'product_name': 'Resistance Bands Set',\n",
            "                   'specifications': '5 bands, Varying resistance levels, '\n",
            "                                     'Portable'},\n",
            " 'LKDFJ49LSDJKL': {'availability': 'In stock',\n",
            "                   'brand': 'GlowBeauty',\n",
            "                   'model': 'AgeDefy-300',\n",
            "                   'price': '$39.99',\n",
            "                   'product_name': 'Anti-Aging Face Cream',\n",
            "                   'specifications': 'Natural ingredients, Hydrating formula'},\n",
            " 'MWKDI3JFK39SL': {'availability': 'In stock',\n",
            "                   'brand': 'BestBooks',\n",
            "                   'model': None,\n",
            "                   'price': '$14.99',\n",
            "                   'product_name': 'Fictional Novel',\n",
            "                   'specifications': 'Paperback, 300 pages'},\n",
            " 'NEKFJOWE9FDIW': {'availability': 'In stock',\n",
            "                   'brand': 'FamilyFun',\n",
            "                   'model': 'GameNight-2022',\n",
            "                   'price': '$29.99',\n",
            "                   'product_name': 'Board Game',\n",
            "                   'specifications': '2-6 players, Ages 8 and up'},\n",
            " 'OWEJL398FWJLK': {'availability': 'In stock',\n",
            "                   'brand': 'ZenFitness',\n",
            "                   'model': 'EcoMat-500',\n",
            "                   'price': '$19.99',\n",
            "                   'product_name': 'Yoga Mat',\n",
            "                   'specifications': 'Non-slip, 6mm thickness, Eco-friendly '\n",
            "                                     'material'},\n",
            " 'QWERTYUIOPASD': {'availability': 'not in stock',\n",
            "                   'brand': 'apple',\n",
            "                   'model': '16 plus',\n",
            "                   'price': '190000',\n",
            "                   'product_name ': 'Mobile',\n",
            "                   'specifications': '100 gb ram'},\n",
            " 'XPLFJW2490XJN': {'availability': 'In stock',\n",
            "                   'brand': 'CleanTech',\n",
            "                   'model': 'AutoSweep-9000',\n",
            "                   'price': '$249.99',\n",
            "                   'product_name': 'Robot Vacuum Cleaner',\n",
            "                   'specifications': 'Smart navigation, HEPA filter, 90 '\n",
            "                                     'minutes runtime'}}\n",
            "\n",
            "original sales data is = \n",
            "\n",
            "{'AISJDKFJW93NJ': ['10',\n",
            "                   '12',\n",
            "                   '15',\n",
            "                   '18',\n",
            "                   '20',\n",
            "                   '22',\n",
            "                   '25',\n",
            "                   '28',\n",
            "                   '26',\n",
            "                   '30',\n",
            "                   '32',\n",
            "                   '29',\n",
            "                   '27',\n",
            "                   '24'],\n",
            " 'DJKFIEI432FIE': ['8',\n",
            "                   '10',\n",
            "                   '12',\n",
            "                   '15',\n",
            "                   '20',\n",
            "                   '18',\n",
            "                   '14',\n",
            "                   '13',\n",
            "                   '17',\n",
            "                   '10',\n",
            "                   '8',\n",
            "                   '11',\n",
            "                   '14',\n",
            "                   '16'],\n",
            " 'GGOENEBJ079499': ['15',\n",
            "                    '18',\n",
            "                    '22',\n",
            "                    '25',\n",
            "                    '28',\n",
            "                    '20',\n",
            "                    '17',\n",
            "                    '23',\n",
            "                    '19',\n",
            "                    '21',\n",
            "                    '24',\n",
            "                    '27',\n",
            "                    '18',\n",
            "                    '20'],\n",
            " 'HJSKNWK429DJE': ['30',\n",
            "                   '32',\n",
            "                   '35',\n",
            "                   '38',\n",
            "                   '40',\n",
            "                   '42',\n",
            "                   '45',\n",
            "                   '48',\n",
            "                   '50',\n",
            "                   '52',\n",
            "                   '55',\n",
            "                   '53',\n",
            "                   '49',\n",
            "                   '47'],\n",
            " 'JFKL3940NFKLJ': ['18',\n",
            "                   '20',\n",
            "                   '22',\n",
            "                   '25',\n",
            "                   '28',\n",
            "                   '30',\n",
            "                   '32',\n",
            "                   '35',\n",
            "                   '38',\n",
            "                   '36',\n",
            "                   '33',\n",
            "                   '29',\n",
            "                   '26',\n",
            "                   '24'],\n",
            " 'LKDFJ49LSDJKL': ['25',\n",
            "                   '28',\n",
            "                   '30',\n",
            "                   '32',\n",
            "                   '35',\n",
            "                   '38',\n",
            "                   '42',\n",
            "                   '40',\n",
            "                   '37',\n",
            "                   '34',\n",
            "                   '36',\n",
            "                   '31',\n",
            "                   '29',\n",
            "                   '27'],\n",
            " 'MWKDI3JFK39SL': ['30',\n",
            "                   '35',\n",
            "                   '40',\n",
            "                   '45',\n",
            "                   '50',\n",
            "                   '42',\n",
            "                   '37',\n",
            "                   '38',\n",
            "                   '41',\n",
            "                   '36',\n",
            "                   '33',\n",
            "                   '39',\n",
            "                   '40',\n",
            "                   '44'],\n",
            " 'NEKFJOWE9FDIW': ['12',\n",
            "                   '15',\n",
            "                   '18',\n",
            "                   '20',\n",
            "                   '22',\n",
            "                   '24',\n",
            "                   '21',\n",
            "                   '23',\n",
            "                   '25',\n",
            "                   '28',\n",
            "                   '30',\n",
            "                   '27',\n",
            "                   '26',\n",
            "                   '29'],\n",
            " 'OWEJL398FWJLK': ['20',\n",
            "                   '22',\n",
            "                   '25',\n",
            "                   '28',\n",
            "                   '30',\n",
            "                   '32',\n",
            "                   '35',\n",
            "                   '38',\n",
            "                   '36',\n",
            "                   '33',\n",
            "                   '29',\n",
            "                   '26',\n",
            "                   '24',\n",
            "                   '27'],\n",
            " 'QWERTYUIOPASD': ['1',\n",
            "                   '2',\n",
            "                   '3',\n",
            "                   '4',\n",
            "                   '5',\n",
            "                   '6',\n",
            "                   '7',\n",
            "                   '8',\n",
            "                   '9',\n",
            "                   '10',\n",
            "                   '11',\n",
            "                   '12',\n",
            "                   '13',\n",
            "                   '14'],\n",
            " 'XPLFJW2490XJN': ['5',\n",
            "                   '8',\n",
            "                   '9',\n",
            "                   '12',\n",
            "                   '15',\n",
            "                   '10',\n",
            "                   '14',\n",
            "                   '16',\n",
            "                   '20',\n",
            "                   '18',\n",
            "                   '22',\n",
            "                   '25',\n",
            "                   '19',\n",
            "                   '21']}\n",
            "\n",
            "original product_description are = \n",
            "\n",
            "{'AISJDKFJW93NJ': \"Transform your living space with ArtCraft's \"\n",
            "                  'NatureCanvas-1001 Wall Art Print.\\n'\n",
            "                  'This canvas print, ready to hang, brings the beauty of '\n",
            "                  'nature into your home.\\n'\n",
            "                  'With dimensions of 16 x 20 inches and a 4.6/5 stars rating, '\n",
            "                  \"it's a stunning addition to your decor, creating a focal \"\n",
            "                  'point that captures attention and sparks conversation.',\n",
            " 'DJKFIEI432FIE': 'Elevate your running experience with the RunFit SpeedX-500 '\n",
            "                  \"Men's Running Shoes.\\n\"\n",
            "                  'Designed for performance, these shoes feature a lightweight '\n",
            "                  'design, breathable material, and are available in vibrant '\n",
            "                  'Red, Blue, and classic Black.\\n'\n",
            "                  \"Whether you're a seasoned runner or just starting, these \"\n",
            "                  'shoes provide comfort and support for every stride, '\n",
            "                  'ensuring you reach new milestones effortlessly.',\n",
            " 'GGOENEBJ079499': 'Dive into the future with the XYZ Electronics Smartphone, '\n",
            "                   'model ABC-2000.\\n'\n",
            "                   'Boasting a 6.5-inch display, 128GB storage, and a 16MP '\n",
            "                   'camera, this powerful device redefines the smartphone '\n",
            "                   'experience.\\n'\n",
            "                   'With a sleek design and available in Black, Silver, and '\n",
            "                   'Blue, it combines cutting-edge technology with style, '\n",
            "                   'ensuring you stay connected in the most sophisticated way '\n",
            "                   'possible.',\n",
            " 'HJSKNWK429DJE': \"Immerse yourself in superior audio quality with SoundSync's \"\n",
            "                  'TunePro-2022 Wireless Earbuds.\\n'\n",
            "                  'Featuring Bluetooth 5.0, 20 hours of battery life, and '\n",
            "                  'touch controls, these earbuds deliver a seamless and '\n",
            "                  'immersive listening experience.\\n'\n",
            "                  'Available in Black and White, they combine style with '\n",
            "                  'functionality for music lovers on the go. \\n'\n",
            "                  'With a 4.7/5 stars rating, they stand out as a top choice '\n",
            "                  'in the realm of wireless audio.',\n",
            " 'JFKL3940NFKLJ': \"Embrace versatility in your workouts with FitFlex's \"\n",
            "                  'StrengthPro-300 Resistance Bands Set.\\n'\n",
            "                  'With 5 bands offering varying resistance levels and '\n",
            "                  'portability, this set is your go-to for effective strength '\n",
            "                  'training.\\n'\n",
            "                  'Available in Red, Yellow, and Blue, it caters to different '\n",
            "                  'fitness levels and adds a dynamic dimension to your '\n",
            "                  'exercise routine.',\n",
            " 'LKDFJ49LSDJKL': \"Rediscover youthful radiance with GlowBeauty's AgeDefy-300 \"\n",
            "                  'Anti-Aging Face Cream.\\n'\n",
            "                  'Formulated with natural ingredients and a hydrating '\n",
            "                  'formula, this skincare essential rejuvenates and nourishes '\n",
            "                  'your skin, leaving you with a vibrant and refreshed '\n",
            "                  'complexion.\\n'\n",
            "                  \"With a stellar 4.7/5 stars rating, it's a must-have for \"\n",
            "                  'those embracing the journey to ageless beauty.',\n",
            " 'MWKDI3JFK39SL': 'Immerse yourself in the world of storytelling with '\n",
            "                  \"BestBooks' Fictional Novel.\\n\"\n",
            "                  'This paperback, spanning 300 pages, promises a captivating '\n",
            "                  'journey through the pages of an engaging narrative.\\n'\n",
            "                  'Ideal for avid readers seeking an escape, this novel, with '\n",
            "                  'a 4.6/5 stars rating, is a testament to its ability to '\n",
            "                  'weave a compelling tale that keeps you hooked until the '\n",
            "                  'last page.',\n",
            " 'NEKFJOWE9FDIW': \"Unleash the fun with FamilyFun's GameNight-2022 Board \"\n",
            "                  'Game.\\n'\n",
            "                  'Designed for 2-6 players and suitable for ages 8 and up, '\n",
            "                  'this exciting game promises laughter and bonding moments '\n",
            "                  'for the entire family.\\n'\n",
            "                  \"With a 4.4/5 stars rating, it's a testament to its ability \"\n",
            "                  'to turn any ordinary night into an extraordinary game night '\n",
            "                  'filled with friendly competition and shared joy.',\n",
            " 'OWEJL398FWJLK': \"Elevate your yoga practice with ZenFitness' EcoMat-500 Yoga \"\n",
            "                  'Mat.\\n'\n",
            "                  'Featuring a non-slip surface, 6mm thickness, and '\n",
            "                  'eco-friendly materials, this high-quality mat provides the '\n",
            "                  'perfect foundation for your workouts.\\n'\n",
            "                  'Available in Purple, Green, and Blue, it not only enhances '\n",
            "                  'your comfort but also adds a touch of serenity to your '\n",
            "                  'exercise routine.',\n",
            " 'QWERTYUIOPASD': 'HELLOW best product!!!!!',\n",
            " 'XPLFJW2490XJN': 'Introducing the CleanTech AutoSweep-9000 Robot Vacuum '\n",
            "                  'Cleaner – your smart companion for automated cleaning.\\n'\n",
            "                  'With smart navigation, a HEPA filter, and a runtime of 90 '\n",
            "                  'minutes, this efficient device takes care of your cleaning '\n",
            "                  'needs.\\n'\n",
            "                  'Available in White and Silver, it blends seamlessly into '\n",
            "                  'your home, making cleanliness a hassle-free experience.'}\n",
            "\n"
          ]
        }
      ]
    },
    {
      "cell_type": "markdown",
      "source": [
        "### Checklist\n",
        "- Prompted and validated SKU length (13 characters)\n",
        "- Collected sales data for 14 days and ensure it includes exactly 14 integers\n",
        "- Gathered product name, brand, model, specifications, price, and availability\n",
        "- Collected a textual description of the product\n",
        "- Updated `product_details`, `sales_data`, and `product_descriptions` dictionaries after successful data validation\n",
        "- Returned the updated dictionaries in the correct order\n",
        "- Performed all validations before dictionary updates to maintain data integrity\n"
      ],
      "metadata": {
        "id": "aC5XgGg0UF4n"
      }
    },
    {
      "cell_type": "markdown",
      "metadata": {
        "id": "YlCh6WDtCfd2"
      },
      "source": [
        "# Stage 3 - Read\n",
        "In this stage, you will focus on reading and displaying the existing data for products. This involves fetching and presenting information such as sales data, product details, and product description based on the product sku the user inputs.\n",
        "- Task 8  - Display sales data\n",
        "- Task 9  - Display product details\n",
        "- Task 10 - Display product descriptions\n",
        "- Task 11 - Read function"
      ]
    },
    {
      "cell_type": "markdown",
      "metadata": {
        "id": "3R70iqW55eNi"
      },
      "source": [
        "## Task 8 - Display sales data"
      ]
    },
    {
      "cell_type": "markdown",
      "source": [
        "### Description\n",
        "This task involves creating a function to display sales data for a product based on its SKU."
      ],
      "metadata": {
        "id": "1ugoJmHNT7hY"
      }
    },
    {
      "cell_type": "markdown",
      "source": [
        "### Requirements\n",
        "- Define a function named `display_sales_data()` that displays sales data for a product with a given SKU.\n",
        "- The function should accept two parameters:\n",
        "   - `sales_data`: A dictionary containing sales data.\n",
        "   - `sku`: A string representing the product SKU.\n",
        "- The function should pretty print the sales data associated with the provided SKU.\n",
        "- The function should not return any value.\n"
      ],
      "metadata": {
        "id": "SKF4W01zT7hZ"
      }
    },
    {
      "cell_type": "markdown",
      "source": [
        "### Recommendations\n",
        "- Use the `pprint` module for pretty printing the sales data.\n",
        "- Read more about `pprint` [here](https://docs.python.org/3/library/pprint.html).\n",
        "- Provide the data description and requirements to ChatGPT along with the libraries that you are using and ask it to generate code for the function.\n",
        "- If you get stuck somewhere, you can ask ChatGPT to explain the code to you and you can make edits as required."
      ],
      "metadata": {
        "id": "6021VZyTT7hZ"
      }
    },
    {
      "cell_type": "code",
      "execution_count": 27,
      "metadata": {
        "id": "wbX5901q5ej4"
      },
      "outputs": [],
      "source": [
        "def display_sales_data(sales_data, sku):\n",
        "  \"\"\"\n",
        "  Display sales data for a product with a given SKU.\n",
        "\n",
        "  Parameters:\n",
        "      sales_data (dict): The dictionary containing sales data.\n",
        "      sku (str): The product SKU.\n",
        "\n",
        "  Returns:\n",
        "      None\n",
        "  \"\"\"\n",
        "  #### YOUR CODE HERE ####\n",
        "  if sales_data.get(sku):\n",
        "    print(\"Given Sku by you is : \", sku)\n",
        "    print()\n",
        "    print(\"Its Sales data for 14 days are as follows:- \")\n",
        "    print()\n",
        "    pprint.pprint(sales_data.get(sku))"
      ]
    },
    {
      "cell_type": "markdown",
      "source": [
        "Check your code here."
      ],
      "metadata": {
        "id": "VGxsdxGZCwlc"
      }
    },
    {
      "cell_type": "code",
      "source": [
        "## Checking if the display_sales_data(sales_data, sku) is working or not\n",
        "\n",
        "##Example usage -- Giving in the function a specific SKU to display its sales data\n",
        "\n",
        "display_sales_data(sales_data, 'AISJDKFJW93NJ')"
      ],
      "metadata": {
        "colab": {
          "base_uri": "https://localhost:8080/"
        },
        "id": "vuFULDLNKMCs",
        "outputId": "654c74b6-bef2-4929-be99-df822226ed9f"
      },
      "execution_count": 29,
      "outputs": [
        {
          "output_type": "stream",
          "name": "stdout",
          "text": [
            "Given Sku by you is :  AISJDKFJW93NJ\n",
            "\n",
            "Its Sales data for 14 days are as follows:- \n",
            "\n",
            "['10',\n",
            " '12',\n",
            " '15',\n",
            " '18',\n",
            " '20',\n",
            " '22',\n",
            " '25',\n",
            " '28',\n",
            " '26',\n",
            " '30',\n",
            " '32',\n",
            " '29',\n",
            " '27',\n",
            " '24']\n"
          ]
        }
      ]
    },
    {
      "cell_type": "markdown",
      "source": [
        "### Checklist\n",
        "- Function `display_sales_data()` defined\n",
        "- Sales data for the specified product SKU displayed"
      ],
      "metadata": {
        "id": "VzXYoHX0UGox"
      }
    },
    {
      "cell_type": "markdown",
      "metadata": {
        "id": "NroXZVie5fHA"
      },
      "source": [
        "## Task 9 - Display product details\n"
      ]
    },
    {
      "cell_type": "markdown",
      "source": [
        "### Description\n",
        "This task involves creating a function to display product details for a product based on its SKU.\n"
      ],
      "metadata": {
        "id": "Uh_43T7oT8JJ"
      }
    },
    {
      "cell_type": "markdown",
      "source": [
        "### Requirements\n",
        "- Define a function named `display_product_details()` that displays product details for a product with a given SKU.\n",
        "- The function should accept two parameters:\n",
        "   - `product_details`: A dictionary containing product details.\n",
        "   - `sku`: A string representing the product SKU.\n",
        "- The function should pretty print the details of the product corresponding to the provided SKU.\n",
        "- The function should not return any value.\n"
      ],
      "metadata": {
        "id": "NLghuuxdT8JQ"
      }
    },
    {
      "cell_type": "markdown",
      "source": [
        "### Recommendations\n",
        "- Utilize the `pprint` module for pretty printing the product details.\n",
        "- Read more about `pprint` [here](https://docs.python.org/3/library/pprint.html).\n",
        "- Provide the data description and requirements to ChatGPT along with the libraries that you are using and ask it to generate code for the function.\n",
        "- If you get stuck somewhere, you can ask ChatGPT to explain the code to you and you can make edits as required."
      ],
      "metadata": {
        "id": "-PTQskqlT8JR"
      }
    },
    {
      "cell_type": "code",
      "execution_count": 30,
      "metadata": {
        "id": "oMgOHxUg5fZo"
      },
      "outputs": [],
      "source": [
        "def display_product_details(product_details, sku):\n",
        "  \"\"\"\n",
        "  Display product details for a product with a given SKU.\n",
        "\n",
        "  Parameters:\n",
        "      product_details (dict): The dictionary containing product details.\n",
        "      sku (str): The product SKU.\n",
        "\n",
        "  Returns:\n",
        "      None\n",
        "  \"\"\"\n",
        "  #### YOUR CODE HERE ####\n",
        "  prod_det_for_sku = product_details.get(sku)\n",
        "  if prod_det_for_sku:\n",
        "    print(\"sku given is \", sku)\n",
        "    print()\n",
        "    print(\"Its Product Details are as follows:- \")\n",
        "    print()\n",
        "    pprint.pprint(prod_det_for_sku)\n"
      ]
    },
    {
      "cell_type": "markdown",
      "source": [
        "Check your code here."
      ],
      "metadata": {
        "id": "mW3o6GhTCxnC"
      }
    },
    {
      "cell_type": "code",
      "source": [
        "## Checking if the display_product_details(product_details, sku) is working or not\n",
        "\n",
        "##Example usage -- Giving in the function a specific SKU to display its product details\n",
        "\n",
        "display_product_details(product_details, 'AISJDKFJW93NJ')"
      ],
      "metadata": {
        "id": "dBgBMlLGCyAF",
        "colab": {
          "base_uri": "https://localhost:8080/"
        },
        "outputId": "7d8dd978-2312-4cbd-dca1-963a399175c1"
      },
      "execution_count": 31,
      "outputs": [
        {
          "output_type": "stream",
          "name": "stdout",
          "text": [
            "sku given is  AISJDKFJW93NJ\n",
            "\n",
            "Its Product Details are as follows:- \n",
            "\n",
            "{'availability': 'In stock',\n",
            " 'brand': 'ArtCraft',\n",
            " 'model': 'NatureCanvas-1001',\n",
            " 'price': '$49.99',\n",
            " 'product_name': 'Wall Art Print',\n",
            " 'specifications': 'Canvas print, Ready to hang'}\n"
          ]
        }
      ]
    },
    {
      "cell_type": "markdown",
      "source": [
        "### Checklist\n",
        "- Function `display_product_details()` defined\n",
        "- Product details for the specified product SKU displayed"
      ],
      "metadata": {
        "id": "DKCn6a7tUHVE"
      }
    },
    {
      "cell_type": "markdown",
      "metadata": {
        "id": "ERPSSzKP5fxA"
      },
      "source": [
        "## Task 10 - Display product description"
      ]
    },
    {
      "cell_type": "markdown",
      "source": [
        "### Description\n",
        "This task involves creating a function to display product description for a product based on its SKU.\n"
      ],
      "metadata": {
        "id": "eHd0CTPnT8lp"
      }
    },
    {
      "cell_type": "markdown",
      "source": [
        "### Requirements\n",
        "- Define a function named `display_product_descriptions()` that displays the product description for a product with a given SKU.\n",
        "- The function should accept two parameters:\n",
        "   - `product_descriptions`: A dictionary containing product descriptions.\n",
        "   - `sku`: A string representing the product SKU.\n",
        "- The function should using pretty print the product description for that SKU.\n",
        "- The function should not return any value.\n"
      ],
      "metadata": {
        "id": "1OePwmU4T8lq"
      }
    },
    {
      "cell_type": "markdown",
      "source": [
        "### Recommendations\n",
        "- Provide the data description and requirements to ChatGPT along with the libraries that you are using and ask it to generate code for the function.\n",
        "- If you get stuck somewhere, you can ask ChatGPT to explain the code to you and you can make edits as required."
      ],
      "metadata": {
        "id": "O6jZw_84T8lq"
      }
    },
    {
      "cell_type": "code",
      "execution_count": 32,
      "metadata": {
        "id": "yYDYdMFQ5gGX"
      },
      "outputs": [],
      "source": [
        "def display_product_descriptions(product_descriptions, sku):\n",
        "  \"\"\"\n",
        "  Display product description for a product with a given SKU.\n",
        "\n",
        "  Parameters:\n",
        "      product_descriptions (dict): The dictionary containing product descriptions.\n",
        "      sku (str): The product SKU.\n",
        "\n",
        "  Returns:\n",
        "      None\n",
        "  \"\"\"\n",
        "  #### YOUR CODE HERE ####\n",
        "  if product_descriptions.get(sku):\n",
        "    print(\"Given sku is\", sku)\n",
        "    print()\n",
        "    print(\"Its Product Descriptions are as follows:- \")\n",
        "    print()\n",
        "    pprint.pprint(product_descriptions.get(sku))\n",
        "\n",
        "\n"
      ]
    },
    {
      "cell_type": "markdown",
      "source": [
        "Check your code here."
      ],
      "metadata": {
        "id": "mXnYw13fCy3w"
      }
    },
    {
      "cell_type": "code",
      "source": [
        "## Checking if the  display_product_descriptions(product_descriptions, sku) is working or not\n",
        "\n",
        "##Example usage -- Giving in the function a specific SKU to display its product descriptions\n",
        "\n",
        "display_product_descriptions(product_descriptions, 'AISJDKFJW93NJ')"
      ],
      "metadata": {
        "id": "9uYDj-_rCzN4",
        "colab": {
          "base_uri": "https://localhost:8080/"
        },
        "outputId": "5fafdb8a-d0f9-4478-fc14-54dae0a6a315"
      },
      "execution_count": 33,
      "outputs": [
        {
          "output_type": "stream",
          "name": "stdout",
          "text": [
            "Given sku is AISJDKFJW93NJ\n",
            "\n",
            "Its Product Descriptions are as follows:- \n",
            "\n",
            "(\"Transform your living space with ArtCraft's NatureCanvas-1001 Wall Art \"\n",
            " 'Print.\\n'\n",
            " 'This canvas print, ready to hang, brings the beauty of nature into your '\n",
            " 'home.\\n'\n",
            " \"With dimensions of 16 x 20 inches and a 4.6/5 stars rating, it's a stunning \"\n",
            " 'addition to your decor, creating a focal point that captures attention and '\n",
            " 'sparks conversation.')\n"
          ]
        }
      ]
    },
    {
      "cell_type": "markdown",
      "source": [
        "### Checklist\n",
        "- Function `display_product_descriptions(`) defined\n",
        "- Product description for the specified product SKU displayed"
      ],
      "metadata": {
        "id": "eSxW5hEpUHx3"
      }
    },
    {
      "cell_type": "markdown",
      "metadata": {
        "id": "9yuXz53S5gYn"
      },
      "source": [
        "## Task 11 - Read function"
      ]
    },
    {
      "cell_type": "markdown",
      "source": [
        "### Description\n",
        "This task involves creating a main function `read()` that calls the functions defined in tasks 8, 9, and 10 to display sales data, product details, and product descriptions."
      ],
      "metadata": {
        "id": "7IV9-DRXT9II"
      }
    },
    {
      "cell_type": "markdown",
      "source": [
        "### Requirements\n",
        "- Define a function named `read()` that reads and displays sales data, product details, and product descriptions for a given product SKU.\n",
        "- The function should accept three parameters:\n",
        "  - `sales_data`: A dictionary containing sales data. Each entry maps an SKU to a list of sales quantities.\n",
        "  - `product_details`: A dictionary containing product details. Each entry maps an SKU to its corresponding product details.\n",
        "  - `product_descriptions`: A dictionary containing product descriptions. Each entry maps an SKU to its corresponding textual description.\n",
        "- The function performs the following operations:\n",
        "  - Prompts the user to input the SKU of the product they wish to inquire about.\n",
        "  - Checks if the provided SKU exists in any of the dictionaries (`sales_data`, `product_details`, or `product_descriptions`). If the SKU does not exist in any of these dictionaries, the function prints a message indicating that the product SKU was not found and exits early without performing any further actions.\n",
        "  - If the SKU exists, the function proceeds to display the sales data, product details, and product descriptions associated with that SKU. This is done by calling separate functions (`display_sales_data()`, `display_product_details()`, `display_product_descriptions()`) for each type of information, passing the respective dictionary and the SKU as arguments.\n",
        "- The function returns `None`.\n",
        "- This function is intended to provide a comprehensive overview of a product's information stored across different dictionaries, facilitating easy access to sales figures, detailed product information, and descriptive texts based on the product's SKU.\n"
      ],
      "metadata": {
        "id": "DXOdZVpxT9IO"
      }
    },
    {
      "cell_type": "markdown",
      "source": [
        "### Recommendations\n",
        "- In cases where the SKU doesn't exist in the dataset, print a message and exit the function.\n",
        "- Provide the data description and requirements to ChatGPT along with the libraries that you are using and ask it to generate code for the function.\n",
        "- If you get stuck somewhere, you can ask ChatGPT to explain the code to you and you can make edits as required."
      ],
      "metadata": {
        "id": "2cJ6Ez67T9IO"
      }
    },
    {
      "cell_type": "code",
      "execution_count": 34,
      "metadata": {
        "id": "ZghUP8YR5gsq"
      },
      "outputs": [],
      "source": [
        "def read(\n",
        "        product_details: dict,\n",
        "        sales_data: dict,\n",
        "        product_descriptions: dict\n",
        "    ) -> None:\n",
        "  \"\"\"\n",
        "  Main function to read and display sales data, product details, and product descriptions.\n",
        "\n",
        "  Checks if the SKU exists in any of the dictionaries before proceeding.\n",
        "  If the SKU does not exist, prints a message and exits the function early.\n",
        "\n",
        "  Parameters:\n",
        "      sales_data (dict): The dictionary containing sales data.\n",
        "      product_details (dict): The dictionary containing product details.\n",
        "      product_descriptions (dict): The dictionary containing product descriptions.\n",
        "\n",
        "  Returns:\n",
        "      None\n",
        "  \"\"\"\n",
        "  #### YOUR CODE HERE ####\n",
        "  pprint.pprint(product_skus)\n",
        "  print()\n",
        "  print(\"Please select SKU's from the above printed LIST \")\n",
        "  print()\n",
        "  sku_input_user1 = input()\n",
        "  if (\n",
        "      product_details.get(sku_input_user1) or\n",
        "      sales_data.get(sku_input_user1) or\n",
        "      product_descriptions.get(sku_input_user1)\n",
        "  ):\n",
        "    display_sales_data(sales_data, sku_input_user1)\n",
        "    display_product_details(product_details, sku_input_user1)\n",
        "    display_product_descriptions(product_descriptions, sku_input_user1)\n",
        "  else:\n",
        "    print(\"The product SKU was not found\")\n",
        "\n",
        "\n"
      ]
    },
    {
      "cell_type": "markdown",
      "source": [
        "Check your code here."
      ],
      "metadata": {
        "id": "A7U1vI-sC0jJ"
      }
    },
    {
      "cell_type": "code",
      "source": [
        "read(product_details, sales_data, product_descriptions)"
      ],
      "metadata": {
        "id": "XT7-DymLFzeD",
        "colab": {
          "base_uri": "https://localhost:8080/"
        },
        "outputId": "5157c8a3-fa16-4c34-e6e8-eb6039a001ef"
      },
      "execution_count": 35,
      "outputs": [
        {
          "output_type": "stream",
          "name": "stdout",
          "text": [
            "['NEKFJOWE9FDIW',\n",
            " 'LKDFJ49LSDJKL',\n",
            " 'HJSKNWK429DJE',\n",
            " 'DJKFIEI432FIE',\n",
            " 'JFKL3940NFKLJ',\n",
            " 'MWKDI3JFK39SL',\n",
            " 'GGOENEBJ079499',\n",
            " 'AISJDKFJW93NJ',\n",
            " 'OWEJL398FWJLK',\n",
            " 'XPLFJW2490XJN']\n",
            "\n",
            "Please select SKU's from the above printed LIST \n",
            "\n",
            "AISJDKFJW93NJ\n",
            "Given Sku by you is :  AISJDKFJW93NJ\n",
            "\n",
            "Its Sales data for 14 days are as follows:- \n",
            "\n",
            "['10',\n",
            " '12',\n",
            " '15',\n",
            " '18',\n",
            " '20',\n",
            " '22',\n",
            " '25',\n",
            " '28',\n",
            " '26',\n",
            " '30',\n",
            " '32',\n",
            " '29',\n",
            " '27',\n",
            " '24']\n",
            "sku given is  AISJDKFJW93NJ\n",
            "\n",
            "Its Product Details are as follows:- \n",
            "\n",
            "{'availability': 'In stock',\n",
            " 'brand': 'ArtCraft',\n",
            " 'model': 'NatureCanvas-1001',\n",
            " 'price': '$49.99',\n",
            " 'product_name': 'Wall Art Print',\n",
            " 'specifications': 'Canvas print, Ready to hang'}\n",
            "Given sku is AISJDKFJW93NJ\n",
            "\n",
            "Its Product Descriptions are as follows:- \n",
            "\n",
            "(\"Transform your living space with ArtCraft's NatureCanvas-1001 Wall Art \"\n",
            " 'Print.\\n'\n",
            " 'This canvas print, ready to hang, brings the beauty of nature into your '\n",
            " 'home.\\n'\n",
            " \"With dimensions of 16 x 20 inches and a 4.6/5 stars rating, it's a stunning \"\n",
            " 'addition to your decor, creating a focal point that captures attention and '\n",
            " 'sparks conversation.')\n"
          ]
        }
      ]
    },
    {
      "cell_type": "markdown",
      "source": [
        "### Checklist\n",
        "- Function `read()` defined\n",
        "- Checked whether the SKU exists in the dictionaries\n",
        "- Edge cases where the SKU doesn't exist were handled properly\n",
        "- User prompted to enter a product SKU\n",
        "- Display functions called with the entered product SKU"
      ],
      "metadata": {
        "id": "w2Q-gJflUIyL"
      }
    },
    {
      "cell_type": "markdown",
      "metadata": {
        "id": "Y6uVPHPlCfpL"
      },
      "source": [
        "# Stage 4 - Update\n",
        "In this stage, you will focus on modifying existing data in our system. This includes updating sales data, product details, and product descriptions for existing products. Let's outline the tasks for this stage:\n",
        "\n",
        "- Task 12 - Update sales data\n",
        "- Task 13 - Update product details\n",
        "- Task 14 - Update product description\n",
        "- Task 15 - Update function"
      ]
    },
    {
      "cell_type": "markdown",
      "metadata": {
        "id": "uO1VEdzmyW7L"
      },
      "source": [
        "## Task 12 - Update sales data"
      ]
    },
    {
      "cell_type": "markdown",
      "source": [
        "### Description\n",
        "This task involves updating the sales data of an existing product."
      ],
      "metadata": {
        "id": "xn5fhQKpT9rd"
      }
    },
    {
      "cell_type": "markdown",
      "source": [
        "### Requirements\n",
        "- Define a function named `update_sales_data()` that updates the sales data of an existing product with the provided quantities.\n",
        "- The function should accept three parameters:\n",
        "  - `sales_data`: A dictionary containing sales data. Each entry maps an SKU to a list of sales quantities for the last 14 days.\n",
        "  - `sku`: A string representing the validated SKU of the product to be updated.\n",
        "  - `quantities`: A list of integers representing the validated sales quantities for all 14 days to be updated for the product.\n",
        "- The function assumes that both the `sku` and `quantities` have already been validated before being passed to this function.\n",
        "- The main operation of the function is to update the sales data for the given SKU with the new quantities provided. It directly assigns the new quantities to the corresponding SKU key in the `sales_data` dictionary.\n",
        "- The function returns the updated `sales_data` dictionary after successfully updating the sales quantities for the specified SKU.\n",
        "- This function is essential for maintaining accurate and up-to-date sales data for products within a system by allowing updates to sales figures based on new information or corrections to previously recorded data.\n"
      ],
      "metadata": {
        "id": "TGHBktHWT9re"
      }
    },
    {
      "cell_type": "markdown",
      "source": [
        "### Recommendations\n",
        "- Provide the data description and requirements to ChatGPT along with the libraries that you are using and ask it to generate code for the function.\n",
        "- If you get stuck somewhere, you can ask ChatGPT to explain the code to you and you can make edits as required."
      ],
      "metadata": {
        "id": "m2-8vCwQT9re"
      }
    },
    {
      "cell_type": "code",
      "execution_count": 36,
      "metadata": {
        "id": "RZ20VyrKyWgd"
      },
      "outputs": [],
      "source": [
        "def update_sales_data(sales_data, sku, quantities):\n",
        "  \"\"\"\n",
        "  Update the sales data of an existing product with the provided quantities. Assumes that both the SKU and quantities have been validated beforehand.\n",
        "\n",
        "  Parameters:\n",
        "      sales_data (dict): The dictionary containing sales data.\n",
        "      sku (str): The validated SKU of the product to update.\n",
        "      quantities (list of int): The validated quantities for all 14 days.\n",
        "\n",
        "  Returns:\n",
        "      dict: The updated sales data.\n",
        "  \"\"\"\n",
        "  #### YOUR CODE HERE ####\n",
        "  sales_data.update({sku: quantities})\n",
        "  return sales_data"
      ]
    },
    {
      "cell_type": "markdown",
      "source": [
        "Check your code here."
      ],
      "metadata": {
        "id": "Zb48M1ckC1hw"
      }
    },
    {
      "cell_type": "code",
      "source": [
        "# Assume sku input is the validated SKU, and new_quantities is the list of new sales quantities.\n",
        "##Example Usage:\n",
        "\n",
        "update_sales_data(sales_data, 'AISJDKFJW93NJ', [8,10,12,15,20,18,14,3,7,0,8,11,4,20])\n",
        "\n",
        "# Print the updated sales_data dictionary\n",
        "print(\"given sku to update is:- \", \"AISJDKFJW93NJ\")\n",
        "print()\n",
        "pprint.pprint(sales_data)"
      ],
      "metadata": {
        "id": "DCcd1G1nC15h",
        "colab": {
          "base_uri": "https://localhost:8080/"
        },
        "outputId": "d91716f7-8fe1-4b2e-f34d-df28f029f812"
      },
      "execution_count": 39,
      "outputs": [
        {
          "output_type": "stream",
          "name": "stdout",
          "text": [
            "given sku to update is:-  AISJDKFJW93NJ\n",
            "\n",
            "{'AISJDKFJW93NJ': [8, 10, 12, 15, 20, 18, 14, 3, 7, 0, 8, 11, 4, 20],\n",
            " 'DJKFIEI432FIE': ['8',\n",
            "                   '10',\n",
            "                   '12',\n",
            "                   '15',\n",
            "                   '20',\n",
            "                   '18',\n",
            "                   '14',\n",
            "                   '13',\n",
            "                   '17',\n",
            "                   '10',\n",
            "                   '8',\n",
            "                   '11',\n",
            "                   '14',\n",
            "                   '16'],\n",
            " 'GGOENEBJ079499': ['15',\n",
            "                    '18',\n",
            "                    '22',\n",
            "                    '25',\n",
            "                    '28',\n",
            "                    '20',\n",
            "                    '17',\n",
            "                    '23',\n",
            "                    '19',\n",
            "                    '21',\n",
            "                    '24',\n",
            "                    '27',\n",
            "                    '18',\n",
            "                    '20'],\n",
            " 'HJSKNWK429DJE': ['30',\n",
            "                   '32',\n",
            "                   '35',\n",
            "                   '38',\n",
            "                   '40',\n",
            "                   '42',\n",
            "                   '45',\n",
            "                   '48',\n",
            "                   '50',\n",
            "                   '52',\n",
            "                   '55',\n",
            "                   '53',\n",
            "                   '49',\n",
            "                   '47'],\n",
            " 'JFKL3940NFKLJ': ['18',\n",
            "                   '20',\n",
            "                   '22',\n",
            "                   '25',\n",
            "                   '28',\n",
            "                   '30',\n",
            "                   '32',\n",
            "                   '35',\n",
            "                   '38',\n",
            "                   '36',\n",
            "                   '33',\n",
            "                   '29',\n",
            "                   '26',\n",
            "                   '24'],\n",
            " 'LKDFJ49LSDJKL': ['25',\n",
            "                   '28',\n",
            "                   '30',\n",
            "                   '32',\n",
            "                   '35',\n",
            "                   '38',\n",
            "                   '42',\n",
            "                   '40',\n",
            "                   '37',\n",
            "                   '34',\n",
            "                   '36',\n",
            "                   '31',\n",
            "                   '29',\n",
            "                   '27'],\n",
            " 'MWKDI3JFK39SL': ['30',\n",
            "                   '35',\n",
            "                   '40',\n",
            "                   '45',\n",
            "                   '50',\n",
            "                   '42',\n",
            "                   '37',\n",
            "                   '38',\n",
            "                   '41',\n",
            "                   '36',\n",
            "                   '33',\n",
            "                   '39',\n",
            "                   '40',\n",
            "                   '44'],\n",
            " 'NEKFJOWE9FDIW': ['12',\n",
            "                   '15',\n",
            "                   '18',\n",
            "                   '20',\n",
            "                   '22',\n",
            "                   '24',\n",
            "                   '21',\n",
            "                   '23',\n",
            "                   '25',\n",
            "                   '28',\n",
            "                   '30',\n",
            "                   '27',\n",
            "                   '26',\n",
            "                   '29'],\n",
            " 'OWEJL398FWJLK': ['20',\n",
            "                   '22',\n",
            "                   '25',\n",
            "                   '28',\n",
            "                   '30',\n",
            "                   '32',\n",
            "                   '35',\n",
            "                   '38',\n",
            "                   '36',\n",
            "                   '33',\n",
            "                   '29',\n",
            "                   '26',\n",
            "                   '24',\n",
            "                   '27'],\n",
            " 'QWERTYUIOPASD': ['1',\n",
            "                   '2',\n",
            "                   '3',\n",
            "                   '4',\n",
            "                   '5',\n",
            "                   '6',\n",
            "                   '7',\n",
            "                   '8',\n",
            "                   '9',\n",
            "                   '10',\n",
            "                   '11',\n",
            "                   '12',\n",
            "                   '13',\n",
            "                   '14'],\n",
            " 'XPLFJW2490XJN': ['5',\n",
            "                   '8',\n",
            "                   '9',\n",
            "                   '12',\n",
            "                   '15',\n",
            "                   '10',\n",
            "                   '14',\n",
            "                   '16',\n",
            "                   '20',\n",
            "                   '18',\n",
            "                   '22',\n",
            "                   '25',\n",
            "                   '19',\n",
            "                   '21']}\n"
          ]
        }
      ]
    },
    {
      "cell_type": "markdown",
      "source": [
        "### Checklist\n",
        "- Updated the `sales_data` dictionary with the new quantities\n",
        "- Returned the new `sales_data` dictionary"
      ],
      "metadata": {
        "id": "3NUHjMExUJvf"
      }
    },
    {
      "cell_type": "markdown",
      "metadata": {
        "id": "SbmrftedyEM8"
      },
      "source": [
        "## Task 13 - Update product details"
      ]
    },
    {
      "cell_type": "markdown",
      "source": [
        "### Description\n",
        "This task involves updating the product details of an existing product.\n"
      ],
      "metadata": {
        "id": "dlSO4g_xT-GM"
      }
    },
    {
      "cell_type": "markdown",
      "source": [
        "### Requirements\n",
        "- Define a function named `update_product_details()` that updates the product details of an existing product with the provided details.\n",
        "- The function should accept three parameters:\n",
        "  - `product_details`: A dictionary containing product details. Each entry maps an SKU to its corresponding set of product details, such as name, brand, model, specifications, price, and availability.\n",
        "  - `sku`: A string representing the SKU of the product to be updated.\n",
        "  - `updated_details`: A dictionary containing the validated updated details for the product. This dictionary should include information similar to what is stored in the `product_details` dictionary, such as product name, brand, model, specifications, price, and availability.\n",
        "- The function assumes that the existence of the `sku` in the `product_details` dictionary and the validity of the `updated_details` have already been validated prior to calling this function.\n",
        "- The main operation of the function is to update the product details for the given SKU with the provided updated details. It directly assigns the `updated_details` dictionary to the corresponding SKU key in the `product_details` dictionary.\n",
        "- The function returns the updated `product_details` dictionary after successfully updating the details for the specified SKU.\n",
        "- This function is crucial for maintaining accurate and up-to-date product information within a system by allowing for modifications to product details based on new information, corrections to previously recorded information, or changes in product specifications.\n"
      ],
      "metadata": {
        "id": "jiZukcFgT-GM"
      }
    },
    {
      "cell_type": "markdown",
      "source": [
        "### Recommendations\n",
        "- Provide the data description and requirements to ChatGPT along with the libraries that you are using and ask it to generate code for the function.\n",
        "- If you get stuck somewhere, you can ask ChatGPT to explain the code to you and you can make edits as required."
      ],
      "metadata": {
        "id": "zJJASHeCT-GM"
      }
    },
    {
      "cell_type": "code",
      "execution_count": 40,
      "metadata": {
        "id": "ahwXZ7NyyDGD"
      },
      "outputs": [],
      "source": [
        "def update_product_details(product_details, sku, updated_details):\n",
        "  \"\"\"\n",
        "  Update the product details of an existing product with the provided details. Assumes that the SKU existence and the validity of the updated details have been validated beforehand.\n",
        "\n",
        "  Parameters:\n",
        "      product_details (dict): The dictionary containing product details.\n",
        "      sku (str): The SKU of the product to update.\n",
        "      updated_details (dict): The validated updated details for the product.\n",
        "\n",
        "  Returns:\n",
        "      dict: The updated product details.\n",
        "  \"\"\"\n",
        "  #### YOUR CODE HERE ####\n",
        "  product_details.update({sku: updated_details})\n",
        "  return product_details"
      ]
    },
    {
      "cell_type": "markdown",
      "source": [
        "Check your code here."
      ],
      "metadata": {
        "id": "JYNKrbLTC21i"
      }
    },
    {
      "cell_type": "code",
      "source": [
        "# Assume sku input is the validated SKU, and new details is in the form of dictionary\n",
        "#where all the details are given.\n",
        "##Example Usage:\n",
        "\n",
        "update_product_details(product_details ,'AISJDKFJW93NJ',\n",
        "{\n",
        "    \"product_name\": \"Men's Running Shoes\",\n",
        "    \"brand\": \"RunFit\",\n",
        "    \"model\": \"SpeedX-500\",\n",
        "    \"specifications\": \"Size 10, Lightweight design, Breathable material\",\n",
        "    \"price\": \"$79.99\",\n",
        "    \"availability\": \"not in stock\"\n",
        "})\n",
        "\n",
        "# Print the updated product_details dictionary\n",
        "print(\"given sku to update is:- \", \"AISJDKFJW93NJ\")\n",
        "print()\n",
        "pprint.pprint(product_details)"
      ],
      "metadata": {
        "id": "o5OiS_KSC3Ln",
        "colab": {
          "base_uri": "https://localhost:8080/"
        },
        "outputId": "64275221-cf8d-4248-b6d1-368587bc2ed2"
      },
      "execution_count": 43,
      "outputs": [
        {
          "output_type": "stream",
          "name": "stdout",
          "text": [
            "given sku to update is:-  AISJDKFJW93NJ\n",
            "\n",
            "{'AISJDKFJW93NJ': {'availability': 'not in stock',\n",
            "                   'brand': 'RunFit',\n",
            "                   'model': 'SpeedX-500',\n",
            "                   'price': '$79.99',\n",
            "                   'product_name': \"Men's Running Shoes\",\n",
            "                   'specifications': 'Size 10, Lightweight design, Breathable '\n",
            "                                     'material'},\n",
            " 'DJKFIEI432FIE': {'availability': 'In stock',\n",
            "                   'brand': 'RunFit',\n",
            "                   'model': 'SpeedX-500',\n",
            "                   'price': '$79.99',\n",
            "                   'product_name': \"Men's Running Shoes\",\n",
            "                   'specifications': 'Size 10, Lightweight design, Breathable '\n",
            "                                     'material'},\n",
            " 'GGOENEBJ079499': {'availability': 'In stock',\n",
            "                    'brand': 'XYZ Electronics',\n",
            "                    'model': 'ABC-2000',\n",
            "                    'price': '$499.99',\n",
            "                    'product_name': 'Smartphone',\n",
            "                    'specifications': '6.5-inch display, 128GB storage, 16MP '\n",
            "                                      'camera'},\n",
            " 'HJSKNWK429DJE': {'availability': 'In stock',\n",
            "                   'brand': 'SoundSync',\n",
            "                   'model': 'TunePro-2022',\n",
            "                   'price': '$89.99',\n",
            "                   'product_name': 'Wireless Earbuds',\n",
            "                   'specifications': 'Bluetooth 5.0, 20 hours battery life, '\n",
            "                                     'Touch controls'},\n",
            " 'JFKL3940NFKLJ': {'availability': 'In stock',\n",
            "                   'brand': 'FitFlex',\n",
            "                   'model': 'StrengthPro-300',\n",
            "                   'price': '$34.99',\n",
            "                   'product_name': 'Resistance Bands Set',\n",
            "                   'specifications': '5 bands, Varying resistance levels, '\n",
            "                                     'Portable'},\n",
            " 'LKDFJ49LSDJKL': {'availability': 'In stock',\n",
            "                   'brand': 'GlowBeauty',\n",
            "                   'model': 'AgeDefy-300',\n",
            "                   'price': '$39.99',\n",
            "                   'product_name': 'Anti-Aging Face Cream',\n",
            "                   'specifications': 'Natural ingredients, Hydrating formula'},\n",
            " 'MWKDI3JFK39SL': {'availability': 'In stock',\n",
            "                   'brand': 'BestBooks',\n",
            "                   'model': None,\n",
            "                   'price': '$14.99',\n",
            "                   'product_name': 'Fictional Novel',\n",
            "                   'specifications': 'Paperback, 300 pages'},\n",
            " 'NEKFJOWE9FDIW': {'availability': 'In stock',\n",
            "                   'brand': 'FamilyFun',\n",
            "                   'model': 'GameNight-2022',\n",
            "                   'price': '$29.99',\n",
            "                   'product_name': 'Board Game',\n",
            "                   'specifications': '2-6 players, Ages 8 and up'},\n",
            " 'OWEJL398FWJLK': {'availability': 'In stock',\n",
            "                   'brand': 'ZenFitness',\n",
            "                   'model': 'EcoMat-500',\n",
            "                   'price': '$19.99',\n",
            "                   'product_name': 'Yoga Mat',\n",
            "                   'specifications': 'Non-slip, 6mm thickness, Eco-friendly '\n",
            "                                     'material'},\n",
            " 'QWERTYUIOPASD': {'availability': 'not in stock',\n",
            "                   'brand': 'apple',\n",
            "                   'model': '16 plus',\n",
            "                   'price': '190000',\n",
            "                   'product_name ': 'Mobile',\n",
            "                   'specifications': '100 gb ram'},\n",
            " 'XPLFJW2490XJN': {'availability': 'In stock',\n",
            "                   'brand': 'CleanTech',\n",
            "                   'model': 'AutoSweep-9000',\n",
            "                   'price': '$249.99',\n",
            "                   'product_name': 'Robot Vacuum Cleaner',\n",
            "                   'specifications': 'Smart navigation, HEPA filter, 90 '\n",
            "                                     'minutes runtime'},\n",
            " 'qazxswedcvfrt': {'availability': 'not in stock',\n",
            "                   'brand': 'RunFit',\n",
            "                   'model': 'SpeedX-500',\n",
            "                   'price': '$79.99',\n",
            "                   'product_name': \"Men's Running Shoes\",\n",
            "                   'specifications': 'Size 10, Lightweight design, Breathable '\n",
            "                                     'material'}}\n"
          ]
        }
      ]
    },
    {
      "cell_type": "markdown",
      "source": [
        "### Checklist\n",
        "- Updated the `product_details` dictionary with the new details\n",
        "- Returned the new `product_details` dictionary"
      ],
      "metadata": {
        "id": "FuWcrSm7UKVt"
      }
    },
    {
      "cell_type": "markdown",
      "metadata": {
        "id": "e_6XdxaIyCzd"
      },
      "source": [
        "## Task 14 - Update product description"
      ]
    },
    {
      "cell_type": "markdown",
      "source": [
        "### Description\n",
        "This task involves updating the product description of an existing product.\n"
      ],
      "metadata": {
        "id": "4i1H8jNxT-iQ"
      }
    },
    {
      "cell_type": "markdown",
      "source": [
        "### Requirements\n",
        "- Define a function named `update_product_description()` that updates the product description of an existing product with the provided description.\n",
        "- The function should accept three parameters:\n",
        "  - `product_descriptions`: A dictionary containing product descriptions. Each entry maps an SKU to its corresponding textual description.\n",
        "  - `sku`: A string representing the SKU of the product to be updated.\n",
        "  - `updated_description`: A string containing the validated updated description for the product.\n",
        "- The function assumes that the existence of the `sku` in the `product_descriptions` dictionary and the validity of the `updated_description` have already been validated prior to calling this function.\n",
        "- The main operation of the function is to update the product description for the given SKU with the provided updated description. It directly assigns the `updated_description` to the corresponding SKU key in the `product_descriptions` dictionary.\n",
        "- The function returns the updated `product_descriptions` dictionary after successfully updating the description for the specified SKU.\n",
        "- This function is essential for maintaining accurate and up-to-date product narratives within a system by allowing for modifications to product descriptions based on new insights, corrections to previously recorded descriptions, or enhancements to how a product is presented.\n"
      ],
      "metadata": {
        "id": "q2khS0DrT-iQ"
      }
    },
    {
      "cell_type": "markdown",
      "source": [
        "### Recommendations\n",
        "- Provide the data description and requirements to ChatGPT along with the libraries that you are using and ask it to generate code for the function.\n",
        "- If you get stuck somewhere, you can ask ChatGPT to explain the code to you and you can make edits as required."
      ],
      "metadata": {
        "id": "rNJg79wST-iQ"
      }
    },
    {
      "cell_type": "code",
      "execution_count": 44,
      "metadata": {
        "id": "LtiZX67AyCbD"
      },
      "outputs": [],
      "source": [
        "def update_product_description(product_descriptions, sku, updated_description):\n",
        "  \"\"\"\n",
        "  Update the product description of an existing product with the provided description. Assumes that the SKU existence and the validity of the updated description have been validated beforehand.\n",
        "\n",
        "  Parameters:\n",
        "      product_descriptions (dict): The dictionary containing product descriptions.\n",
        "      sku (str): The SKU of the product to update.\n",
        "      updated_description (str): The validated updated description for the product.\n",
        "\n",
        "  Returns:\n",
        "      dict: The updated product descriptions.\n",
        "  \"\"\"\n",
        "  #### YOUR CODE HERE ####\n",
        "  product_descriptions.update({sku: updated_description})\n",
        "  return product_descriptions"
      ]
    },
    {
      "cell_type": "markdown",
      "source": [
        "Check your code here."
      ],
      "metadata": {
        "id": "1tJwB1hRC4h4"
      }
    },
    {
      "cell_type": "code",
      "source": [
        "# Assume sku input is the validated SKU, and new description is in the form of string\n",
        "#where all the descriptions are given.\n",
        "\n",
        "##Example Usage:\n",
        "\n",
        "update_product_description(product_descriptions, \"AISJDKFJW93NJ\", \"Best PRODUCT TILL NOW , GO FOR IT\")\n",
        "print(\"given sku is :\",  \"AISJDKFJW93NJ\")\n",
        "print()\n",
        "print(\"updated product description dictionary is as follows :-\")\n",
        "pprint.pprint(product_descriptions)"
      ],
      "metadata": {
        "id": "R1_lWfRPC5Bb",
        "colab": {
          "base_uri": "https://localhost:8080/"
        },
        "outputId": "75dcfde6-e827-4672-b331-a83c5963c854"
      },
      "execution_count": 46,
      "outputs": [
        {
          "output_type": "stream",
          "name": "stdout",
          "text": [
            "given sku is : AISJDKFJW93NJ\n",
            "\n",
            "updated product description dictionary is as follows :-\n",
            "{'AISJDKFJW93NJ': 'Best PRODUCT TILL NOW , GO FOR IT',\n",
            " 'DJKFIEI432FIE': 'Elevate your running experience with the RunFit SpeedX-500 '\n",
            "                  \"Men's Running Shoes.\\n\"\n",
            "                  'Designed for performance, these shoes feature a lightweight '\n",
            "                  'design, breathable material, and are available in vibrant '\n",
            "                  'Red, Blue, and classic Black.\\n'\n",
            "                  \"Whether you're a seasoned runner or just starting, these \"\n",
            "                  'shoes provide comfort and support for every stride, '\n",
            "                  'ensuring you reach new milestones effortlessly.',\n",
            " 'GGOENEBJ079499': 'Dive into the future with the XYZ Electronics Smartphone, '\n",
            "                   'model ABC-2000.\\n'\n",
            "                   'Boasting a 6.5-inch display, 128GB storage, and a 16MP '\n",
            "                   'camera, this powerful device redefines the smartphone '\n",
            "                   'experience.\\n'\n",
            "                   'With a sleek design and available in Black, Silver, and '\n",
            "                   'Blue, it combines cutting-edge technology with style, '\n",
            "                   'ensuring you stay connected in the most sophisticated way '\n",
            "                   'possible.',\n",
            " 'HJSKNWK429DJE': \"Immerse yourself in superior audio quality with SoundSync's \"\n",
            "                  'TunePro-2022 Wireless Earbuds.\\n'\n",
            "                  'Featuring Bluetooth 5.0, 20 hours of battery life, and '\n",
            "                  'touch controls, these earbuds deliver a seamless and '\n",
            "                  'immersive listening experience.\\n'\n",
            "                  'Available in Black and White, they combine style with '\n",
            "                  'functionality for music lovers on the go. \\n'\n",
            "                  'With a 4.7/5 stars rating, they stand out as a top choice '\n",
            "                  'in the realm of wireless audio.',\n",
            " 'JFKL3940NFKLJ': \"Embrace versatility in your workouts with FitFlex's \"\n",
            "                  'StrengthPro-300 Resistance Bands Set.\\n'\n",
            "                  'With 5 bands offering varying resistance levels and '\n",
            "                  'portability, this set is your go-to for effective strength '\n",
            "                  'training.\\n'\n",
            "                  'Available in Red, Yellow, and Blue, it caters to different '\n",
            "                  'fitness levels and adds a dynamic dimension to your '\n",
            "                  'exercise routine.',\n",
            " 'LKDFJ49LSDJKL': \"Rediscover youthful radiance with GlowBeauty's AgeDefy-300 \"\n",
            "                  'Anti-Aging Face Cream.\\n'\n",
            "                  'Formulated with natural ingredients and a hydrating '\n",
            "                  'formula, this skincare essential rejuvenates and nourishes '\n",
            "                  'your skin, leaving you with a vibrant and refreshed '\n",
            "                  'complexion.\\n'\n",
            "                  \"With a stellar 4.7/5 stars rating, it's a must-have for \"\n",
            "                  'those embracing the journey to ageless beauty.',\n",
            " 'MWKDI3JFK39SL': 'Immerse yourself in the world of storytelling with '\n",
            "                  \"BestBooks' Fictional Novel.\\n\"\n",
            "                  'This paperback, spanning 300 pages, promises a captivating '\n",
            "                  'journey through the pages of an engaging narrative.\\n'\n",
            "                  'Ideal for avid readers seeking an escape, this novel, with '\n",
            "                  'a 4.6/5 stars rating, is a testament to its ability to '\n",
            "                  'weave a compelling tale that keeps you hooked until the '\n",
            "                  'last page.',\n",
            " 'NEKFJOWE9FDIW': \"Unleash the fun with FamilyFun's GameNight-2022 Board \"\n",
            "                  'Game.\\n'\n",
            "                  'Designed for 2-6 players and suitable for ages 8 and up, '\n",
            "                  'this exciting game promises laughter and bonding moments '\n",
            "                  'for the entire family.\\n'\n",
            "                  \"With a 4.4/5 stars rating, it's a testament to its ability \"\n",
            "                  'to turn any ordinary night into an extraordinary game night '\n",
            "                  'filled with friendly competition and shared joy.',\n",
            " 'OWEJL398FWJLK': \"Elevate your yoga practice with ZenFitness' EcoMat-500 Yoga \"\n",
            "                  'Mat.\\n'\n",
            "                  'Featuring a non-slip surface, 6mm thickness, and '\n",
            "                  'eco-friendly materials, this high-quality mat provides the '\n",
            "                  'perfect foundation for your workouts.\\n'\n",
            "                  'Available in Purple, Green, and Blue, it not only enhances '\n",
            "                  'your comfort but also adds a touch of serenity to your '\n",
            "                  'exercise routine.',\n",
            " 'QWERTYUIOPASD': 'HELLOW best product!!!!!',\n",
            " 'XPLFJW2490XJN': 'Introducing the CleanTech AutoSweep-9000 Robot Vacuum '\n",
            "                  'Cleaner – your smart companion for automated cleaning.\\n'\n",
            "                  'With smart navigation, a HEPA filter, and a runtime of 90 '\n",
            "                  'minutes, this efficient device takes care of your cleaning '\n",
            "                  'needs.\\n'\n",
            "                  'Available in White and Silver, it blends seamlessly into '\n",
            "                  'your home, making cleanliness a hassle-free experience.',\n",
            " 'qazxswedcvfrt': 'Best PRODUCT TILL NOW , GO FOR IT'}\n"
          ]
        }
      ]
    },
    {
      "cell_type": "markdown",
      "source": [
        "### Checklist\n",
        "- Updated the `product_description` dictionary with the new description\n",
        "- Returned the new `product_descriptions` dictionary"
      ],
      "metadata": {
        "id": "NhjnhIRyULIS"
      }
    },
    {
      "cell_type": "markdown",
      "metadata": {
        "id": "OcY0zxZex4g8"
      },
      "source": [
        "## Task 15 - Update function"
      ]
    },
    {
      "cell_type": "markdown",
      "source": [
        "### Description\n",
        "This task involves creating a function named `update()` which calls appropriate update functions based on user input.\n"
      ],
      "metadata": {
        "id": "WEldxTtrT_El"
      }
    },
    {
      "cell_type": "markdown",
      "source": [
        "### Requirements\n",
        "- Define a function named `update()` that updates product information, including sales data, product details, and product descriptions, for a specified SKU.\n",
        "- The function should provide a menu-driven interface for users to select the type of product data they wish to update and input new values accordingly.\n",
        "- Parameters:\n",
        "  - `product_details`: A dictionary containing existing product details, with SKU as keys and details as values.\n",
        "  - `sales_data`: A dictionary containing sales data, with SKU as keys and lists of sales quantities for the last 14 days as values.\n",
        "  - `product_descriptions`: A dictionary containing product descriptions, with SKU as keys and descriptions as values.\n",
        "- The function begins by prompting the user to enter the SKU of the product they want to update.\n",
        "  - If the entered SKU does not exist in `product_details`, print a message indicating that the SKU was not found and exit the function early.\n",
        "- The function then displays a menu with options to update sales data, product details, product description, or exit the process.\n",
        "  - For updating sales data, the user is prompted to enter new quantities for all 14 days. The input is validated to ensure it consists of exactly 14 integers.\n",
        "  - For updating product details, the user is prompted to enter updated values for product name, brand, model, specifications, price, and availability.\n",
        "  - For updating the product description, the user is prompted to enter a new product description.\n",
        "- Each update option validates the corresponding input data before applying the update to ensure data integrity.\n",
        "- The function returns a tuple containing the updated `product_details`, `sales_data`, and `product_descriptions` dictionaries in that order.\n",
        "- Usage:\n",
        "  - The function is designed to be called when an existing product's information needs to be updated. It requires the caller to pass the current states of the `product_details`, `sales_data`, and `product_descriptions` dictionaries and returns their updated states after the modifications.\n"
      ],
      "metadata": {
        "id": "kndQHuv5T_El"
      }
    },
    {
      "cell_type": "markdown",
      "source": [
        "### Recommendations\n",
        "- Provide the data description and requirements to ChatGPT along with the libraries that you are using and ask it to generate code for the function.\n",
        "- If you get stuck somewhere, you can ask ChatGPT to explain the code to you and you can make edits as required."
      ],
      "metadata": {
        "id": "RZmjVkNET_El"
      }
    },
    {
      "cell_type": "code",
      "execution_count": 50,
      "metadata": {
        "id": "4u7acshdxeCW"
      },
      "outputs": [],
      "source": [
        "def update(product_details, sales_data, product_descriptions) -> tuple[dict, dict, dict]:\n",
        "  \"\"\"\n",
        "  Updates product information including sales data, product details, and product descriptions for a specified SKU.\n",
        "  Prompts the user for the SKU and the type of data they wish to update. Validates the existence of the SKU and the\n",
        "  integrity of the input data before making any updates. Offers a menu-driven interface for the user to select which\n",
        "  data to update and inputs the new values accordingly.\n",
        "\n",
        "  Parameters:\n",
        "      product_details (dict): A dictionary containing existing product details, with SKU as keys.\n",
        "      sales_data (dict): A dictionary containing sales data, with SKU as keys and sales quantities as values.\n",
        "      product_descriptions (dict): A dictionary containing product descriptions, with SKU as keys.\n",
        "\n",
        "  Returns:\n",
        "      tuple: A tuple containing the updated dictionaries (product_details, sales_data, product_descriptions) in that order.\n",
        "\n",
        "  Usage:\n",
        "      The function should be called with the current states of the product_details, sales_data, and product_descriptions\n",
        "      dictionaries. It will return their updated states after the user has made their changes. The function supports updating\n",
        "      sales data with new quantities for all 14 days, modifying product details like name, brand, model, specifications, price,\n",
        "      and availability, and altering the product description. It ensures data integrity by validating the existence of the SKU\n",
        "      and the correctness of the updated values before applying any changes.\n",
        "  \"\"\"\n",
        "  #### YOUR CODE HERE ####\n",
        "  print(\"data_menu:\\n \\\n",
        "        1. Update Sales Data\\n \\\n",
        "        2. Update Product Details\\n \\\n",
        "        3. Update Product Description\\n \\\n",
        "        4. Exit\\n\")\n",
        "  user_choice = input(\"Enter your choice (1-4): \")\n",
        "\n",
        "  if user_choice == \"4\":\n",
        "    print(\"Exiting update process. Thank you!\")\n",
        "    print()\n",
        "\n",
        "  elif user_choice == \"1\":\n",
        "    existing_sku = input(\"Enter SKU of the product to update sales data: \")\n",
        "    if existing_sku in sales_data.keys():\n",
        "      new_quantities = input(\"Enter new quantities for all 14 days (comma-separated):\")\n",
        "      update_sales_data(sales_data, existing_sku, new_quantities)\n",
        "      print(\"Updated Sales Data Dictionary is as follows :- \")\n",
        "      print()\n",
        "      pprint.pprint(sales_data)\n",
        "      print()\n",
        "      print(\"Sales data updated successfully!\")\n",
        "      print()\n",
        "\n",
        "  elif user_choice == \"2\":\n",
        "    exisitng_sku1 = input(\"Enter SKU of the product to update product details: \")\n",
        "    if exisitng_sku1 in product_details.keys():\n",
        "      print('''Enter the new product details like name, brand, model, specifications,\n",
        "             price, availability, and altering the product description.:\n",
        "             ''')\n",
        "      updated_details = {\"product_name\": input(\"Pleaase give product name\"),\n",
        "                         \"brand\": input(\"pls give brand name\"),\n",
        "                         \"model\": input(\"pls give model name\"),\n",
        "                         \"specifications\": input(\"pls give specifications\"),\n",
        "                         \"price\": input(\"pls give price of it\"),\n",
        "                         \"availability\": input(\"pls give availability\")\n",
        "                         }\n",
        "      update_product_details(product_details, exisitng_sku1, updated_details)\n",
        "      print(\"Updated product details Dictionary is as follows :- \")\n",
        "      print()\n",
        "      pprint.pprint(product_details)\n",
        "      print()\n",
        "      print(\"Product details updated successfully!\")\n",
        "      print()\n",
        "\n",
        "  elif user_choice == \"3\":\n",
        "    existing_sku2 = input(\"Enter SKU of the product to update description: \")\n",
        "    if existing_sku2 in product_descriptions.keys():\n",
        "      updated_description = input(\"Enter updated product description: \")\n",
        "      update_product_description(product_descriptions, existing_sku2, updated_description)\n",
        "      print(\"Updated Product Descriptions Dictionary is as follows :- \")\n",
        "      print()\n",
        "      pprint.pprint(product_descriptions)\n",
        "      print()\n",
        "      print(\"Product description updated successfully.\")\n",
        "      print()\n",
        "\n",
        "  else:\n",
        "        print(\"Invalid choice. Please enter a number between 1 and 4.\")\n",
        "        print()\n",
        "\n",
        "  return product_details, sales_data, product_descriptions"
      ]
    },
    {
      "cell_type": "markdown",
      "source": [
        "Check your code here."
      ],
      "metadata": {
        "id": "kwXP6bQ8C6aU"
      }
    },
    {
      "cell_type": "code",
      "source": [
        "update(product_details, sales_data, product_descriptions)"
      ],
      "metadata": {
        "id": "tzP8XYBjJgjf",
        "colab": {
          "base_uri": "https://localhost:8080/"
        },
        "outputId": "3183f622-b0b7-4d8c-f873-2788b055372f"
      },
      "execution_count": 52,
      "outputs": [
        {
          "output_type": "stream",
          "name": "stdout",
          "text": [
            "data_menu:\n",
            "         1. Update Sales Data\n",
            "         2. Update Product Details\n",
            "         3. Update Product Description\n",
            "         4. Exit\n",
            "\n",
            "Enter your choice (1-4): 4\n",
            "Exiting update process. Thank you!\n",
            "\n"
          ]
        },
        {
          "output_type": "execute_result",
          "data": {
            "text/plain": [
              "({'NEKFJOWE9FDIW': {'product_name': 'Board Game',\n",
              "   'brand': 'FamilyFun',\n",
              "   'model': 'GameNight-2022',\n",
              "   'specifications': '2-6 players, Ages 8 and up',\n",
              "   'price': '$29.99',\n",
              "   'availability': 'In stock'},\n",
              "  'LKDFJ49LSDJKL': {'product_name': 'Anti-Aging Face Cream',\n",
              "   'brand': 'GlowBeauty',\n",
              "   'model': 'AgeDefy-300',\n",
              "   'specifications': 'Natural ingredients, Hydrating formula',\n",
              "   'price': '$39.99',\n",
              "   'availability': 'In stock'},\n",
              "  'HJSKNWK429DJE': {'product_name': 'Wireless Earbuds',\n",
              "   'brand': 'SoundSync',\n",
              "   'model': 'TunePro-2022',\n",
              "   'specifications': 'Bluetooth 5.0, 20 hours battery life, Touch controls',\n",
              "   'price': '$89.99',\n",
              "   'availability': 'In stock'},\n",
              "  'DJKFIEI432FIE': {'product_name': \"Men's Running Shoes\",\n",
              "   'brand': 'RunFit',\n",
              "   'model': 'SpeedX-500',\n",
              "   'specifications': 'Size 10, Lightweight design, Breathable material',\n",
              "   'price': '$79.99',\n",
              "   'availability': 'In stock'},\n",
              "  'JFKL3940NFKLJ': {'product_name': 'Resistance Bands Set',\n",
              "   'brand': 'FitFlex',\n",
              "   'model': 'StrengthPro-300',\n",
              "   'specifications': '5 bands, Varying resistance levels, Portable',\n",
              "   'price': '$34.99',\n",
              "   'availability': 'In stock'},\n",
              "  'MWKDI3JFK39SL': {'product_name': 'Fictional Novel',\n",
              "   'brand': 'BestBooks',\n",
              "   'model': None,\n",
              "   'specifications': 'Paperback, 300 pages',\n",
              "   'price': '$14.99',\n",
              "   'availability': 'In stock'},\n",
              "  'GGOENEBJ079499': {'product_name': 'Smartphone',\n",
              "   'brand': 'XYZ Electronics',\n",
              "   'model': 'ABC-2000',\n",
              "   'specifications': '6.5-inch display, 128GB storage, 16MP camera',\n",
              "   'price': '$499.99',\n",
              "   'availability': 'In stock'},\n",
              "  'AISJDKFJW93NJ': {'product_name': 'op',\n",
              "   'brand': 'ty',\n",
              "   'model': 'ty',\n",
              "   'specifications': 'ty',\n",
              "   'price': '45',\n",
              "   'availability': 'n'},\n",
              "  'OWEJL398FWJLK': {'product_name': 'Yoga Mat',\n",
              "   'brand': 'ZenFitness',\n",
              "   'model': 'EcoMat-500',\n",
              "   'specifications': 'Non-slip, 6mm thickness, Eco-friendly material',\n",
              "   'price': '$19.99',\n",
              "   'availability': 'In stock'},\n",
              "  'XPLFJW2490XJN': {'product_name': 'Robot Vacuum Cleaner',\n",
              "   'brand': 'CleanTech',\n",
              "   'model': 'AutoSweep-9000',\n",
              "   'specifications': 'Smart navigation, HEPA filter, 90 minutes runtime',\n",
              "   'price': '$249.99',\n",
              "   'availability': 'In stock'},\n",
              "  'QWERTYUIOPASD': {'product_name ': 'Mobile',\n",
              "   'brand': 'apple',\n",
              "   'model': '16 plus',\n",
              "   'specifications': '100 gb ram',\n",
              "   'price': '190000',\n",
              "   'availability': 'not in stock'},\n",
              "  'qazxswedcvfrt': {'product_name': \"Men's Running Shoes\",\n",
              "   'brand': 'RunFit',\n",
              "   'model': 'SpeedX-500',\n",
              "   'specifications': 'Size 10, Lightweight design, Breathable material',\n",
              "   'price': '$79.99',\n",
              "   'availability': 'not in stock'}},\n",
              " {'AISJDKFJW93NJ': '0,1,2,3,4,5,6,7,8,9,10,11,12,13',\n",
              "  'DJKFIEI432FIE': ['8',\n",
              "   '10',\n",
              "   '12',\n",
              "   '15',\n",
              "   '20',\n",
              "   '18',\n",
              "   '14',\n",
              "   '13',\n",
              "   '17',\n",
              "   '10',\n",
              "   '8',\n",
              "   '11',\n",
              "   '14',\n",
              "   '16'],\n",
              "  'GGOENEBJ079499': ['15',\n",
              "   '18',\n",
              "   '22',\n",
              "   '25',\n",
              "   '28',\n",
              "   '20',\n",
              "   '17',\n",
              "   '23',\n",
              "   '19',\n",
              "   '21',\n",
              "   '24',\n",
              "   '27',\n",
              "   '18',\n",
              "   '20'],\n",
              "  'HJSKNWK429DJE': ['30',\n",
              "   '32',\n",
              "   '35',\n",
              "   '38',\n",
              "   '40',\n",
              "   '42',\n",
              "   '45',\n",
              "   '48',\n",
              "   '50',\n",
              "   '52',\n",
              "   '55',\n",
              "   '53',\n",
              "   '49',\n",
              "   '47'],\n",
              "  'JFKL3940NFKLJ': ['18',\n",
              "   '20',\n",
              "   '22',\n",
              "   '25',\n",
              "   '28',\n",
              "   '30',\n",
              "   '32',\n",
              "   '35',\n",
              "   '38',\n",
              "   '36',\n",
              "   '33',\n",
              "   '29',\n",
              "   '26',\n",
              "   '24'],\n",
              "  'LKDFJ49LSDJKL': ['25',\n",
              "   '28',\n",
              "   '30',\n",
              "   '32',\n",
              "   '35',\n",
              "   '38',\n",
              "   '42',\n",
              "   '40',\n",
              "   '37',\n",
              "   '34',\n",
              "   '36',\n",
              "   '31',\n",
              "   '29',\n",
              "   '27'],\n",
              "  'MWKDI3JFK39SL': ['30',\n",
              "   '35',\n",
              "   '40',\n",
              "   '45',\n",
              "   '50',\n",
              "   '42',\n",
              "   '37',\n",
              "   '38',\n",
              "   '41',\n",
              "   '36',\n",
              "   '33',\n",
              "   '39',\n",
              "   '40',\n",
              "   '44'],\n",
              "  'NEKFJOWE9FDIW': ['12',\n",
              "   '15',\n",
              "   '18',\n",
              "   '20',\n",
              "   '22',\n",
              "   '24',\n",
              "   '21',\n",
              "   '23',\n",
              "   '25',\n",
              "   '28',\n",
              "   '30',\n",
              "   '27',\n",
              "   '26',\n",
              "   '29'],\n",
              "  'OWEJL398FWJLK': ['20',\n",
              "   '22',\n",
              "   '25',\n",
              "   '28',\n",
              "   '30',\n",
              "   '32',\n",
              "   '35',\n",
              "   '38',\n",
              "   '36',\n",
              "   '33',\n",
              "   '29',\n",
              "   '26',\n",
              "   '24',\n",
              "   '27'],\n",
              "  'XPLFJW2490XJN': ['5',\n",
              "   '8',\n",
              "   '9',\n",
              "   '12',\n",
              "   '15',\n",
              "   '10',\n",
              "   '14',\n",
              "   '16',\n",
              "   '20',\n",
              "   '18',\n",
              "   '22',\n",
              "   '25',\n",
              "   '19',\n",
              "   '21'],\n",
              "  'QWERTYUIOPASD': ['1',\n",
              "   '2',\n",
              "   '3',\n",
              "   '4',\n",
              "   '5',\n",
              "   '6',\n",
              "   '7',\n",
              "   '8',\n",
              "   '9',\n",
              "   '10',\n",
              "   '11',\n",
              "   '12',\n",
              "   '13',\n",
              "   '14']},\n",
              " {'AISJDKFJW93NJ': 'Best PRODUCT TILL NOW , GO FOR IT',\n",
              "  'LKDFJ49LSDJKL': \"Rediscover youthful radiance with GlowBeauty's AgeDefy-300 Anti-Aging Face Cream.\\nFormulated with natural ingredients and a hydrating formula, this skincare essential rejuvenates and nourishes your skin, leaving you with a vibrant and refreshed complexion.\\nWith a stellar 4.7/5 stars rating, it's a must-have for those embracing the journey to ageless beauty.\",\n",
              "  'HJSKNWK429DJE': \"Immerse yourself in superior audio quality with SoundSync's TunePro-2022 Wireless Earbuds.\\nFeaturing Bluetooth 5.0, 20 hours of battery life, and touch controls, these earbuds deliver a seamless and immersive listening experience.\\nAvailable in Black and White, they combine style with functionality for music lovers on the go. \\nWith a 4.7/5 stars rating, they stand out as a top choice in the realm of wireless audio.\",\n",
              "  'XPLFJW2490XJN': 'Introducing the CleanTech AutoSweep-9000 Robot Vacuum Cleaner – your smart companion for automated cleaning.\\nWith smart navigation, a HEPA filter, and a runtime of 90 minutes, this efficient device takes care of your cleaning needs.\\nAvailable in White and Silver, it blends seamlessly into your home, making cleanliness a hassle-free experience.',\n",
              "  'NEKFJOWE9FDIW': \"Unleash the fun with FamilyFun's GameNight-2022 Board Game.\\nDesigned for 2-6 players and suitable for ages 8 and up, this exciting game promises laughter and bonding moments for the entire family.\\nWith a 4.4/5 stars rating, it's a testament to its ability to turn any ordinary night into an extraordinary game night filled with friendly competition and shared joy.\",\n",
              "  'GGOENEBJ079499': 'Dive into the future with the XYZ Electronics Smartphone, model ABC-2000.\\nBoasting a 6.5-inch display, 128GB storage, and a 16MP camera, this powerful device redefines the smartphone experience.\\nWith a sleek design and available in Black, Silver, and Blue, it combines cutting-edge technology with style, ensuring you stay connected in the most sophisticated way possible.',\n",
              "  'DJKFIEI432FIE': \"Elevate your running experience with the RunFit SpeedX-500 Men's Running Shoes.\\nDesigned for performance, these shoes feature a lightweight design, breathable material, and are available in vibrant Red, Blue, and classic Black.\\nWhether you're a seasoned runner or just starting, these shoes provide comfort and support for every stride, ensuring you reach new milestones effortlessly.\",\n",
              "  'MWKDI3JFK39SL': \"Immerse yourself in the world of storytelling with BestBooks' Fictional Novel.\\nThis paperback, spanning 300 pages, promises a captivating journey through the pages of an engaging narrative.\\nIdeal for avid readers seeking an escape, this novel, with a 4.6/5 stars rating, is a testament to its ability to weave a compelling tale that keeps you hooked until the last page.\",\n",
              "  'JFKL3940NFKLJ': \"Embrace versatility in your workouts with FitFlex's StrengthPro-300 Resistance Bands Set.\\nWith 5 bands offering varying resistance levels and portability, this set is your go-to for effective strength training.\\nAvailable in Red, Yellow, and Blue, it caters to different fitness levels and adds a dynamic dimension to your exercise routine.\",\n",
              "  'OWEJL398FWJLK': \"Elevate your yoga practice with ZenFitness' EcoMat-500 Yoga Mat.\\nFeaturing a non-slip surface, 6mm thickness, and eco-friendly materials, this high-quality mat provides the perfect foundation for your workouts.\\nAvailable in Purple, Green, and Blue, it not only enhances your comfort but also adds a touch of serenity to your exercise routine.\",\n",
              "  'QWERTYUIOPASD': 'HELLOW best product!!!!!',\n",
              "  'qazxswedcvfrt': 'Best PRODUCT TILL NOW , GO FOR IT'})"
            ]
          },
          "metadata": {},
          "execution_count": 52
        }
      ]
    },
    {
      "cell_type": "markdown",
      "source": [
        "### Checklist\n",
        "- Prompted the user for SKU of the product to be updated\n",
        "- Validated whether the SKU exists in the dictionaries or not\n",
        "- Provided options to the user for what aspect of data to update\n",
        "- Called the appropriate update function based on user choice by passing the appropriate arguments\n",
        "- Allowed user to exit or continue updating data"
      ],
      "metadata": {
        "id": "zjQ--UxKUMRB"
      }
    },
    {
      "cell_type": "markdown",
      "metadata": {
        "id": "YThJDsd3ChRz"
      },
      "source": [
        "# Stage 5 - Delete\n",
        "In this stage, you will implement the functionality to delete entries from the data structures. This involves removing sales data, product details, and product descriptions associated with a given product SKU.\n",
        "\n",
        "In this task though, you will also need to delete the JSON and TXT files corresponding to the SKU entered by the user.\n",
        "\n",
        "- Task 16 - Delete function"
      ]
    },
    {
      "cell_type": "markdown",
      "metadata": {
        "id": "N6wvvrXUKlXR"
      },
      "source": [
        "## Task 16 - Delete function"
      ]
    },
    {
      "cell_type": "markdown",
      "source": [
        "### Description\n",
        "In this task you will create a function called `delete()` which is responsible for deleting entries related to a given product SKU from the `sales_data`, `product_details`, and `product_descriptions` dictionaries."
      ],
      "metadata": {
        "id": "HGGeNEjqT_-Z"
      }
    },
    {
      "cell_type": "markdown",
      "source": [
        "### Requirements\n",
        "- Define a function named `delete()` that deletes entries for a given SKU from sales data, product details, product descriptions dictionaries, and also deletes corresponding JSON and text files related to the product.\n",
        "- The function should accept four parameters:\n",
        "  - `sales_data`: A dictionary containing sales data, with SKU as keys.\n",
        "  - `product_details`: A dictionary containing product details, with SKU as keys.\n",
        "  - `product_descriptions`: A dictionary containing product descriptions, with SKU as keys.\n",
        "  - `main_folder`: A string representing the location of the main folder containing subfolders for product details and product descriptions, where corresponding JSON and text files are stored.\n",
        "- The function begins by prompting the user to enter the SKU of the product they wish to delete.\n",
        "  - If the SKU does not exist in the `sales_data` dictionary, print a message indicating that the SKU was not found and exit the function early.\n",
        "- The function then proceeds to delete the entries for the specified SKU from the `sales_data`, `product_details`, and `product_descriptions` dictionaries.\n",
        "- After successfully removing the entries from the dictionaries, the function attempts to delete the corresponding JSON file (containing product details) and text file (containing product descriptions) from the specified `main_folder`. It constructs the paths to these files based on the SKU and the folder structure.\n",
        "  - If the specified files exist, they are deleted, and a success message is printed.\n",
        "  - If a file does not exist, a message indicating that the file was not found is printed.\n",
        "- The function returns a tuple containing the updated `sales_data`, `product_details`, and `product_descriptions` dictionaries.\n",
        "- Usage:\n",
        "  - The function is designed for cases where a product is to be completely removed from the system, including its sales records, details, descriptions, and associated files. It requires the current states of the `sales_data`, `product_details`, and `product_descriptions` dictionaries and the path to the *main_folder* as inputs, and returns their updated states after the deletion.\n"
      ],
      "metadata": {
        "id": "AmVM_kuFT_-g"
      }
    },
    {
      "cell_type": "markdown",
      "source": [
        "### Recommendations\n",
        "- Ensure that the function checks if the given SKU exists in each of the dictionaries before attempting deletion.\n",
        "- Provide the data description and requirements to ChatGPT along with the libraries that you are using and ask it to generate code for the function.\n",
        "- If you get stuck somewhere, you can ask ChatGPT to explain the code to you and you can make edits as required."
      ],
      "metadata": {
        "id": "0SXuiZyiT_-g"
      }
    },
    {
      "cell_type": "code",
      "execution_count": 53,
      "metadata": {
        "id": "GfOZQtEzKk9S"
      },
      "outputs": [],
      "source": [
        "def delete(sales_data, product_details, product_descriptions, main_folder):\n",
        "  \"\"\"\n",
        "  Delete entries for a given SKU from sales data, product details, and product descriptions.\n",
        "  Delete corresponding JSON and text files.\n",
        "\n",
        "  Parameters:\n",
        "      sales_data (dict): The dictionary containing sales data.\n",
        "      product_details (dict): The dictionary containing product details.\n",
        "      product_descriptions (dict): The dictionary containing product descriptions.\n",
        "      main_folder (str): The location of the main folder containing product_details and product_descriptions folders.\n",
        "\n",
        "  Returns:\n",
        "      Tuple: The updated sales data, product details, and product descriptions dictionaries.\n",
        "  \"\"\"\n",
        "  #### YOUR CODE HERE ####\n",
        "  pprint.pprint(product_skus)\n",
        "  sku_input_delete = input(\"Please give the existing SKU from the above list which is exactly 13 characters long : \")\n",
        "\n",
        "  if sku_input_delete not in sales_data.keys():\n",
        "    print(\"Please enter correct SKU,exiting the code !\")\n",
        "    return\n",
        "  else :\n",
        "    sales_data.pop(sku_input_delete)\n",
        "    print(\"Updated sales data dictionary is as follows :- \")\n",
        "    print()\n",
        "    pprint.pprint(sales_data)\n",
        "    print()\n",
        "    product_details.pop(sku_input_delete)\n",
        "    print(\"Updated product details dictionary is as follows :- \")\n",
        "    print()\n",
        "    pprint.pprint(product_details)\n",
        "    print()\n",
        "    product_descriptions.pop(sku_input_delete)\n",
        "    print(\"Updated product descriptions dictionary is as follows :- \")\n",
        "    print()\n",
        "    pprint.pprint(product_descriptions)\n",
        "    print()\n",
        "\n",
        "  product_details_path1 = os.path.join(main_folder,\"product_details\")\n",
        "  existing_sku_1_var = f\"details_{sku_input_delete}.json\"\n",
        "\n",
        "  product_details_path2 = os.path.join(product_details_path1,existing_sku_1_var)\n",
        "\n",
        "  is_dir: bool = os.path.exists(product_details_path2)\n",
        "\n",
        "  if is_dir:\n",
        "    os.remove(product_details_path2)\n",
        "    print(\"Success\")\n",
        "  else :\n",
        "    print(\"File was not found\")\n",
        "\n",
        "  product_descriptions_path1 = os.path.join(main_folder,\"product_description\")\n",
        "  existing_sku_2_var = f\"description_{sku_input_delete}.txt\"\n",
        "\n",
        "  product_descriptions_path2 = os.path.join(product_descriptions_path1,existing_sku_2_var)\n",
        "\n",
        "  is_dir: bool = os.path.exists(product_descriptions_path2)\n",
        "  if is_dir == True:\n",
        "    os.remove(product_descriptions_path2)\n",
        "    print(\"Success\")\n",
        "  else :\n",
        "    print(\"File was not found\")\n",
        "  return sales_data, product_details, product_descriptions"
      ]
    },
    {
      "cell_type": "markdown",
      "source": [
        "Check your code here."
      ],
      "metadata": {
        "id": "tv5_IhiQC9rb"
      }
    },
    {
      "cell_type": "code",
      "source": [
        "delete(sales_data, product_details, product_descriptions, main_folder_address)"
      ],
      "metadata": {
        "id": "5RxHFGhEKKoW",
        "colab": {
          "base_uri": "https://localhost:8080/"
        },
        "outputId": "254d64a2-7e3a-4820-f31c-2ec3c7426969"
      },
      "execution_count": 54,
      "outputs": [
        {
          "output_type": "stream",
          "name": "stdout",
          "text": [
            "['NEKFJOWE9FDIW',\n",
            " 'LKDFJ49LSDJKL',\n",
            " 'HJSKNWK429DJE',\n",
            " 'DJKFIEI432FIE',\n",
            " 'JFKL3940NFKLJ',\n",
            " 'MWKDI3JFK39SL',\n",
            " 'GGOENEBJ079499',\n",
            " 'AISJDKFJW93NJ',\n",
            " 'OWEJL398FWJLK',\n",
            " 'XPLFJW2490XJN']\n",
            "Please give the existing SKU from the above list which is exactly 13 characters long : AISJDKFJW93NJ\n",
            "Updated sales data dictionary is as follows :- \n",
            "\n",
            "{'DJKFIEI432FIE': ['8',\n",
            "                   '10',\n",
            "                   '12',\n",
            "                   '15',\n",
            "                   '20',\n",
            "                   '18',\n",
            "                   '14',\n",
            "                   '13',\n",
            "                   '17',\n",
            "                   '10',\n",
            "                   '8',\n",
            "                   '11',\n",
            "                   '14',\n",
            "                   '16'],\n",
            " 'GGOENEBJ079499': ['15',\n",
            "                    '18',\n",
            "                    '22',\n",
            "                    '25',\n",
            "                    '28',\n",
            "                    '20',\n",
            "                    '17',\n",
            "                    '23',\n",
            "                    '19',\n",
            "                    '21',\n",
            "                    '24',\n",
            "                    '27',\n",
            "                    '18',\n",
            "                    '20'],\n",
            " 'HJSKNWK429DJE': ['30',\n",
            "                   '32',\n",
            "                   '35',\n",
            "                   '38',\n",
            "                   '40',\n",
            "                   '42',\n",
            "                   '45',\n",
            "                   '48',\n",
            "                   '50',\n",
            "                   '52',\n",
            "                   '55',\n",
            "                   '53',\n",
            "                   '49',\n",
            "                   '47'],\n",
            " 'JFKL3940NFKLJ': ['18',\n",
            "                   '20',\n",
            "                   '22',\n",
            "                   '25',\n",
            "                   '28',\n",
            "                   '30',\n",
            "                   '32',\n",
            "                   '35',\n",
            "                   '38',\n",
            "                   '36',\n",
            "                   '33',\n",
            "                   '29',\n",
            "                   '26',\n",
            "                   '24'],\n",
            " 'LKDFJ49LSDJKL': ['25',\n",
            "                   '28',\n",
            "                   '30',\n",
            "                   '32',\n",
            "                   '35',\n",
            "                   '38',\n",
            "                   '42',\n",
            "                   '40',\n",
            "                   '37',\n",
            "                   '34',\n",
            "                   '36',\n",
            "                   '31',\n",
            "                   '29',\n",
            "                   '27'],\n",
            " 'MWKDI3JFK39SL': ['30',\n",
            "                   '35',\n",
            "                   '40',\n",
            "                   '45',\n",
            "                   '50',\n",
            "                   '42',\n",
            "                   '37',\n",
            "                   '38',\n",
            "                   '41',\n",
            "                   '36',\n",
            "                   '33',\n",
            "                   '39',\n",
            "                   '40',\n",
            "                   '44'],\n",
            " 'NEKFJOWE9FDIW': ['12',\n",
            "                   '15',\n",
            "                   '18',\n",
            "                   '20',\n",
            "                   '22',\n",
            "                   '24',\n",
            "                   '21',\n",
            "                   '23',\n",
            "                   '25',\n",
            "                   '28',\n",
            "                   '30',\n",
            "                   '27',\n",
            "                   '26',\n",
            "                   '29'],\n",
            " 'OWEJL398FWJLK': ['20',\n",
            "                   '22',\n",
            "                   '25',\n",
            "                   '28',\n",
            "                   '30',\n",
            "                   '32',\n",
            "                   '35',\n",
            "                   '38',\n",
            "                   '36',\n",
            "                   '33',\n",
            "                   '29',\n",
            "                   '26',\n",
            "                   '24',\n",
            "                   '27'],\n",
            " 'QWERTYUIOPASD': ['1',\n",
            "                   '2',\n",
            "                   '3',\n",
            "                   '4',\n",
            "                   '5',\n",
            "                   '6',\n",
            "                   '7',\n",
            "                   '8',\n",
            "                   '9',\n",
            "                   '10',\n",
            "                   '11',\n",
            "                   '12',\n",
            "                   '13',\n",
            "                   '14'],\n",
            " 'XPLFJW2490XJN': ['5',\n",
            "                   '8',\n",
            "                   '9',\n",
            "                   '12',\n",
            "                   '15',\n",
            "                   '10',\n",
            "                   '14',\n",
            "                   '16',\n",
            "                   '20',\n",
            "                   '18',\n",
            "                   '22',\n",
            "                   '25',\n",
            "                   '19',\n",
            "                   '21']}\n",
            "\n",
            "Updated product details dictionary is as follows :- \n",
            "\n",
            "{'DJKFIEI432FIE': {'availability': 'In stock',\n",
            "                   'brand': 'RunFit',\n",
            "                   'model': 'SpeedX-500',\n",
            "                   'price': '$79.99',\n",
            "                   'product_name': \"Men's Running Shoes\",\n",
            "                   'specifications': 'Size 10, Lightweight design, Breathable '\n",
            "                                     'material'},\n",
            " 'GGOENEBJ079499': {'availability': 'In stock',\n",
            "                    'brand': 'XYZ Electronics',\n",
            "                    'model': 'ABC-2000',\n",
            "                    'price': '$499.99',\n",
            "                    'product_name': 'Smartphone',\n",
            "                    'specifications': '6.5-inch display, 128GB storage, 16MP '\n",
            "                                      'camera'},\n",
            " 'HJSKNWK429DJE': {'availability': 'In stock',\n",
            "                   'brand': 'SoundSync',\n",
            "                   'model': 'TunePro-2022',\n",
            "                   'price': '$89.99',\n",
            "                   'product_name': 'Wireless Earbuds',\n",
            "                   'specifications': 'Bluetooth 5.0, 20 hours battery life, '\n",
            "                                     'Touch controls'},\n",
            " 'JFKL3940NFKLJ': {'availability': 'In stock',\n",
            "                   'brand': 'FitFlex',\n",
            "                   'model': 'StrengthPro-300',\n",
            "                   'price': '$34.99',\n",
            "                   'product_name': 'Resistance Bands Set',\n",
            "                   'specifications': '5 bands, Varying resistance levels, '\n",
            "                                     'Portable'},\n",
            " 'LKDFJ49LSDJKL': {'availability': 'In stock',\n",
            "                   'brand': 'GlowBeauty',\n",
            "                   'model': 'AgeDefy-300',\n",
            "                   'price': '$39.99',\n",
            "                   'product_name': 'Anti-Aging Face Cream',\n",
            "                   'specifications': 'Natural ingredients, Hydrating formula'},\n",
            " 'MWKDI3JFK39SL': {'availability': 'In stock',\n",
            "                   'brand': 'BestBooks',\n",
            "                   'model': None,\n",
            "                   'price': '$14.99',\n",
            "                   'product_name': 'Fictional Novel',\n",
            "                   'specifications': 'Paperback, 300 pages'},\n",
            " 'NEKFJOWE9FDIW': {'availability': 'In stock',\n",
            "                   'brand': 'FamilyFun',\n",
            "                   'model': 'GameNight-2022',\n",
            "                   'price': '$29.99',\n",
            "                   'product_name': 'Board Game',\n",
            "                   'specifications': '2-6 players, Ages 8 and up'},\n",
            " 'OWEJL398FWJLK': {'availability': 'In stock',\n",
            "                   'brand': 'ZenFitness',\n",
            "                   'model': 'EcoMat-500',\n",
            "                   'price': '$19.99',\n",
            "                   'product_name': 'Yoga Mat',\n",
            "                   'specifications': 'Non-slip, 6mm thickness, Eco-friendly '\n",
            "                                     'material'},\n",
            " 'QWERTYUIOPASD': {'availability': 'not in stock',\n",
            "                   'brand': 'apple',\n",
            "                   'model': '16 plus',\n",
            "                   'price': '190000',\n",
            "                   'product_name ': 'Mobile',\n",
            "                   'specifications': '100 gb ram'},\n",
            " 'XPLFJW2490XJN': {'availability': 'In stock',\n",
            "                   'brand': 'CleanTech',\n",
            "                   'model': 'AutoSweep-9000',\n",
            "                   'price': '$249.99',\n",
            "                   'product_name': 'Robot Vacuum Cleaner',\n",
            "                   'specifications': 'Smart navigation, HEPA filter, 90 '\n",
            "                                     'minutes runtime'},\n",
            " 'qazxswedcvfrt': {'availability': 'not in stock',\n",
            "                   'brand': 'RunFit',\n",
            "                   'model': 'SpeedX-500',\n",
            "                   'price': '$79.99',\n",
            "                   'product_name': \"Men's Running Shoes\",\n",
            "                   'specifications': 'Size 10, Lightweight design, Breathable '\n",
            "                                     'material'}}\n",
            "\n",
            "Updated product descriptions dictionary is as follows :- \n",
            "\n",
            "{'DJKFIEI432FIE': 'Elevate your running experience with the RunFit SpeedX-500 '\n",
            "                  \"Men's Running Shoes.\\n\"\n",
            "                  'Designed for performance, these shoes feature a lightweight '\n",
            "                  'design, breathable material, and are available in vibrant '\n",
            "                  'Red, Blue, and classic Black.\\n'\n",
            "                  \"Whether you're a seasoned runner or just starting, these \"\n",
            "                  'shoes provide comfort and support for every stride, '\n",
            "                  'ensuring you reach new milestones effortlessly.',\n",
            " 'GGOENEBJ079499': 'Dive into the future with the XYZ Electronics Smartphone, '\n",
            "                   'model ABC-2000.\\n'\n",
            "                   'Boasting a 6.5-inch display, 128GB storage, and a 16MP '\n",
            "                   'camera, this powerful device redefines the smartphone '\n",
            "                   'experience.\\n'\n",
            "                   'With a sleek design and available in Black, Silver, and '\n",
            "                   'Blue, it combines cutting-edge technology with style, '\n",
            "                   'ensuring you stay connected in the most sophisticated way '\n",
            "                   'possible.',\n",
            " 'HJSKNWK429DJE': \"Immerse yourself in superior audio quality with SoundSync's \"\n",
            "                  'TunePro-2022 Wireless Earbuds.\\n'\n",
            "                  'Featuring Bluetooth 5.0, 20 hours of battery life, and '\n",
            "                  'touch controls, these earbuds deliver a seamless and '\n",
            "                  'immersive listening experience.\\n'\n",
            "                  'Available in Black and White, they combine style with '\n",
            "                  'functionality for music lovers on the go. \\n'\n",
            "                  'With a 4.7/5 stars rating, they stand out as a top choice '\n",
            "                  'in the realm of wireless audio.',\n",
            " 'JFKL3940NFKLJ': \"Embrace versatility in your workouts with FitFlex's \"\n",
            "                  'StrengthPro-300 Resistance Bands Set.\\n'\n",
            "                  'With 5 bands offering varying resistance levels and '\n",
            "                  'portability, this set is your go-to for effective strength '\n",
            "                  'training.\\n'\n",
            "                  'Available in Red, Yellow, and Blue, it caters to different '\n",
            "                  'fitness levels and adds a dynamic dimension to your '\n",
            "                  'exercise routine.',\n",
            " 'LKDFJ49LSDJKL': \"Rediscover youthful radiance with GlowBeauty's AgeDefy-300 \"\n",
            "                  'Anti-Aging Face Cream.\\n'\n",
            "                  'Formulated with natural ingredients and a hydrating '\n",
            "                  'formula, this skincare essential rejuvenates and nourishes '\n",
            "                  'your skin, leaving you with a vibrant and refreshed '\n",
            "                  'complexion.\\n'\n",
            "                  \"With a stellar 4.7/5 stars rating, it's a must-have for \"\n",
            "                  'those embracing the journey to ageless beauty.',\n",
            " 'MWKDI3JFK39SL': 'Immerse yourself in the world of storytelling with '\n",
            "                  \"BestBooks' Fictional Novel.\\n\"\n",
            "                  'This paperback, spanning 300 pages, promises a captivating '\n",
            "                  'journey through the pages of an engaging narrative.\\n'\n",
            "                  'Ideal for avid readers seeking an escape, this novel, with '\n",
            "                  'a 4.6/5 stars rating, is a testament to its ability to '\n",
            "                  'weave a compelling tale that keeps you hooked until the '\n",
            "                  'last page.',\n",
            " 'NEKFJOWE9FDIW': \"Unleash the fun with FamilyFun's GameNight-2022 Board \"\n",
            "                  'Game.\\n'\n",
            "                  'Designed for 2-6 players and suitable for ages 8 and up, '\n",
            "                  'this exciting game promises laughter and bonding moments '\n",
            "                  'for the entire family.\\n'\n",
            "                  \"With a 4.4/5 stars rating, it's a testament to its ability \"\n",
            "                  'to turn any ordinary night into an extraordinary game night '\n",
            "                  'filled with friendly competition and shared joy.',\n",
            " 'OWEJL398FWJLK': \"Elevate your yoga practice with ZenFitness' EcoMat-500 Yoga \"\n",
            "                  'Mat.\\n'\n",
            "                  'Featuring a non-slip surface, 6mm thickness, and '\n",
            "                  'eco-friendly materials, this high-quality mat provides the '\n",
            "                  'perfect foundation for your workouts.\\n'\n",
            "                  'Available in Purple, Green, and Blue, it not only enhances '\n",
            "                  'your comfort but also adds a touch of serenity to your '\n",
            "                  'exercise routine.',\n",
            " 'QWERTYUIOPASD': 'HELLOW best product!!!!!',\n",
            " 'XPLFJW2490XJN': 'Introducing the CleanTech AutoSweep-9000 Robot Vacuum '\n",
            "                  'Cleaner – your smart companion for automated cleaning.\\n'\n",
            "                  'With smart navigation, a HEPA filter, and a runtime of 90 '\n",
            "                  'minutes, this efficient device takes care of your cleaning '\n",
            "                  'needs.\\n'\n",
            "                  'Available in White and Silver, it blends seamlessly into '\n",
            "                  'your home, making cleanliness a hassle-free experience.',\n",
            " 'qazxswedcvfrt': 'Best PRODUCT TILL NOW , GO FOR IT'}\n",
            "\n",
            "Success\n",
            "Success\n"
          ]
        },
        {
          "output_type": "execute_result",
          "data": {
            "text/plain": [
              "({'DJKFIEI432FIE': ['8',\n",
              "   '10',\n",
              "   '12',\n",
              "   '15',\n",
              "   '20',\n",
              "   '18',\n",
              "   '14',\n",
              "   '13',\n",
              "   '17',\n",
              "   '10',\n",
              "   '8',\n",
              "   '11',\n",
              "   '14',\n",
              "   '16'],\n",
              "  'GGOENEBJ079499': ['15',\n",
              "   '18',\n",
              "   '22',\n",
              "   '25',\n",
              "   '28',\n",
              "   '20',\n",
              "   '17',\n",
              "   '23',\n",
              "   '19',\n",
              "   '21',\n",
              "   '24',\n",
              "   '27',\n",
              "   '18',\n",
              "   '20'],\n",
              "  'HJSKNWK429DJE': ['30',\n",
              "   '32',\n",
              "   '35',\n",
              "   '38',\n",
              "   '40',\n",
              "   '42',\n",
              "   '45',\n",
              "   '48',\n",
              "   '50',\n",
              "   '52',\n",
              "   '55',\n",
              "   '53',\n",
              "   '49',\n",
              "   '47'],\n",
              "  'JFKL3940NFKLJ': ['18',\n",
              "   '20',\n",
              "   '22',\n",
              "   '25',\n",
              "   '28',\n",
              "   '30',\n",
              "   '32',\n",
              "   '35',\n",
              "   '38',\n",
              "   '36',\n",
              "   '33',\n",
              "   '29',\n",
              "   '26',\n",
              "   '24'],\n",
              "  'LKDFJ49LSDJKL': ['25',\n",
              "   '28',\n",
              "   '30',\n",
              "   '32',\n",
              "   '35',\n",
              "   '38',\n",
              "   '42',\n",
              "   '40',\n",
              "   '37',\n",
              "   '34',\n",
              "   '36',\n",
              "   '31',\n",
              "   '29',\n",
              "   '27'],\n",
              "  'MWKDI3JFK39SL': ['30',\n",
              "   '35',\n",
              "   '40',\n",
              "   '45',\n",
              "   '50',\n",
              "   '42',\n",
              "   '37',\n",
              "   '38',\n",
              "   '41',\n",
              "   '36',\n",
              "   '33',\n",
              "   '39',\n",
              "   '40',\n",
              "   '44'],\n",
              "  'NEKFJOWE9FDIW': ['12',\n",
              "   '15',\n",
              "   '18',\n",
              "   '20',\n",
              "   '22',\n",
              "   '24',\n",
              "   '21',\n",
              "   '23',\n",
              "   '25',\n",
              "   '28',\n",
              "   '30',\n",
              "   '27',\n",
              "   '26',\n",
              "   '29'],\n",
              "  'OWEJL398FWJLK': ['20',\n",
              "   '22',\n",
              "   '25',\n",
              "   '28',\n",
              "   '30',\n",
              "   '32',\n",
              "   '35',\n",
              "   '38',\n",
              "   '36',\n",
              "   '33',\n",
              "   '29',\n",
              "   '26',\n",
              "   '24',\n",
              "   '27'],\n",
              "  'XPLFJW2490XJN': ['5',\n",
              "   '8',\n",
              "   '9',\n",
              "   '12',\n",
              "   '15',\n",
              "   '10',\n",
              "   '14',\n",
              "   '16',\n",
              "   '20',\n",
              "   '18',\n",
              "   '22',\n",
              "   '25',\n",
              "   '19',\n",
              "   '21'],\n",
              "  'QWERTYUIOPASD': ['1',\n",
              "   '2',\n",
              "   '3',\n",
              "   '4',\n",
              "   '5',\n",
              "   '6',\n",
              "   '7',\n",
              "   '8',\n",
              "   '9',\n",
              "   '10',\n",
              "   '11',\n",
              "   '12',\n",
              "   '13',\n",
              "   '14']},\n",
              " {'NEKFJOWE9FDIW': {'product_name': 'Board Game',\n",
              "   'brand': 'FamilyFun',\n",
              "   'model': 'GameNight-2022',\n",
              "   'specifications': '2-6 players, Ages 8 and up',\n",
              "   'price': '$29.99',\n",
              "   'availability': 'In stock'},\n",
              "  'LKDFJ49LSDJKL': {'product_name': 'Anti-Aging Face Cream',\n",
              "   'brand': 'GlowBeauty',\n",
              "   'model': 'AgeDefy-300',\n",
              "   'specifications': 'Natural ingredients, Hydrating formula',\n",
              "   'price': '$39.99',\n",
              "   'availability': 'In stock'},\n",
              "  'HJSKNWK429DJE': {'product_name': 'Wireless Earbuds',\n",
              "   'brand': 'SoundSync',\n",
              "   'model': 'TunePro-2022',\n",
              "   'specifications': 'Bluetooth 5.0, 20 hours battery life, Touch controls',\n",
              "   'price': '$89.99',\n",
              "   'availability': 'In stock'},\n",
              "  'DJKFIEI432FIE': {'product_name': \"Men's Running Shoes\",\n",
              "   'brand': 'RunFit',\n",
              "   'model': 'SpeedX-500',\n",
              "   'specifications': 'Size 10, Lightweight design, Breathable material',\n",
              "   'price': '$79.99',\n",
              "   'availability': 'In stock'},\n",
              "  'JFKL3940NFKLJ': {'product_name': 'Resistance Bands Set',\n",
              "   'brand': 'FitFlex',\n",
              "   'model': 'StrengthPro-300',\n",
              "   'specifications': '5 bands, Varying resistance levels, Portable',\n",
              "   'price': '$34.99',\n",
              "   'availability': 'In stock'},\n",
              "  'MWKDI3JFK39SL': {'product_name': 'Fictional Novel',\n",
              "   'brand': 'BestBooks',\n",
              "   'model': None,\n",
              "   'specifications': 'Paperback, 300 pages',\n",
              "   'price': '$14.99',\n",
              "   'availability': 'In stock'},\n",
              "  'GGOENEBJ079499': {'product_name': 'Smartphone',\n",
              "   'brand': 'XYZ Electronics',\n",
              "   'model': 'ABC-2000',\n",
              "   'specifications': '6.5-inch display, 128GB storage, 16MP camera',\n",
              "   'price': '$499.99',\n",
              "   'availability': 'In stock'},\n",
              "  'OWEJL398FWJLK': {'product_name': 'Yoga Mat',\n",
              "   'brand': 'ZenFitness',\n",
              "   'model': 'EcoMat-500',\n",
              "   'specifications': 'Non-slip, 6mm thickness, Eco-friendly material',\n",
              "   'price': '$19.99',\n",
              "   'availability': 'In stock'},\n",
              "  'XPLFJW2490XJN': {'product_name': 'Robot Vacuum Cleaner',\n",
              "   'brand': 'CleanTech',\n",
              "   'model': 'AutoSweep-9000',\n",
              "   'specifications': 'Smart navigation, HEPA filter, 90 minutes runtime',\n",
              "   'price': '$249.99',\n",
              "   'availability': 'In stock'},\n",
              "  'QWERTYUIOPASD': {'product_name ': 'Mobile',\n",
              "   'brand': 'apple',\n",
              "   'model': '16 plus',\n",
              "   'specifications': '100 gb ram',\n",
              "   'price': '190000',\n",
              "   'availability': 'not in stock'},\n",
              "  'qazxswedcvfrt': {'product_name': \"Men's Running Shoes\",\n",
              "   'brand': 'RunFit',\n",
              "   'model': 'SpeedX-500',\n",
              "   'specifications': 'Size 10, Lightweight design, Breathable material',\n",
              "   'price': '$79.99',\n",
              "   'availability': 'not in stock'}},\n",
              " {'LKDFJ49LSDJKL': \"Rediscover youthful radiance with GlowBeauty's AgeDefy-300 Anti-Aging Face Cream.\\nFormulated with natural ingredients and a hydrating formula, this skincare essential rejuvenates and nourishes your skin, leaving you with a vibrant and refreshed complexion.\\nWith a stellar 4.7/5 stars rating, it's a must-have for those embracing the journey to ageless beauty.\",\n",
              "  'HJSKNWK429DJE': \"Immerse yourself in superior audio quality with SoundSync's TunePro-2022 Wireless Earbuds.\\nFeaturing Bluetooth 5.0, 20 hours of battery life, and touch controls, these earbuds deliver a seamless and immersive listening experience.\\nAvailable in Black and White, they combine style with functionality for music lovers on the go. \\nWith a 4.7/5 stars rating, they stand out as a top choice in the realm of wireless audio.\",\n",
              "  'XPLFJW2490XJN': 'Introducing the CleanTech AutoSweep-9000 Robot Vacuum Cleaner – your smart companion for automated cleaning.\\nWith smart navigation, a HEPA filter, and a runtime of 90 minutes, this efficient device takes care of your cleaning needs.\\nAvailable in White and Silver, it blends seamlessly into your home, making cleanliness a hassle-free experience.',\n",
              "  'NEKFJOWE9FDIW': \"Unleash the fun with FamilyFun's GameNight-2022 Board Game.\\nDesigned for 2-6 players and suitable for ages 8 and up, this exciting game promises laughter and bonding moments for the entire family.\\nWith a 4.4/5 stars rating, it's a testament to its ability to turn any ordinary night into an extraordinary game night filled with friendly competition and shared joy.\",\n",
              "  'GGOENEBJ079499': 'Dive into the future with the XYZ Electronics Smartphone, model ABC-2000.\\nBoasting a 6.5-inch display, 128GB storage, and a 16MP camera, this powerful device redefines the smartphone experience.\\nWith a sleek design and available in Black, Silver, and Blue, it combines cutting-edge technology with style, ensuring you stay connected in the most sophisticated way possible.',\n",
              "  'DJKFIEI432FIE': \"Elevate your running experience with the RunFit SpeedX-500 Men's Running Shoes.\\nDesigned for performance, these shoes feature a lightweight design, breathable material, and are available in vibrant Red, Blue, and classic Black.\\nWhether you're a seasoned runner or just starting, these shoes provide comfort and support for every stride, ensuring you reach new milestones effortlessly.\",\n",
              "  'MWKDI3JFK39SL': \"Immerse yourself in the world of storytelling with BestBooks' Fictional Novel.\\nThis paperback, spanning 300 pages, promises a captivating journey through the pages of an engaging narrative.\\nIdeal for avid readers seeking an escape, this novel, with a 4.6/5 stars rating, is a testament to its ability to weave a compelling tale that keeps you hooked until the last page.\",\n",
              "  'JFKL3940NFKLJ': \"Embrace versatility in your workouts with FitFlex's StrengthPro-300 Resistance Bands Set.\\nWith 5 bands offering varying resistance levels and portability, this set is your go-to for effective strength training.\\nAvailable in Red, Yellow, and Blue, it caters to different fitness levels and adds a dynamic dimension to your exercise routine.\",\n",
              "  'OWEJL398FWJLK': \"Elevate your yoga practice with ZenFitness' EcoMat-500 Yoga Mat.\\nFeaturing a non-slip surface, 6mm thickness, and eco-friendly materials, this high-quality mat provides the perfect foundation for your workouts.\\nAvailable in Purple, Green, and Blue, it not only enhances your comfort but also adds a touch of serenity to your exercise routine.\",\n",
              "  'QWERTYUIOPASD': 'HELLOW best product!!!!!',\n",
              "  'qazxswedcvfrt': 'Best PRODUCT TILL NOW , GO FOR IT'})"
            ]
          },
          "metadata": {},
          "execution_count": 54
        }
      ]
    },
    {
      "cell_type": "markdown",
      "source": [
        "### Checklist\n",
        "- Defined the `delete()` function with the specified parameters\n",
        "- Checked if the given SKU exists in each dictionary before attempting deletion\n",
        "- Deleted the corresponding entry for the given SKU from each dictionary if it exists\n",
        "- Deleted the corresponding JSON and TXT files\n",
        "- Provided appropriate feedback messages indicating the outcome of the deletion process"
      ],
      "metadata": {
        "id": "lTP2A3dpUNRI"
      }
    },
    {
      "cell_type": "markdown",
      "metadata": {
        "id": "vU3YMmGlNTQx"
      },
      "source": [
        "# Stage 6 - Bringing it all together\n",
        "In this stage, you will combine all the functions you have created so far into one main function called `user_menu()`. This function will work as an interface for the user where they can choose the operation they want to perform. If they choose to exit, the function will write the data into the disk. Therefore, besides the `user_menu()` function, you will also define the `dump_data()` function which writes the data into the disk.\n",
        "\n",
        "You will do this by performing the following tasks:\n",
        "- Task 17 - Save data to disk\n",
        "- Task 18 - Create a user menu"
      ]
    },
    {
      "cell_type": "markdown",
      "source": [
        "## Task 17 - Save data to disk"
      ],
      "metadata": {
        "id": "ccFlC9OGdejQ"
      }
    },
    {
      "cell_type": "markdown",
      "source": [
        "### Description\n",
        "\n",
        "In this task, learners are tasked with implementing a Python function named `dump_data()` that automates the process of persisting sales data, product details, and product descriptions into structured files within a specified directory. The function should efficiently organize and dump each type of data into its corresponding file format: CSV for sales data, JSON for product details, and plain text for product descriptions. This exercise challenges learners to apply file I/O operations, directory management, and data serialization techniques in Python, ensuring they gain practical experience with data persistence, manipulation, and organization on the filesystem."
      ],
      "metadata": {
        "id": "UqDs8HZ7dYZx"
      }
    },
    {
      "cell_type": "markdown",
      "source": [
        "### Requirements\n",
        "- Define a function named `dump_data()` that dumps product details, sales data, and product descriptions into files within a specified main folder.\n",
        "- The function should accept four parameters:\n",
        "  - `sales_data`: A dictionary containing sales data, with SKU as keys and a list of sales quantities for the last 14 days as values.\n",
        "  - `product_details`: A dictionary containing product details, with SKU as keys and details as values. Details include attributes like name, brand, model, specifications, price, and availability.\n",
        "  - `product_descriptions`: A dictionary containing product descriptions, with SKU as keys and the textual description of the product as values.\n",
        "  - `main_folder`: A string representing the location of the main folder, which should contain `product_details` and `product_descriptions` subfolders.\n",
        "- The function performs the following operations:\n",
        "  - Dumps the `sales_data` into a CSV file named `sales_data.csv` located in the *main_folder*. Each row in the CSV file represents the sales data for a product, with fields for the SKU and sales quantities for each of the 14 days.\n",
        "  - Dumps each entry in `product_details` into a separate JSON file within the `product_details` subfolder of the `main_folder`. Each file is named after the SKU of the product and contains the details of that product in JSON format.\n",
        "  - Dumps each product description from `product_descriptions` into a separate TXT file within the `product_descriptions` subfolder of the *main_folder*. Each file is named after the SKU of the product and contains the textual description of that product.\n",
        "- Prior to dumping product details and descriptions, the function checks if the respective subfolders exist. If not, it creates them.\n",
        "- Usage:\n",
        "  - The function is designed to persist the current state of sales data, product details, and product descriptions to the filesystem, allowing for data backup and recovery. It organizes the persisted data into a structured directory and file system based on the specified *main_folder* path.\n"
      ],
      "metadata": {
        "id": "ffUjhTwTdYRw"
      }
    },
    {
      "cell_type": "markdown",
      "source": [
        "### Recommendations\n",
        "- Ensure that you are writing the data down with the same folder structure as the original folder.\n",
        "- You may want to learn more about the `DictWriter()` object from the `csv` library to write the sales data.\n",
        "- Make sure that you open files with a 'w' parameter so that you are overwriting the files and not appending to them.\n",
        "- Provide the data description and requirements to ChatGPT along with the libraries that you are using and ask it to generate code for the function.\n",
        "- If you get stuck somewhere, you can ask ChatGPT to explain the code to you and you can make edits as required."
      ],
      "metadata": {
        "id": "bvtuWxwvdYOD"
      }
    },
    {
      "cell_type": "code",
      "source": [
        "def dump_data(sales_data, product_details, product_descriptions, main_folder):\n",
        "  \"\"\"\n",
        "  Dump product details, sales data, and product descriptions to files.\n",
        "\n",
        "  Parameters:\n",
        "      sales_data (dict): The dictionary containing sales data.\n",
        "      product_details (dict): The dictionary containing product details.\n",
        "      product_descriptions (dict): The dictionary containing product descriptions.\n",
        "      main_folder (str): The location of the main folder containing product_details and product_descriptions folders.\n",
        "  \"\"\"\n",
        "  #### YOUR CODE HERE ###\n",
        "\n",
        "  # Dump sales data into CSV file\n",
        "  sales_file_path = os.path.join(main_folder, 'sales_data.csv')\n",
        "  with open(sales_file_path, 'w', newline='') as csvfile:\n",
        "      writer = csv.writer(csvfile)\n",
        "\n",
        "      for sku, sales in sales_data.items():\n",
        "          writer.writerow([sku] + sales)\n",
        "\n",
        "  # Create product_details subfolder if it doesn't exist\n",
        "  product_details_folder = os.path.join(main_folder, 'product_details')\n",
        "  if not os.path.exists(product_details_folder):\n",
        "      os.makedirs(product_details_folder)\n",
        "\n",
        "  # Dump product details into JSON files\n",
        "  for sku, details in product_details.items():\n",
        "\n",
        "    details_file_path = os.path.join(product_details_folder, f'details_{sku}.json')\n",
        "    with open(details_file_path, 'w') as jsonfile:\n",
        "      json.dump(details, jsonfile)\n",
        "\n",
        "  # Create product_descriptions subfolder if it doesn't exist\n",
        "  product_descriptions_folder = os.path.join(main_folder, 'product_description')\n",
        "  if not os.path.exists(product_descriptions_folder):\n",
        "      os.makedirs(product_descriptions_folder)\n",
        "\n",
        "  # Dump product descriptions into TXT files\n",
        "  for sku, description in product_descriptions.items():\n",
        "      description_file_path = os.path.join(product_descriptions_folder, f'description_{sku}.txt')\n",
        "      with open(description_file_path, 'w') as txtfile:\n",
        "          txtfile.write(description)"
      ],
      "metadata": {
        "id": "PMuHRcMELNoq"
      },
      "execution_count": 55,
      "outputs": []
    },
    {
      "cell_type": "markdown",
      "source": [
        "Check your code here."
      ],
      "metadata": {
        "id": "Q0IRwQvIDAaB"
      }
    },
    {
      "cell_type": "code",
      "source": [
        "dump_data(sales_data, product_details, product_descriptions, main_folder_address)"
      ],
      "metadata": {
        "id": "JvvgYdPUDBf6"
      },
      "execution_count": 56,
      "outputs": []
    },
    {
      "cell_type": "markdown",
      "source": [
        "### Checklist\n",
        "- Defined the `dump_data()` function with the specified parameters\n",
        "- Saved the sales data, product details and the product description into the respective files\n",
        "- Ensured that the folder structure remains the same for future use"
      ],
      "metadata": {
        "id": "N5PVdR8mATvh"
      }
    },
    {
      "cell_type": "markdown",
      "source": [
        "## Task 18 - Create a user menu"
      ],
      "metadata": {
        "id": "M157y1lXAloF"
      }
    },
    {
      "cell_type": "markdown",
      "source": [
        "### Description\n",
        "\n",
        "In this task, you will implement a Python function named `user_menu()` to act as the central interface for a product data management system. This function will integrate create, read, update, and delete (CRUD) operations, allowing users to manage product information interactively from the command line. Your implementation should handle data loading from a specified directory, user input processing to select the desired operation, and data persistence upon exit. This exercise aims to reinforce skills in Python related to function definition, user input handling, conditional logic, and file I/O operations, encapsulating them within a practical application for data management.\n"
      ],
      "metadata": {
        "id": "-hqjWCtJAu4P"
      }
    },
    {
      "cell_type": "markdown",
      "source": [
        "### Requirements\n",
        "- Define a function named `user_menu()` that serves as the main interface for managing product data, including create, read, update, and delete (CRUD) operations.\n",
        "- The function should accept one parameter:\n",
        "  - *main_folder*: A string representing the location of the main folder that contains or will contain the persisted data.\n",
        "- The function performs the following tasks:\n",
        "  - Initially, it loads existing product data from files located within *main_folder* by calling a `load_data()` function. This step assumes that `load_data()` returns three dictionaries: `product_details`, `sales_data`, and `product_descriptions`, representing the current state of the product data.\n",
        "  - Displays a menu with options to create new product data, read existing data, update data, delete data, or exit the program.\n",
        "  - Based on the user's input, the function directs to the respective operation by calling other functions (`create()`, `read()`, `update()`, `delete()`) and passing the necessary parameters to them.\n",
        "    - For creating, reading, and updating operations, it uses the current state of `product_details`, `sales_data`, and `product_descriptions` as arguments.\n",
        "    - For the delete operation, it also passes the *main_folder* path to specify where the files related to the deleted product should be removed from.\n",
        "  - Upon choosing to exit (option 5), it calls a *dump_data()* function to persist the latest state of the product data to files within the *main_folder* before exiting the program.\n",
        "- The function loops continuously, allowing the user to perform multiple operations until the exit option is selected.\n",
        "- The function ensures robust user interaction by handling invalid choices and guiding the user back to the menu options.\n",
        "- Usage:\n",
        "  - The function is designed as the central hub for a product data management system, providing a user-friendly command-line interface for performing CRUD operations on product data. It integrates file handling for data persistence, ensuring that changes are saved and can be reloaded in future sessions.\n"
      ],
      "metadata": {
        "id": "b3Vm7wGJAtuo"
      }
    },
    {
      "cell_type": "markdown",
      "source": [
        "### Recommendations\n",
        "- Provide the data description and requirements to ChatGPT along with the libraries that you are using and ask it to generate code for the function.\n",
        "- If you get stuck somewhere, you can ask ChatGPT to explain the code to you and you can make edits as required."
      ],
      "metadata": {
        "id": "dvuc2ZfHA2r6"
      }
    },
    {
      "cell_type": "code",
      "source": [
        "def user_menu(main_folder):\n",
        "  \"\"\"\n",
        "  Main menu to manage product data including create, read, update, and delete operations.\n",
        "  \"\"\"\n",
        "\n",
        "\n",
        "  #### YOUR CODE HERE ####\n",
        "  pprint.pprint('''Welcome to the Program where three dictionaries are present called as :-\n",
        "                    a) product_details dictionary where key are SKU and\n",
        "                    values are its details of the product.\n",
        "                    b) sales_data dictionary where key are SKU and\n",
        "                    values are its data for 14 days.\n",
        "                    c) product_description dictionary where key are SKU\n",
        "                    values are its description of the product.\n",
        "                You will get to see the dictionaries as under in a tuple\n",
        "                form. Please sit back and relax and wait for the\n",
        "                program to run. THANK YOU!''')\n",
        "  product_details,sales_data,product_descriptions = load_data(main_folder_address)\n",
        "\n",
        "  while True:\n",
        "    print(\"\\nMain Menu: \")\n",
        "    print(\"1. Create \")\n",
        "    print(\"2. Read \")\n",
        "    print(\"3. Update \")\n",
        "    print(\"4. Delete \")\n",
        "    print(\"5. Exit \")\n",
        "\n",
        "    choice = input(\"Please Enter your choice (1-5): \")\n",
        "\n",
        "    if choice == \"1\":\n",
        "      product_details,sales_data,product_descriptions = create(product_details, sales_data, product_descriptions)\n",
        "      dump_data(sales_data, product_details, product_descriptions, main_folder_address)\n",
        "    elif choice == \"2\":\n",
        "      read(product_details, sales_data, product_descriptions)\n",
        "    elif choice == \"3\":\n",
        "      product_details,sales_data,product_descriptions = update(product_details, sales_data, product_descriptions)\n",
        "      dump_data(sales_data, product_details, product_descriptions, main_folder_address)\n",
        "    elif choice == \"4\":\n",
        "      product_details,sales_data,product_descriptions = delete(sales_data, product_details, product_descriptions, main_folder_address)\n",
        "      dump_data(sales_data, product_details, product_descriptions, main_folder_address)\n",
        "    elif choice == \"5\":\n",
        "      dump_data(sales_data, product_details, product_descriptions,main_folder_address)\n",
        "      print(\"Exiting the function. Thank You ! BBYE\")\n",
        "      break\n",
        "    else :\n",
        "      print(\"Invalid choice, Pls enter a correct no between 1 - 5\")\n",
        "\n",
        "\n",
        "\n"
      ],
      "metadata": {
        "id": "3KWsmOSwfG6Y"
      },
      "execution_count": 57,
      "outputs": []
    },
    {
      "cell_type": "markdown",
      "source": [
        "Check your code here."
      ],
      "metadata": {
        "id": "FECddsr3DDe3"
      }
    },
    {
      "cell_type": "code",
      "source": [
        "user_menu(main_folder_address)"
      ],
      "metadata": {
        "id": "1geiXwdRDD2l",
        "colab": {
          "base_uri": "https://localhost:8080/"
        },
        "outputId": "b987b0ec-cb0a-479b-f574-b1721e8fd4a2"
      },
      "execution_count": 58,
      "outputs": [
        {
          "output_type": "stream",
          "name": "stdout",
          "text": [
            "('Welcome to the Program where three dictionaries are present called as :-\\n'\n",
            " '                    a) product_details dictionary where key are SKU and\\n'\n",
            " '                    values are its details of the product.\\n'\n",
            " '                    b) sales_data dictionary where key are SKU and\\n'\n",
            " '                    values are its data for 14 days.\\n'\n",
            " '                    c) product_description dictionary where key are SKU\\n'\n",
            " '                    values are its description of the product.\\n'\n",
            " '                You will get to see the dictionaries as under in a tuple\\n'\n",
            " '                form. Please sit back and relax and wait for the\\n'\n",
            " '                program to run. THANK YOU!')\n",
            "\n",
            "Main Menu: \n",
            "1. Create \n",
            "2. Read \n",
            "3. Update \n",
            "4. Delete \n",
            "5. Exit \n",
            "Please Enter your choice (1-5): 5\n",
            "Exiting the function. Thank You ! BBYE\n"
          ]
        }
      ]
    },
    {
      "cell_type": "markdown",
      "source": [
        "### Checklist\n",
        "- Defined the `user_menu()` function with the specified parameter for the main folder location\n",
        "- Loaded existing product data (`product_details`, `sales_data`, `product_descriptions`) from the specified main folder using a `load_data()` function at the start\n",
        "- Displayed a user-friendly menu that listed all possible operations: Create, Read, Update, Delete, and Exit\n",
        "- Processed user input to navigate through the menu options, calling the relevant function (`create()`, `read()`, `update()`, `delete()`) based on the selection and updated the product data accordingly. If \"Exit\" was selected, saved the current state of the product data into the main folder and exited the program\n",
        "- Ensured robust input validation, handling invalid choices by displaying an error message and prompting the user again\n",
        "- Before exiting the program, ensured data persistence by saving the updated product data to the specified main folder\n",
        "- Maintained the integrity of the folder structure during the function's operation to ensure consistency for future use\n"
      ],
      "metadata": {
        "id": "0jORXEqHBNtz"
      }
    },
    {
      "cell_type": "code",
      "source": [],
      "metadata": {
        "id": "Dq7kPDNyCdIC"
      },
      "execution_count": null,
      "outputs": []
    }
  ],
  "metadata": {
    "colab": {
      "provenance": []
    },
    "kernelspec": {
      "display_name": "Python 3",
      "name": "python3"
    },
    "language_info": {
      "name": "python"
    }
  },
  "nbformat": 4,
  "nbformat_minor": 0
}